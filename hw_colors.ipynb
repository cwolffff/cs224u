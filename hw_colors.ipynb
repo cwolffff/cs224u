{
 "cells": [
  {
   "cell_type": "markdown",
   "metadata": {},
   "source": [
    "# Homework and bake-off: pragmatic color descriptions"
   ]
  },
  {
   "cell_type": "code",
   "execution_count": 1,
   "metadata": {},
   "outputs": [],
   "source": [
    "__author__ = \"Christopher Potts\"\n",
    "__version__ = \"CS224u, Stanford, Summer 2022\""
   ]
  },
  {
   "cell_type": "markdown",
   "metadata": {},
   "source": [
    "## Contents\n",
    "\n",
    "1. [Overview](#Overview)\n",
    "1. [Set-up](#Set-up)\n",
    "1. [All two-word examples as a dev corpus](#All-two-word-examples-as-a-dev-corpus)\n",
    "1. [Dev dataset](#Dev-dataset)\n",
    "1. [Random train–test split for development](#Random-train–test-split-for-development)\n",
    "1. [Question 1: Improve the tokenizer [1 point]](#Question-1:-Improve-the-tokenizer-[1-point])\n",
    "1. [Use the tokenizer](#Use-the-tokenizer)\n",
    "1. [Question 2: Improve the color representations [1 point]](#Question-2:-Improve-the-color-representations-[1-point])\n",
    "1. [Use the color representer](#Use-the-color-representer)\n",
    "1. [Initial model](#Initial-model)\n",
    "1. [Question 3: GloVe embeddings [1 point]](#Question-3:-GloVe-embeddings-[1-point])\n",
    "1. [Try the GloVe representations](#Try-the-GloVe-representations)\n",
    "1. [Question 4: Color context [3 points]](#Question-4:-Color-context-[3-points])\n",
    "1. [Your original system [3 points]](#Your-original-system-[3-points])\n",
    "1. [Bakeoff [1 point]](#Bakeoff-[1-point])\n",
    "1. [Submission Instruction](#Submission-Instruction)"
   ]
  },
  {
   "cell_type": "markdown",
   "metadata": {},
   "source": [
    "## Overview\n",
    "\n",
    "This homework and associated bake-off are oriented toward building an effective system for generating color descriptions that are pragmatic in the sense that they would help a reader/listener figure out which color was being referred to in a shared context consisting of a target color (whose identity is known only to the describer/speaker) and a set of distractors.\n",
    "\n",
    "The notebook [colors_overview.ipynb](colors_overview.ipynb) should be studied before work on this homework begins. That notebook provides backgroud on the task, the dataset, and the modeling code that you will be using and adapting.\n",
    "\n",
    "The homework questions are more open-ended than previous ones have been. Rather than asking you to implement pre-defined functionality, they ask you to try to improve baseline components of the full system in ways that you find to be effective. As usual, this culminates in a prompt asking you to develop a novel system for entry into the bake-off. In this case, though, the work you do for the homework will likely be directly incorporated into that system (not required, but an efficient way to work at the very least)."
   ]
  },
  {
   "cell_type": "markdown",
   "metadata": {},
   "source": [
    "## Set-up"
   ]
  },
  {
   "cell_type": "markdown",
   "metadata": {},
   "source": [
    "See [colors_overview.ipynb](colors_overview.ipynb) for set-up in instructions and other background details."
   ]
  },
  {
   "cell_type": "code",
   "execution_count": 2,
   "metadata": {},
   "outputs": [],
   "source": [
    "from colors import ColorsCorpusReader\n",
    "from nltk.translate.bleu_score import corpus_bleu\n",
    "import numpy as np\n",
    "import os\n",
    "import pandas as pd\n",
    "from sklearn.model_selection import train_test_split\n",
    "from torch_color_describer import ContextualColorDescriber\n",
    "from torch_color_describer import create_example_dataset\n",
    "\n",
    "import utils\n",
    "from utils import START_SYMBOL, END_SYMBOL, UNK_SYMBOL"
   ]
  },
  {
   "cell_type": "code",
   "execution_count": 3,
   "metadata": {},
   "outputs": [],
   "source": [
    "utils.fix_random_seeds()"
   ]
  },
  {
   "cell_type": "code",
   "execution_count": 4,
   "metadata": {},
   "outputs": [],
   "source": [
    "COLORS_SRC_FILENAME = os.path.join(\n",
    "    \"data\", \"colors\", \"filteredCorpus.csv\")"
   ]
  },
  {
   "cell_type": "markdown",
   "metadata": {},
   "source": [
    "## All two-word examples as a dev corpus\n",
    "\n",
    "So that you don't have to sit through excessively long training runs during development, I suggest working with the two-word-only subset of the corpus until you enter into the late stages of system testing."
   ]
  },
  {
   "cell_type": "code",
   "execution_count": 5,
   "metadata": {},
   "outputs": [],
   "source": [
    "dev_corpus = ColorsCorpusReader(\n",
    "    COLORS_SRC_FILENAME,\n",
    "    word_count=2,\n",
    "    normalize_colors=True)"
   ]
  },
  {
   "cell_type": "code",
   "execution_count": 6,
   "metadata": {},
   "outputs": [],
   "source": [
    "dev_examples = list(dev_corpus.read())"
   ]
  },
  {
   "cell_type": "markdown",
   "metadata": {},
   "source": [
    "This subset has about one-third the examples of the full corpus:"
   ]
  },
  {
   "cell_type": "code",
   "execution_count": 7,
   "metadata": {},
   "outputs": [
    {
     "data": {
      "text/plain": [
       "13890"
      ]
     },
     "execution_count": 7,
     "metadata": {},
     "output_type": "execute_result"
    }
   ],
   "source": [
    "len(dev_examples)"
   ]
  },
  {
   "cell_type": "markdown",
   "metadata": {},
   "source": [
    "We __should__ worry that it's not a fully representative sample. Most of the descriptions in the full corpus are shorter, and a large proportion are longer. So this dataset is mainly for debugging, development, and general hill-climbing. All findings should be validated on the full dataset at some point."
   ]
  },
  {
   "cell_type": "markdown",
   "metadata": {},
   "source": [
    "## Dev dataset\n",
    "\n",
    "The first step is to extract the raw color and raw texts from the corpus:"
   ]
  },
  {
   "cell_type": "code",
   "execution_count": 8,
   "metadata": {},
   "outputs": [],
   "source": [
    "dev_rawcols, dev_texts = zip(*[[ex.colors, ex.contents] for ex in dev_examples])"
   ]
  },
  {
   "cell_type": "markdown",
   "metadata": {},
   "source": [
    "The raw color representations are suitable inputs to a model, but the texts are just strings, so they can't really be processed as-is. Question 1 asks you to do some tokenizing!"
   ]
  },
  {
   "cell_type": "markdown",
   "metadata": {},
   "source": [
    "## Random train–test split for development\n",
    "\n",
    "For the sake of development runs, we create a random train–test split:"
   ]
  },
  {
   "cell_type": "code",
   "execution_count": 38,
   "metadata": {},
   "outputs": [],
   "source": [
    "dev_rawcols_train, dev_rawcols_test, dev_texts_train, dev_texts_test = \\\n",
    "    train_test_split(dev_rawcols, dev_texts)"
   ]
  },
  {
   "cell_type": "markdown",
   "metadata": {},
   "source": [
    "## Question 1: Improve the tokenizer [1 point]\n",
    "\n",
    "This is the first required question – the first required modification to the default pipeline.\n",
    "\n",
    "The function `tokenize_example` simply splits its string on whitespace and adds the required start and end symbols:"
   ]
  },
  {
   "cell_type": "code",
   "execution_count": 492,
   "metadata": {},
   "outputs": [],
   "source": [
    "# Moo implementation\n",
    "import re\n",
    "\n",
    "WORD_RE_STR = r\"\"\"\n",
    "(?:[a-z][a-z'\\-_]+[a-z])       # Words with apostrophes or dashes.\n",
    "|\n",
    "(?:[+\\-]?\\d+[,/.:-]\\d+[+\\-]?)  # Numbers, including fractions, decimals.\n",
    "|\n",
    "(?:[\\w_]+)                     # Words without apostrophes or dashes.\n",
    "|\n",
    "(?:\\.(?:\\s*\\.){1,})            # Ellipsis dots.\n",
    "|\n",
    "(?:\\*{1,})                     # Asterisk runs.\n",
    "|\n",
    "(?:\\S)                         # Everything else that isn't whitespace.\n",
    "\"\"\"\n",
    "\n",
    "WORD_RE = re.compile(r\"(%s)\" % WORD_RE_STR, re.VERBOSE | re.I | re.UNICODE)\n",
    "\n",
    "def segmenter(word):\n",
    "    for ending in ['er', 'est', 'ish']:\n",
    "        if word.endswith(ending):\n",
    "            return [word[:-len(ending)], '+' + ending]\n",
    "    return [word]\n",
    "\n",
    "def tokenize_example(s):\n",
    "    #s = s.lower()\n",
    "    words = WORD_RE.findall(s)\n",
    "    words = [w.lower() for w in words]\n",
    "    heuristic_ending_toknize = [seg for w in words for seg in segmenter(w)]\n",
    "    return [START_SYMBOL] + heuristic_ending_toknize + [END_SYMBOL]\n",
    "\n",
    "    #return [START_SYMBOL] + s.split() + [END_SYMBOL]"
   ]
  },
  {
   "cell_type": "code",
   "execution_count": 523,
   "metadata": {},
   "outputs": [],
   "source": [
    "# Doggo implementation\n",
    "replacements = [\n",
    "    # things to remove\n",
    "    (\".\", \"\"),\n",
    "    (\"'\", \"\"),\n",
    "    (\"!\", \"\"),\n",
    "    (\"(\", \"\"),\n",
    "    (\")\", \"\"),\n",
    "    (\"?\", \"\"),\n",
    "    (\",\", \"\"),\n",
    "    # things to replace\n",
    "    (\"/\", \" \"),\n",
    "    (\"-\", \" \"),\n",
    "]\n",
    "\n",
    "weird_answers = [\n",
    "    \"oh boy\",\n",
    "    \"no worries\",\n",
    "    \"thank you\",\n",
    "    \"you too\",\n",
    "    \"no kidding\",\n",
    "    \"wow ummmm\",\n",
    "    \"good job\",\n",
    "    \"nice job\",\n",
    "    \"great job\",\n",
    "    \"tough one\",\n",
    "]\n",
    "\n",
    "weird_tokens = set([\n",
    "    \"hi\",\n",
    "    \":\",\n",
    "    \"ok\",\n",
    "    \"oh\",\n",
    "    \"sorry\",\n",
    "    \"lol\",\n",
    "    \"no\",\n",
    "    \"nice\",\n",
    "    \"d\",\n",
    "    \"yes\",\n",
    "    \"for\",\n",
    "    \"wat\",\n",
    "    \"i\",\n",
    "    \"thanks\",\n",
    "    \"um\",\n",
    "    \"yeah\",\n",
    "])\n",
    "\n",
    "misspellings = [\n",
    "    (\"brigher\", \"brighter\"),\n",
    "    (\"puirple\", \"purple\"),\n",
    "    (\"grn\", \"green\"),\n",
    "    (\"brigh\", \"bright\"),\n",
    "    (\"orang\", \"orange\"),\n",
    "    (\"gren\", \"green\"),\n",
    "    (\"pruple\", \"purple\"),\n",
    "    (\"gray\", \"grey\"),\n",
    "    (\"yelllow\"), (\"yellow\")\n",
    "]\n",
    "\n",
    "# endings_to_remove = [\n",
    "#     \"er\",\n",
    "#     \"est\",\n",
    "#     \"ish\",\n",
    "# ]\n",
    "\n",
    "def segmenter(word):\n",
    "    for ending in ['er', 'est', 'ish']:\n",
    "        if word.endswith(ending):\n",
    "            return [word[:-len(ending)], '+' + ending]\n",
    "    return [word]\n",
    "\n",
    "\n",
    "def get_tokens(s):\n",
    "    s = s.lower()\n",
    "    \n",
    "    for a, b in replacements:\n",
    "        s = s.replace(a, b)\n",
    "    \n",
    "    for a in weird_answers:\n",
    "        s = s.replace(a, \"\")\n",
    "    \n",
    "    if s == \"\" or s == \" \":\n",
    "        return [UNK_SYMBOL]\n",
    "\n",
    "    words = s.split()\n",
    "\n",
    "    words = [\n",
    "        w\n",
    "        for w in words\n",
    "        if w not in weird_tokens\n",
    "    ]\n",
    "    \n",
    "    words = [seg for w in words for seg in segmenter(w)]\n",
    "    \n",
    "    for i in range(len(words)):\n",
    "        for m in misspellings:\n",
    "            if words[i] == m[0]:\n",
    "                words[i] = m[1]\n",
    "\n",
    "#     # Remove certain endings\n",
    "#     for i in range(len(words)):\n",
    "#         for ending in endings_to_remove:\n",
    "#             if words[i].endswith(ending):\n",
    "#                 words[i] = words[i][:-len(ending)]\n",
    "    return words"
   ]
  },
  {
   "cell_type": "code",
   "execution_count": 552,
   "metadata": {},
   "outputs": [],
   "source": [
    "from collections import Counter\n",
    "\n",
    "tokens = []\n",
    "for dev_text in dev_texts:\n",
    "    for token in get_tokens(dev_text):\n",
    "        tokens.append(token)\n",
    "\n",
    "token_counter = Counter(tokens)\n",
    "threshold = 10\n",
    "most_common = set([w for w in token_counter.keys() if token_counter[w] >= threshold])"
   ]
  },
  {
   "cell_type": "code",
   "execution_count": 563,
   "metadata": {},
   "outputs": [],
   "source": [
    "def tokenize_example(s):\n",
    "    tokens = [\n",
    "        token\n",
    "        if token in most_common\n",
    "        else UNK_SYMBOL\n",
    "        for token in get_tokens(s)\n",
    "    ]\n",
    "    return [START_SYMBOL] + tokens + [END_SYMBOL]"
   ]
  },
  {
   "cell_type": "code",
   "execution_count": 564,
   "metadata": {},
   "outputs": [
    {
     "data": {
      "text/plain": [
       "['<s>', 'aqua', 'teal', '</s>']"
      ]
     },
     "execution_count": 564,
     "metadata": {},
     "output_type": "execute_result"
    }
   ],
   "source": [
    "tokenize_example(dev_texts_train[376])"
   ]
  },
  {
   "cell_type": "markdown",
   "metadata": {},
   "source": [
    "__Your task__: Modify `tokenize_example` so that it does something more sophisticated with the input text. \n",
    "\n",
    "__Notes__:\n",
    "\n",
    "* There are useful ideas for this in [Monroe et al. 2017](https://transacl.org/ojs/index.php/tacl/article/view/1142)\n",
    "* There is no requirement that you do word-level tokenization. Sub-word and multi-word are options.\n",
    "* This question can interact with the size of your vocabulary (see just below), and in turn with decisions about how to use `UNK_SYMBOL`.\n",
    "\n",
    "__Important__: don't forget to add the start and end symbols, else the resulting models will definitely be terrible! The following test will check that your tokenizer has this property:"
   ]
  },
  {
   "cell_type": "code",
   "execution_count": 565,
   "metadata": {},
   "outputs": [],
   "source": [
    "def test_tokenize_example(func):\n",
    "    s = \"A test string\"\n",
    "    result = func(s)\n",
    "    assert all(isinstance(tok, str) for tok in result), \\\n",
    "        \"The tokenizer must return a list of strings.\"\n",
    "    assert result[0] == START_SYMBOL, \\\n",
    "        \"The tokenizer must add START_SYMBOL as the first token.\"\n",
    "    assert result[-1] == END_SYMBOL, \\\n",
    "        \"The tokenizer must add END_SYMBOL as the final token.\""
   ]
  },
  {
   "cell_type": "code",
   "execution_count": 566,
   "metadata": {},
   "outputs": [],
   "source": [
    "if 'IS_GRADESCOPE_ENV' not in os.environ:\n",
    "    test_tokenize_example(tokenize_example)"
   ]
  },
  {
   "cell_type": "markdown",
   "metadata": {},
   "source": [
    "## Use the tokenizer"
   ]
  },
  {
   "cell_type": "markdown",
   "metadata": {},
   "source": [
    "Once the tokenizer is working, run the following cell to tokenize your inputs:"
   ]
  },
  {
   "cell_type": "code",
   "execution_count": 567,
   "metadata": {},
   "outputs": [],
   "source": [
    "dev_seqs_train = [tokenize_example(s) for s in dev_texts_train]\n",
    "\n",
    "dev_seqs_test = [tokenize_example(s) for s in dev_texts_test]"
   ]
  },
  {
   "cell_type": "code",
   "execution_count": 581,
   "metadata": {},
   "outputs": [
    {
     "data": {
      "text/plain": [
       "[['<s>', 'lime', 'green', '</s>'],\n",
       " ['<s>', 'lime', 'green', '</s>'],\n",
       " ['<s>', 'drab', 'purple', '</s>'],\n",
       " ['<s>', '$UNK', 'green', '</s>'],\n",
       " ['<s>', '$UNK', '$UNK', '</s>'],\n",
       " ['<s>', 'light', 'purple', '</s>'],\n",
       " ['<s>', 'green', 'again', '</s>'],\n",
       " ['<s>', 'dark', '+est', 'green', '</s>'],\n",
       " ['<s>', 'bright', 'green', '</s>'],\n",
       " ['<s>', '$UNK', 'orange', '</s>'],\n",
       " ['<s>', 'dull', 'green', '</s>'],\n",
       " ['<s>', 'baby', 'blue', '</s>'],\n",
       " ['<s>', 'blue', '+ish', 'grey', '</s>'],\n",
       " ['<s>', 'purple', 'grey', '</s>'],\n",
       " ['<s>', 'lime', 'green', '</s>'],\n",
       " ['<s>', 'neon', 'blue', '</s>'],\n",
       " ['<s>', 'yellow', 'green', 'one', '</s>'],\n",
       " ['<s>', 'grey', 'purple', '</s>'],\n",
       " ['<s>', 'mustard', 'yellow', '</s>'],\n",
       " ['<s>', 'blue', '$UNK', '</s>'],\n",
       " ['<s>', 'not', 'blue', '</s>'],\n",
       " ['<s>', 'bright', 'green', '</s>'],\n",
       " ['<s>', 'light', '+er', 'pink', '</s>'],\n",
       " ['<s>', 'olive', 'green', '</s>'],\n",
       " ['<s>', 'dull', 'blue', '</s>'],\n",
       " ['<s>', 'more', 'purple', '</s>'],\n",
       " ['<s>', 'dark', 'pink', '</s>'],\n",
       " ['<s>', 'not', 'pink', '###', 'not', 'blue', 'grey', '</s>'],\n",
       " ['<s>', 'dark', 'blue', '</s>'],\n",
       " ['<s>', 'purpl', '+ish', 'blue', '</s>'],\n",
       " ['<s>', '$UNK', 'dull', '</s>'],\n",
       " ['<s>', 'light', '+er', 'grey', '</s>'],\n",
       " ['<s>', 'bright', '+est', 'pink', '</s>'],\n",
       " ['<s>', 'neon', 'green', '</s>'],\n",
       " ['<s>', 'olive', 'green', '</s>'],\n",
       " ['<s>', 'light', 'green', '</s>'],\n",
       " ['<s>', 'pink', '+ish', 'mauve', '</s>'],\n",
       " ['<s>', 'pinky', 'rose', '</s>'],\n",
       " ['<s>', 'green', '+ish', 'yellow', '</s>'],\n",
       " ['<s>', 'dark', '+est', 'color', '</s>'],\n",
       " ['<s>', 'blue', '+ish', 'green', '###', '</s>'],\n",
       " ['<s>', 'bright', 'purple', '</s>'],\n",
       " ['<s>', 'not', 'pink', '+ish', '</s>'],\n",
       " ['<s>', 'neon', 'pink', '</s>'],\n",
       " ['<s>', 'green', '+ish', 'yellow', '</s>'],\n",
       " ['<s>', 'most', 'blue', '</s>'],\n",
       " ['<s>', 'dull', '+est', 'green', '</s>'],\n",
       " ['<s>', 'light', 'blue', '</s>'],\n",
       " ['<s>', 'pastel', 'purple', '</s>'],\n",
       " ['<s>', 'dull', '+est', 'green', '</s>'],\n",
       " ['<s>', 'dark', '+est', 'grey', '</s>'],\n",
       " ['<s>', 'blue', 'grey', '</s>'],\n",
       " ['<s>', 'dark', '+er', 'green', '</s>'],\n",
       " ['<s>', 'dull', 'purp', '</s>'],\n",
       " ['<s>', 'not', 'blue', '</s>'],\n",
       " ['<s>', 'dull', 'green', '</s>'],\n",
       " ['<s>',\n",
       "  'not',\n",
       "  'pink',\n",
       "  '###',\n",
       "  '$UNK',\n",
       "  'not',\n",
       "  '###',\n",
       "  'the',\n",
       "  '###',\n",
       "  'dark',\n",
       "  '+er',\n",
       "  'green',\n",
       "  '</s>'],\n",
       " ['<s>', 'lime', 'green', '</s>'],\n",
       " ['<s>', 'redd', '+ish', 'tan', '</s>'],\n",
       " ['<s>', 'dark', 'purple', '</s>'],\n",
       " ['<s>', 'bright', 'green', '</s>'],\n",
       " ['<s>', 'sky', 'blue', '</s>'],\n",
       " ['<s>', 'bright', '+er', 'pink', '</s>'],\n",
       " ['<s>', 'brown', '+ish', 'purple', '</s>'],\n",
       " ['<s>', 'kinda', 'bright', '</s>'],\n",
       " ['<s>', 'dark', 'blue', '</s>'],\n",
       " ['<s>', 'purpl', '+ish', 'blue', '</s>'],\n",
       " ['<s>', 'pastel', 'green', '</s>'],\n",
       " ['<s>', 'grey', '+ish', 'color', '</s>'],\n",
       " ['<s>', 'pure', 'grey', '</s>'],\n",
       " ['<s>', '$UNK', 'green', '</s>'],\n",
       " ['<s>', '$UNK', 'teal', '</s>'],\n",
       " ['<s>', 'olive', 'green', '</s>'],\n",
       " ['<s>', 'light', 'blue', '</s>'],\n",
       " ['<s>', 'bright', '+est', 'color', '</s>'],\n",
       " ['<s>', 'light', '+er', 'purple', '</s>'],\n",
       " ['<s>', 'dull', '+er', 'yellow', '</s>'],\n",
       " ['<s>', 'green', '+ish', 'tan', '</s>'],\n",
       " ['<s>', 'most', 'grey', '</s>'],\n",
       " ['<s>', 'pure', 'green', '</s>'],\n",
       " ['<s>', 'tru', '+er', 'blue', '</s>'],\n",
       " ['<s>', 'light', '+er', 'green', '</s>'],\n",
       " ['<s>', 'dark', 'sky', '</s>'],\n",
       " ['<s>', 'bright', '+est', 'blue', '</s>'],\n",
       " ['<s>', 'dark', '+er', 'green', '</s>'],\n",
       " ['<s>', 'dark', 'blue', '</s>'],\n",
       " ['<s>', 'bold', 'purple', '</s>'],\n",
       " ['<s>', 'light', '+est', 'blue', '</s>'],\n",
       " ['<s>', 'light', '+er', 'blue', '</s>'],\n",
       " ['<s>', '$UNK', '$UNK', '</s>'],\n",
       " ['<s>', 'dark', '+er', 'green', '</s>'],\n",
       " ['<s>', 'most', '$UNK', '</s>'],\n",
       " ['<s>', 'bright', 'green', '</s>'],\n",
       " ['<s>', 'pea', 'green', '</s>'],\n",
       " ['<s>', 'soft', '+er', 'pink', '+ish', 'purple', '</s>'],\n",
       " ['<s>', 'lime', 'green', '</s>'],\n",
       " ['<s>', 'dull', 'green', '</s>'],\n",
       " ['<s>', 'mustard', 'yellow', '</s>'],\n",
       " ['<s>', 'bright', 'green', '</s>'],\n",
       " ['<s>', 'green', '+ish', 'tint', '</s>'],\n",
       " ['<s>', 'neon', 'green', '</s>'],\n",
       " ['<s>', 'pinky', 'purple', '</s>'],\n",
       " ['<s>', 'medium', 'green', '</s>'],\n",
       " ['<s>', '$UNK', 'color', '</s>'],\n",
       " ['<s>', 'bright', 'green', '</s>'],\n",
       " ['<s>', 'bright', 'green', '</s>'],\n",
       " ['<s>', 'green', '+ish', 'tint', '</s>'],\n",
       " ['<s>', 'green', 'vibrant', '</s>'],\n",
       " ['<s>', 'hot', 'pink', '</s>'],\n",
       " ['<s>', 'light', 'blue', '</s>'],\n",
       " ['<s>', 'dull', '+est', 'purple', '</s>'],\n",
       " ['<s>', '$UNK', '$UNK', '</s>'],\n",
       " ['<s>', 'olive', 'green', '</s>'],\n",
       " ['<s>', 'purple', '+ish', 'blue', '</s>'],\n",
       " ['<s>', 'bright', 'purple', '</s>'],\n",
       " ['<s>', 'bright', '+er', 'purple', '</s>'],\n",
       " ['<s>', 'light', 'blue', '</s>'],\n",
       " ['<s>', 'pink', '+est', 'purple', '</s>'],\n",
       " ['<s>', 'hot', 'pink', '</s>'],\n",
       " ['<s>', 'soft', '+est', 'green', '</s>'],\n",
       " ['<s>', 'grey', 'looking', '</s>'],\n",
       " ['<s>', 'bright', 'green', '</s>'],\n",
       " ['<s>', 'bright', '+est', 'green', '</s>'],\n",
       " ['<s>', 'purple', 'one', '</s>'],\n",
       " ['<s>', 'dark', 'green', '</s>'],\n",
       " ['<s>', 'sky', 'color', '</s>'],\n",
       " ['<s>', 'brown', 'grey', '+ish', '</s>'],\n",
       " ['<s>', 'yellow', 'green', '</s>'],\n",
       " ['<s>', 'dark', '+er', '$UNK', '</s>'],\n",
       " ['<s>', 'blue', 'grey', '</s>'],\n",
       " ['<s>', 'light', 'blue', '</s>'],\n",
       " ['<s>', 'bright', 'purple', '</s>'],\n",
       " ['<s>', 'bright', '+er', 'green', '</s>'],\n",
       " ['<s>', 'the', 'blue', '</s>'],\n",
       " ['<s>', 'royal', 'blue', '</s>'],\n",
       " ['<s>', '$UNK', 'purple', '</s>'],\n",
       " ['<s>', 'bright', 'green', '</s>'],\n",
       " ['<s>', 'dark', 'purple', '</s>'],\n",
       " ['<s>', 'light', '+er', 'purple', '###', 'same', '</s>'],\n",
       " ['<s>', 'light', '+er', 'purple', '</s>'],\n",
       " ['<s>', 'hot', 'pink', '</s>'],\n",
       " ['<s>', 'light', '+er', 'blue', '</s>'],\n",
       " ['<s>', 'dark', '+er', 'blue', '</s>'],\n",
       " ['<s>', 'dull', '+est', 'blue', '</s>'],\n",
       " ['<s>', '$UNK', '+er', 'purple', '</s>'],\n",
       " ['<s>', 'blue', 'one', '</s>'],\n",
       " ['<s>', '$UNK', '+est', 'color', '</s>'],\n",
       " ['<s>', 'yellow', 'mango', '</s>'],\n",
       " ['<s>', 'bright', '+er', 'green', '</s>'],\n",
       " ['<s>', 'dark', 'grey', '</s>'],\n",
       " ['<s>', 'dull', 'pink', '</s>'],\n",
       " ['<s>', 'purpl', '+ish', 'grey', '</s>'],\n",
       " ['<s>', 'bright', '+est', 'purple', '</s>'],\n",
       " ['<s>', 'neon', 'green', '</s>'],\n",
       " ['<s>', 'grey', '+ish', 'green', '</s>'],\n",
       " ['<s>', 'bright', '+est', 'green', '</s>'],\n",
       " ['<s>', 'medium', 'purple', '</s>'],\n",
       " ['<s>', 'seafoam', 'green', '</s>'],\n",
       " ['<s>', 'muted', 'green', '</s>'],\n",
       " ['<s>', 'pale', 'blue', '</s>'],\n",
       " ['<s>', 'green', '+ish', 'one', '</s>'],\n",
       " ['<s>', 'green', '</s>'],\n",
       " ['<s>', 'dark', '+er', 'blue', '</s>'],\n",
       " ['<s>', 'bright', 'pink', '</s>'],\n",
       " ['<s>', 'pea', '$UNK', '$UNK', '</s>'],\n",
       " ['<s>', 'lime', 'green', '</s>'],\n",
       " ['<s>', 'bright', 'red', '</s>'],\n",
       " ['<s>', 'grey', '+ish', 'blue', '</s>'],\n",
       " ['<s>', 'dark', '+er', 'purple', '</s>'],\n",
       " ['<s>', 'bright', '+er', 'purple', '</s>'],\n",
       " ['<s>', 'faded', 'blue', '</s>'],\n",
       " ['<s>', 'dark', 'purple', '</s>'],\n",
       " ['<s>', 'dull', 'green', '</s>'],\n",
       " ['<s>', 'dark', 'grass', '</s>'],\n",
       " ['<s>', 'grey', '+ish', 'green', '</s>'],\n",
       " ['<s>', 'blue', '+ish', 'grey', '</s>'],\n",
       " ['<s>', 'army', 'green', '</s>'],\n",
       " ['<s>', 'bright', 'pink', '</s>'],\n",
       " ['<s>', 'not', 'sky', '</s>'],\n",
       " ['<s>', 'pale', 'pink', '</s>'],\n",
       " ['<s>', '$UNK', 'colored', '</s>'],\n",
       " ['<s>', 'dark', 'purple', '</s>'],\n",
       " ['<s>', '$UNK', '$UNK', '+er', '</s>'],\n",
       " ['<s>', 'bright', 'pink', '</s>'],\n",
       " ['<s>', 'grey', '+ish', 'blue', '</s>'],\n",
       " ['<s>', 'purple', '+ish', 'red', '</s>'],\n",
       " ['<s>', 'blu', '+ish', 'grey', '</s>'],\n",
       " ['<s>', 'dull', 'green', '</s>'],\n",
       " ['<s>', '$UNK', '$UNK', '</s>'],\n",
       " ['<s>', 'dark', 'yellow', '</s>'],\n",
       " ['<s>', 'redd', '+ish', 'grey', '</s>'],\n",
       " ['<s>', 'grey', '+ish', 'green', '</s>'],\n",
       " ['<s>', 'dark', '+est', 'purple', '</s>'],\n",
       " ['<s>', 'bright', 'pink', '</s>'],\n",
       " ['<s>', 'lime', 'green', '</s>'],\n",
       " ['<s>', '$UNK', 'color', '</s>'],\n",
       " ['<s>', '$UNK', '$UNK', '</s>'],\n",
       " ['<s>', 'light', 'purple', '</s>'],\n",
       " ['<s>', 'dull', 'red', '</s>'],\n",
       " ['<s>', '$UNK', 'green', '</s>'],\n",
       " ['<s>', 'dull', '+est', 'color', '</s>'],\n",
       " ['<s>', 'grey', '+ish', 'orange', '</s>'],\n",
       " ['<s>', 'grey', 'blue', '</s>'],\n",
       " ['<s>', 'dark', '+est', 'one', '</s>'],\n",
       " ['<s>', 'blu', '+ish', 'purple', '</s>'],\n",
       " ['<s>', '$UNK', 'green', '</s>'],\n",
       " ['<s>', 'blue', 'grey', '</s>'],\n",
       " ['<s>', 'more', 'brown', '</s>'],\n",
       " ['<s>', 'dark', '+est', 'green', '</s>'],\n",
       " ['<s>', 'teal', 'blue', '</s>'],\n",
       " ['<s>', 'green', '+ish', 'yellow', '</s>'],\n",
       " ['<s>', 'neon', 'green', '</s>'],\n",
       " ['<s>', 'bright', 'red', '</s>'],\n",
       " ['<s>', 'dark', '+er', 'lime', '</s>'],\n",
       " ['<s>', 'seafoam', 'green', '</s>'],\n",
       " ['<s>', '$UNK', 'pink', '</s>'],\n",
       " ['<s>', 'mint', 'green', '</s>'],\n",
       " ['<s>', 'royal', 'purple', '###', 'dark', '+est', 'one', '</s>'],\n",
       " ['<s>', 'grey', '+ish', 'blue', '</s>'],\n",
       " ['<s>', 'dark', '+er', 'purple', '</s>'],\n",
       " ['<s>', 'bright', 'blue', '</s>'],\n",
       " ['<s>', 'dark', 'green', '</s>'],\n",
       " ['<s>', 'hot', 'pink', '</s>'],\n",
       " ['<s>', 'bright', '+er', 'green', '</s>'],\n",
       " ['<s>', 'dark', '+er', 'green', '</s>'],\n",
       " ['<s>', 'light', 'blue', '</s>'],\n",
       " ['<s>', 'light', '+er', 'purple', '</s>'],\n",
       " ['<s>', 'seafoam', 'green', '</s>'],\n",
       " ['<s>', 'ice', 'blue', '</s>'],\n",
       " ['<s>', 'bright', '+est', 'blue', '</s>'],\n",
       " ['<s>', 'bad', 'salmon', '</s>'],\n",
       " ['<s>', 'bright', 'green', '</s>'],\n",
       " ['<s>', 'dark', 'grey', '</s>'],\n",
       " ['<s>', 'orange', '+ish', 'brown', '</s>'],\n",
       " ['<s>', 'dark', '+er', 'red', '</s>'],\n",
       " ['<s>', 'bright', 'red', '</s>'],\n",
       " ['<s>', 'neon', 'green', '</s>'],\n",
       " ['<s>', 'dull', 'purple', '</s>'],\n",
       " ['<s>', 'the', '$UNK', '</s>'],\n",
       " ['<s>', 'not', 'purply', '</s>'],\n",
       " ['<s>', 'sky', 'blue', '</s>'],\n",
       " ['<s>', 'dull', 'blue', '</s>'],\n",
       " ['<s>', 'grey', 'purple', '</s>'],\n",
       " ['<s>', 'bright', 'blue', '</s>'],\n",
       " ['<s>', 'dark', 'green', '</s>'],\n",
       " ['<s>', 'green', '+ish', 'yellow', '</s>'],\n",
       " ['<s>', 'more', 'blue', '</s>'],\n",
       " ['<s>', '$UNK', 'blue', '</s>'],\n",
       " ['<s>', 'ugly', 'green', '</s>'],\n",
       " ['<s>', 'grey', '+ish', 'green', '</s>'],\n",
       " ['<s>', 'bright', 'yellow', 'green', '</s>'],\n",
       " ['<s>', 'neon', 'purple', '</s>'],\n",
       " ['<s>', 'bright', 'green', '</s>'],\n",
       " ['<s>', 'dull', '+er', 'purple', '</s>'],\n",
       " ['<s>', 'dark', '+est', 'green', '</s>'],\n",
       " ['<s>', 'the', 'green', '+est', '</s>'],\n",
       " ['<s>', 'dark', '+est', 'green', '</s>'],\n",
       " ['<s>', 'more', 'blue', '###', 'less', 'purp', '</s>'],\n",
       " ['<s>', 'not', 'dull', '</s>'],\n",
       " ['<s>', 'bright', 'blue', '</s>'],\n",
       " ['<s>', 'lime', 'green', '</s>'],\n",
       " ['<s>', 'bright', 'green', '</s>'],\n",
       " ['<s>', 'olive', 'green', '</s>'],\n",
       " ['<s>', 'dark', '+er', 'dull', '+er', 'purple', '</s>'],\n",
       " ['<s>', 'bright', 'grey', '</s>'],\n",
       " ['<s>', 'true', 'pink', '</s>'],\n",
       " ['<s>', 'red', 'purpl', '+ish', 'color', '</s>'],\n",
       " ['<s>', 'less', 'green', '</s>'],\n",
       " ['<s>',\n",
       "  'olive',\n",
       "  'green',\n",
       "  '###',\n",
       "  'not',\n",
       "  'blu',\n",
       "  '+ish',\n",
       "  '###',\n",
       "  'not',\n",
       "  'brown',\n",
       "  '+ish',\n",
       "  '</s>'],\n",
       " ['<s>', 'dull', '+er', 'grey', '</s>'],\n",
       " ['<s>', 'pea', '$UNK', '</s>'],\n",
       " ['<s>', 'blue', 'green', '</s>'],\n",
       " ['<s>', 'least', 'bright', '</s>'],\n",
       " ['<s>', 'dark', '+est', 'color', '</s>'],\n",
       " ['<s>', 'dark', 'purple', '</s>'],\n",
       " ['<s>', 'grey', 'green', '</s>'],\n",
       " ['<s>', 'faded', 'pink', '</s>'],\n",
       " ['<s>', '$UNK', 'blue', '</s>'],\n",
       " ['<s>', 'less', 'purple', '</s>'],\n",
       " ['<s>', 'bright', '+est', 'purple', '</s>'],\n",
       " ['<s>', 'light', '+er', 'green', '</s>'],\n",
       " ['<s>', 'blue', 'bright', '+er', '</s>'],\n",
       " ['<s>', 'blu', '+est', 'again', '</s>'],\n",
       " ['<s>', 'dull', '+est', 'blue', '</s>'],\n",
       " ['<s>', 'bright', '+est', 'blue', '</s>'],\n",
       " ['<s>', '$UNK', '+er', 'pink', '</s>'],\n",
       " ['<s>', 'light', '+er', 'green', '</s>'],\n",
       " ['<s>', 'mustard', 'green', 'yellow', '</s>'],\n",
       " ['<s>', 'green', 'bright', '</s>'],\n",
       " ['<s>', 'seafoam', 'green', '</s>'],\n",
       " ['<s>', '$UNK', '###', 'light', '+est', 'purple', '</s>'],\n",
       " ['<s>', 'bright', 'purple', '</s>'],\n",
       " ['<s>', 'bright', 'green', '</s>'],\n",
       " ['<s>', 'bright', 'green', '</s>'],\n",
       " ['<s>', 'grey', '+ish', 'purp', '</s>'],\n",
       " ['<s>', 'olive', 'green', '</s>'],\n",
       " ['<s>', 'bright', 'blue', '</s>'],\n",
       " ['<s>', 'bright', '+est', 'yellow', '</s>'],\n",
       " ['<s>', 'bright', 'blue', '</s>'],\n",
       " ['<s>', '$UNK', 'red', '</s>'],\n",
       " ['<s>', 'bright', 'green', '</s>'],\n",
       " ['<s>', 'neon', 'pink', '</s>'],\n",
       " ['<s>', 'blue', '+ish', 'grey', '</s>'],\n",
       " ['<s>', 'pink', '+ish', 'purple', '</s>'],\n",
       " ['<s>', 'most', 'orange', '</s>'],\n",
       " ['<s>', 'blue', 'purple', '</s>'],\n",
       " ['<s>', 'dark', '+er', 'blue', '</s>'],\n",
       " ['<s>', 'dark', 'purple', '</s>'],\n",
       " ['<s>', 'bright', '+er', 'magenta', '</s>'],\n",
       " ['<s>', 'blu', '+ish', 'one', '</s>'],\n",
       " ['<s>', 'dark', '+est', 'green', '</s>'],\n",
       " ['<s>', 'grey', 'brown', '</s>'],\n",
       " ['<s>', 'red', 'pink', '</s>'],\n",
       " ['<s>', '$UNK', 'green', '</s>'],\n",
       " ['<s>', 'lime', 'green', '</s>'],\n",
       " ['<s>', 'dull', 'yellow', '</s>'],\n",
       " ['<s>', 'light', '+er', 'green', '</s>'],\n",
       " ['<s>', 'yellow', 'green', '</s>'],\n",
       " ['<s>', '$UNK', '+ish', 'color', '</s>'],\n",
       " ['<s>', 'bright', 'green', '</s>'],\n",
       " ['<s>', 'pale', 'purple', '</s>'],\n",
       " ['<s>', 'blue', '</s>'],\n",
       " ['<s>', 'tru', '+er', 'green', '</s>'],\n",
       " ['<s>', 'green', '+ish', 'grey', '</s>'],\n",
       " ['<s>', 'grey', '+ish', 'blue', '</s>'],\n",
       " ['<s>', 'royal', 'blue', '</s>'],\n",
       " ['<s>', 'light', '+er', 'grey', '</s>'],\n",
       " ['<s>', 'faded', 'blue', '</s>'],\n",
       " ['<s>', 'bright', 'purple', '</s>'],\n",
       " ['<s>', 'bright', 'purple', '</s>'],\n",
       " ['<s>', 'bright', '+est', 'teal', '</s>'],\n",
       " ['<s>', '$UNK', 'tan', '</s>'],\n",
       " ['<s>', 'the', 'bold', '+est', '</s>'],\n",
       " ['<s>', 'dark', 'purple', '###', 'not', 'blue', '</s>'],\n",
       " ['<s>', 'or', 'grey', '</s>'],\n",
       " ['<s>', 'bright', '+er', 'green', '</s>'],\n",
       " ['<s>', 'green', '+ish', 'grey', '</s>'],\n",
       " ['<s>', 'bright', 'blue', '</s>'],\n",
       " ['<s>', 'bright', 'pink', '</s>'],\n",
       " ['<s>', 'light', 'purple', '</s>'],\n",
       " ['<s>', 'purple', 'again', '</s>'],\n",
       " ['<s>', 'dark', '+er', 'green', '</s>'],\n",
       " ['<s>', 'dark', 'blue', '</s>'],\n",
       " ['<s>', 'pink', '+ish', 'purple', '</s>'],\n",
       " ['<s>', 'most', '$UNK', '</s>'],\n",
       " ['<s>', 'dark', '+est', 'green', '</s>'],\n",
       " ['<s>', 'light', 'blue', '</s>'],\n",
       " ['<s>', 'yellow', 'brown', 'one', '</s>'],\n",
       " ['<s>', 'pea', '$UNK', '</s>'],\n",
       " ['<s>', 'grey', '+ish', 'blue', '</s>'],\n",
       " ['<s>', 'bright', 'pink', 'purple', '</s>'],\n",
       " ['<s>', 'pink', '+ish', 'red', '</s>'],\n",
       " ['<s>', 'dusty', 'purple', '</s>'],\n",
       " ['<s>', 'bright', 'purple', '</s>'],\n",
       " ['<s>', 'ugly', 'green', '</s>'],\n",
       " ['<s>', 'green', '+ish', 'yellow', '</s>'],\n",
       " ['<s>', 'light', 'blue', '</s>'],\n",
       " ['<s>', 'faded', 'green', '</s>'],\n",
       " ['<s>', 'dark', 'purple', '</s>'],\n",
       " ['<s>', 'not', 'grey', '</s>'],\n",
       " ['<s>', 'pink', '+ish', '$UNK', '</s>'],\n",
       " ['<s>', 'dull', 'purple', '</s>'],\n",
       " ['<s>', 'grey', '+ish', 'blue', '</s>'],\n",
       " ['<s>', 'dull', '+est', 'green', 'drab', '</s>'],\n",
       " ['<s>', '</s>'],\n",
       " ['<s>', '$UNK', '+er', 'teal', '</s>'],\n",
       " ['<s>', 'vibrant', 'blue', '</s>'],\n",
       " ['<s>', 'dark', 'blue', '</s>'],\n",
       " ['<s>', 'dark', '+er', 'grey', '</s>'],\n",
       " ['<s>', 'bright', 'green', '</s>'],\n",
       " ['<s>', 'green', 'one', '</s>'],\n",
       " ['<s>', '$UNK', 'pink', '</s>'],\n",
       " ['<s>', 'light', 'purple', '</s>'],\n",
       " ['<s>', 'dark', '+est', 'blue', '</s>'],\n",
       " ['<s>', 'bright', 'green', '</s>'],\n",
       " ['<s>', 'the', 'dark', '+est', '</s>'],\n",
       " ['<s>', 'aqua', 'teal', '</s>'],\n",
       " ['<s>', 'olive', 'green', '</s>'],\n",
       " ['<s>', 'neon', 'pink', '</s>'],\n",
       " ['<s>', 'bright', 'orange', '</s>'],\n",
       " ['<s>', 'dark', 'blue', '</s>'],\n",
       " ['<s>', 'bright', 'blue', '</s>'],\n",
       " ['<s>', 'bright', 'blu', '+er', '</s>'],\n",
       " ['<s>', 'dark', 'purple', '</s>'],\n",
       " ['<s>', 'green', 'grey', '</s>'],\n",
       " ['<s>', 'bright', 'blue', '</s>'],\n",
       " ['<s>', 'neon', 'pink', '</s>'],\n",
       " ['<s>', 'dark', '+er', 'purple', '</s>'],\n",
       " ['<s>', 'mustard', 'yellow', '</s>'],\n",
       " ['<s>', 'light', '+er', 'grey', '</s>'],\n",
       " ['<s>', 'very', 'blue', '</s>'],\n",
       " ['<s>', 'dull', 'purple', '</s>'],\n",
       " ['<s>', 'not', 'neon', '</s>'],\n",
       " ['<s>', 'bright', 'pink', '</s>'],\n",
       " ['<s>', 'dull', 'yellow', '</s>'],\n",
       " ['<s>', 'light', '+er', 'blue', '</s>'],\n",
       " ['<s>', 'light', '+er', 'blue', '</s>'],\n",
       " ['<s>', '$UNK', 'green', '</s>'],\n",
       " ['<s>', 'purpl', '+ish', 'grey', '</s>'],\n",
       " ['<s>', 'light', '+er', 'pink', '###', 'not', 'bright', '</s>'],\n",
       " ['<s>', 'dull', 'yellow', 'tan', '</s>'],\n",
       " ['<s>', 'bright', '+est', 'blue', '</s>'],\n",
       " ['<s>', 'green', 'light', '+est', '</s>'],\n",
       " ['<s>', 'grass', 'color', '</s>'],\n",
       " ['<s>', 'the', 'purple', '</s>'],\n",
       " ['<s>', 'dark', 'blue', '</s>'],\n",
       " ['<s>', 'bright', 'orange', '</s>'],\n",
       " ['<s>', 'deep', '+est', 'purple', '</s>'],\n",
       " ['<s>', 'dull', 'blue', '</s>'],\n",
       " ['<s>', 'dull', '+est', 'shade', '</s>'],\n",
       " ['<s>', 'bright', '+est', 'purple', '</s>'],\n",
       " ['<s>', 'blue', 'looking', '</s>'],\n",
       " ['<s>', 'light', '+er', 'green', '</s>'],\n",
       " ['<s>', 'vibrant', 'red', '</s>'],\n",
       " ['<s>', 'light', '+er', 'blue', '</s>'],\n",
       " ['<s>', 'dull', 'violet', '</s>'],\n",
       " ['<s>', 'bright', 'purple', '</s>'],\n",
       " ['<s>', 'bright', 'pink', '</s>'],\n",
       " ['<s>', 'dark', '+er', 'blue', '</s>'],\n",
       " ['<s>', 'bright', 'pink', '</s>'],\n",
       " ['<s>', 'dark', 'purple', '</s>'],\n",
       " ['<s>', 'olive', 'green', '</s>'],\n",
       " ['<s>', 'bright', '+est', 'blue', 'purple', '</s>'],\n",
       " ['<s>', 'pink', '+ish', 'grey', '</s>'],\n",
       " ['<s>', 'dull', '+er', 'green', '</s>'],\n",
       " ['<s>', '$UNK', '</s>'],\n",
       " ['<s>', '$UNK', '###', 'green', '+ish', 'grey', '</s>'],\n",
       " ['<s>', 'dull', 'pink', '</s>'],\n",
       " ['<s>', '$UNK', '$UNK', '</s>'],\n",
       " ['<s>', '$UNK', 'green', '</s>'],\n",
       " ['<s>', 'sky', 'color', '</s>'],\n",
       " ['<s>', 'light', 'blue', '</s>'],\n",
       " ['<s>', '$UNK', 'good', '</s>'],\n",
       " ['<s>', 'pale', 'teal', '</s>'],\n",
       " ['<s>', 'bright', 'pink', '</s>'],\n",
       " ['<s>', 'lime', 'green', '</s>'],\n",
       " ['<s>', 'green', '+ish', 'blue', '</s>'],\n",
       " ['<s>', 'blu', '+ish', 'green', '</s>'],\n",
       " ['<s>', 'purpl', '+ish', 'grey', '</s>'],\n",
       " ['<s>', 'light', 'purple', '</s>'],\n",
       " ['<s>', 'bright', '$UNK', '</s>'],\n",
       " ['<s>', 'dark', '+er', 'blue', '</s>'],\n",
       " ['<s>', 'bright', 'pink', '</s>'],\n",
       " ['<s>', '$UNK', 'blue', '</s>'],\n",
       " ['<s>', 'dull', 'blue', '</s>'],\n",
       " ['<s>', 'dark', 'yellow', '</s>'],\n",
       " ['<s>', 'dark', 'green', '</s>'],\n",
       " ['<s>', 'sky', '+ish', 'blue', '</s>'],\n",
       " ['<s>', 'red', '+ish', 'brown', '</s>'],\n",
       " ['<s>', 'grey', '+ish', 'blue', '</s>'],\n",
       " ['<s>', 'yellow', 'green', '</s>'],\n",
       " ['<s>', 'dark', 'blue', '</s>'],\n",
       " ['<s>', 'dull', '+er', 'orange', '</s>'],\n",
       " ['<s>', 'the', 'turquoise', '</s>'],\n",
       " ['<s>', 'yellow', 'green', '</s>'],\n",
       " ['<s>', 'blue', '+ish', 'grey', '</s>'],\n",
       " ['<s>', 'dark', '+er', 'blue', 'grey', '</s>'],\n",
       " ['<s>', 'blu', '+ish', 'grey', '</s>'],\n",
       " ['<s>', 'pale', '$UNK', '</s>'],\n",
       " ['<s>', 'bright', '+er', 'green', '</s>'],\n",
       " ['<s>', 'light', '+est', 'purple', '</s>'],\n",
       " ['<s>', 'bright', '+er', 'purple', '</s>'],\n",
       " ['<s>', 'red', '+ish', 'brown', '</s>'],\n",
       " ['<s>', 'middle', 'shade', '</s>'],\n",
       " ['<s>', 'most', 'purple', '</s>'],\n",
       " ['<s>', 'dull', 'purple', '</s>'],\n",
       " ['<s>', 'puke', 'green', '</s>'],\n",
       " ['<s>', '$UNK', 'blue', '</s>'],\n",
       " ['<s>', '$UNK', 'green', '</s>'],\n",
       " ['<s>', 'dark', 'purple', '</s>'],\n",
       " ['<s>', 'hot', 'pink', '</s>'],\n",
       " ['<s>', 'bright', 'green', '</s>'],\n",
       " ['<s>', 'dull', '+er', 'pink', '</s>'],\n",
       " ['<s>', 'bright', 'blue', '</s>'],\n",
       " ['<s>', 'neon', 'purp', '</s>'],\n",
       " ['<s>', 'not', '$UNK', '###', 'light', '+er', 'shade', '</s>'],\n",
       " ['<s>', 'dull', 'blue', '</s>'],\n",
       " ['<s>', 'green', '+ish', 'yellow', '</s>'],\n",
       " ['<s>', 'blu', '+ish', 'purple', '</s>'],\n",
       " ['<s>', '$UNK', 'pink', '</s>'],\n",
       " ['<s>', 'purple', 'brown', '</s>'],\n",
       " ['<s>', 'bright', 'blue', 'green', '</s>'],\n",
       " ['<s>', '$UNK', 'green', '</s>'],\n",
       " ['<s>', 'bright', 'green', '</s>'],\n",
       " ['<s>', 'most', '$UNK', '+er', '</s>'],\n",
       " ['<s>', 'neon', 'green', '</s>'],\n",
       " ['<s>', 'pure', 'purple', '</s>'],\n",
       " ['<s>', 'bright', '+est', '$UNK', '</s>'],\n",
       " ['<s>', 'camo', 'green', '</s>'],\n",
       " ['<s>', 'orange', '$UNK', '</s>'],\n",
       " ['<s>', 'dark', 'purple', '</s>'],\n",
       " ['<s>', 'redd', '+ish', 'pink', '</s>'],\n",
       " ['<s>', 'royal', 'purple', '</s>'],\n",
       " ['<s>', 'neon', 'green', '</s>'],\n",
       " ['<s>', 'dull', 'pink', '</s>'],\n",
       " ['<s>', 'most', 'purple', '</s>'],\n",
       " ['<s>', '$UNK', 'color', '</s>'],\n",
       " ['<s>',\n",
       "  'brown',\n",
       "  '+ish',\n",
       "  'grey',\n",
       "  '###',\n",
       "  'not',\n",
       "  'green',\n",
       "  '+ish',\n",
       "  '###',\n",
       "  '$UNK',\n",
       "  '$UNK',\n",
       "  '</s>'],\n",
       " ['<s>', 'bright', '+est', 'blue', '</s>'],\n",
       " ['<s>', 'most', 'purple', '</s>'],\n",
       " ['<s>', 'neon', 'green', '</s>'],\n",
       " ['<s>', 'grey', '</s>'],\n",
       " ['<s>', 'golden', 'yellow', '</s>'],\n",
       " ['<s>', 'dark', '+er', 'green', '</s>'],\n",
       " ['<s>', 'bright', '+est', 'pink', '</s>'],\n",
       " ['<s>', '$UNK', '###', 'bright', '+est', 'green', '</s>'],\n",
       " ['<s>', 'bright', '+est', 'blue', '</s>'],\n",
       " ['<s>', 'light', '+er', 'orange', '</s>'],\n",
       " ['<s>', 'yellow', '+ish', 'green', '</s>'],\n",
       " ['<s>', 'navy', 'blue', '</s>'],\n",
       " ['<s>', 'drab', '+est', 'color', '</s>'],\n",
       " ['<s>', 'bright', '+est', 'green', '</s>'],\n",
       " ['<s>', 'pea', 'green', '</s>'],\n",
       " ['<s>', 'dark', 'grey', '</s>'],\n",
       " ['<s>', '$UNK', '+est', 'purple', '</s>'],\n",
       " ['<s>', 'not', 'neon', '</s>'],\n",
       " ['<s>', 'light', 'purple', '</s>'],\n",
       " ['<s>', 'baby', 'blue', '</s>'],\n",
       " ['<s>', 'bright', 'yellow', '</s>'],\n",
       " ['<s>', 'teal', 'green', '</s>'],\n",
       " ['<s>', 'bright', 'green', '</s>'],\n",
       " ['<s>', 'bright', 'green', '###', 'almost', '$UNK', '</s>'],\n",
       " ['<s>', 'bright', '+er', 'purple', '</s>'],\n",
       " ['<s>', 'dull', 'green', '</s>'],\n",
       " ['<s>', 'teal', 'shade', '</s>'],\n",
       " ['<s>', 'army', '$UNK', '</s>'],\n",
       " ['<s>', 'dull', 'purple', '</s>'],\n",
       " ['<s>', 'dark', 'green', '</s>'],\n",
       " ['<s>', 'dark', 'purple', '</s>'],\n",
       " ['<s>', 'seafoam', 'green', '</s>'],\n",
       " ['<s>', 'bright', 'blue', '</s>'],\n",
       " ['<s>', 'light', '+er', 'green', '</s>'],\n",
       " ['<s>', 'burnt', 'orange', '</s>'],\n",
       " ['<s>', 'bright', 'purple', '</s>'],\n",
       " ['<s>', 'boring', 'blue', '</s>'],\n",
       " ['<s>', 'bright', 'pink', '</s>'],\n",
       " ['<s>', 'dull', 'green', '</s>'],\n",
       " ['<s>', 'light', '$UNK', '</s>'],\n",
       " ['<s>', 'bright', 'purple', '</s>'],\n",
       " ['<s>', 'dark', '+est', '$UNK', '</s>'],\n",
       " ['<s>', '###', 'hot', 'pink', '</s>'],\n",
       " ['<s>', '$UNK', 'grey', '</s>'],\n",
       " ['<s>', 'red', '+ish', 'pink', '</s>'],\n",
       " ['<s>', '$UNK', '$UNK', '</s>'],\n",
       " ['<s>', 'sky', 'blue', '</s>'],\n",
       " ['<s>', 'green', '+er', 'one', '###', 'dark', 'green', '</s>'],\n",
       " ['<s>', 'dark', 'blue', '</s>'],\n",
       " ['<s>', 'green', 'bright', '</s>'],\n",
       " ['<s>', '$UNK', '###', 'bright', 'green', '</s>'],\n",
       " ['<s>', 'grey', '+ish', 'purple', '</s>'],\n",
       " ['<s>', '$UNK', '</s>'],\n",
       " ['<s>', 'dark', 'purple', '</s>'],\n",
       " ['<s>', 'dull', '+est', 'green', '</s>'],\n",
       " ['<s>', 'bright', 'blue', '</s>'],\n",
       " ['<s>', 'bright', '$UNK', '</s>'],\n",
       " ['<s>', 'or', 'orange', '</s>'],\n",
       " ['<s>', 'bright', 'green', 'teal', '</s>'],\n",
       " ['<s>', 'dark', '+er', 'purple', '</s>'],\n",
       " ['<s>', 'pink', 'bright', '</s>'],\n",
       " ['<s>', 'light', 'blue', 'grey', '</s>'],\n",
       " ['<s>', 'baby', 'blue', '</s>'],\n",
       " ['<s>', 'bright', 'green', '</s>'],\n",
       " ['<s>', 'natural', 'blue', '</s>'],\n",
       " ['<s>', 'green', 'green', '</s>'],\n",
       " ['<s>', 'dark', 'green', '</s>'],\n",
       " ['<s>', 'neon', 'pink', '</s>'],\n",
       " ['<s>', 'deep', 'green', '</s>'],\n",
       " ['<s>', 'dark', 'green', '</s>'],\n",
       " ['<s>', '$UNK', 'grey', '</s>'],\n",
       " ['<s>', 'mauve', 'purple', 'dull', 'pink', '</s>'],\n",
       " ['<s>', 'neon', 'magenta', '</s>'],\n",
       " ['<s>', 'blu', '+ish', 'green', '</s>'],\n",
       " ['<s>', 'grey', '+ish', 'purple', '</s>'],\n",
       " ['<s>', 'dark', 'purple', '</s>'],\n",
       " ['<s>', 'light', 'blue', '</s>'],\n",
       " ['<s>', 'purple', 'box', '</s>'],\n",
       " ['<s>', 'pink', 'grey', '###', 'more', 'pink', '</s>'],\n",
       " ['<s>', 'yellow', 'green', '</s>'],\n",
       " ['<s>', 'neon', 'pink', '</s>'],\n",
       " ['<s>', 'dark', 'orange', '</s>'],\n",
       " ['<s>', 'medium', 'blue', '</s>'],\n",
       " ['<s>', 'bright', 'blue', '</s>'],\n",
       " ['<s>', 'dark', '+er', 'green', '</s>'],\n",
       " ['<s>', 'bright', 'aqua', '</s>'],\n",
       " ['<s>', 'bright', '+est', 'green', '</s>'],\n",
       " ['<s>', 'blu', '+ish', 'grey', '</s>'],\n",
       " ['<s>', 'brown', '+ish', 'grey', '</s>'],\n",
       " ['<s>', 'bright', '+est', 'magenta', '</s>'],\n",
       " ['<s>', 'purpl', '+ish', 'grey', '</s>'],\n",
       " ['<s>', 'pink', '+ish', 'grey', '</s>'],\n",
       " ['<s>', 'dark', '+er', 'green', '</s>'],\n",
       " ['<s>', 'orange', 'yellow', 'gold', '$UNK', '</s>'],\n",
       " ['<s>', 'its', 'dark', '+er', '</s>'],\n",
       " ['<s>', 'grey', 'green', '</s>'],\n",
       " ['<s>', 'dull', 'purple', '</s>'],\n",
       " ['<s>', 'my', 'bad', '</s>'],\n",
       " ['<s>', 'dark', '+est', 'color', '</s>'],\n",
       " ['<s>', 'purple', 'grey', '</s>'],\n",
       " ['<s>', 'redd', '+est', 'pink', '</s>'],\n",
       " ['<s>', 'bright', '+est', 'pink', '</s>'],\n",
       " ['<s>', 'mustard', 'yellow', '+ish', '</s>'],\n",
       " ['<s>', '$UNK', 'red', '</s>'],\n",
       " ['<s>', 'medium', 'pink', '</s>'],\n",
       " ['<s>', 'the', 'bright', '+est', '###', 'pink', 'purple', '</s>'],\n",
       " ['<s>', 'pink', 'bright', '</s>'],\n",
       " ['<s>', 'green', '+ish', 'yellow', '</s>'],\n",
       " ['<s>', 'bright', 'pink', '</s>'],\n",
       " ['<s>', 'dark', '+er', 'blue', '</s>'],\n",
       " ['<s>', 'purple', 'grey', '</s>'],\n",
       " ['<s>', 'dull', 'purple', '</s>'],\n",
       " ['<s>', 'dark', '+est', 'purple', '</s>'],\n",
       " ['<s>', 'bright', '+est', 'blue', '</s>'],\n",
       " ['<s>', 'light', 'purp', '###', 'pink', '+ish', 'purp', '</s>'],\n",
       " ['<s>', '$UNK', 'green', '</s>'],\n",
       " ['<s>', 'green', 'bright', '</s>'],\n",
       " ['<s>', 'bright', '+est', 'green', '</s>'],\n",
       " ['<s>', 'red', 'purple', '</s>'],\n",
       " ['<s>', 'dark', 'purple', '</s>'],\n",
       " ['<s>', 'blue', 'grey', '</s>'],\n",
       " ['<s>', 'dull', 'purple', '</s>'],\n",
       " ['<s>', 'seafoam', 'green', '</s>'],\n",
       " ['<s>', 'bright', 'green', '</s>'],\n",
       " ['<s>', 'dark', '+er', 'purple', '</s>'],\n",
       " ['<s>', '$UNK', '</s>'],\n",
       " ['<s>', 'salmon', 'pink', '###', 'not', 'pink', '</s>'],\n",
       " ['<s>', 'lime', 'green', '</s>'],\n",
       " ['<s>', 'pale', 'blue', '</s>'],\n",
       " ['<s>', 'bright', 'green', '</s>'],\n",
       " ['<s>', '$UNK', 'color', '</s>'],\n",
       " ['<s>', 'light', '+er', 'blu', '</s>'],\n",
       " ['<s>', '$UNK', 'blue', '</s>'],\n",
       " ['<s>', 'sky', 'blue', '</s>'],\n",
       " ['<s>', 'light', '+er', 'purple', '</s>'],\n",
       " ['<s>', 'deep', 'purple', '</s>'],\n",
       " ['<s>', 'yellow', 'green', '</s>'],\n",
       " ['<s>', 'mint', 'green', '</s>'],\n",
       " ['<s>', 'bright', '+er', 'purple', '</s>'],\n",
       " ['<s>', 'puke', 'green', '</s>'],\n",
       " ['<s>', 'bright', 'blue', '</s>'],\n",
       " ['<s>', 'not', 'dark', '</s>'],\n",
       " ['<s>', 'not', 'blue', '###', 'not', 'orange', '</s>'],\n",
       " ['<s>', 'dull', 'blue', '</s>'],\n",
       " ['<s>', 'pink', 'purple', '</s>'],\n",
       " ['<s>', 'bright', '$UNK', '</s>'],\n",
       " ['<s>', '$UNK', '+ish', 'yellow', '</s>'],\n",
       " ['<s>', 'light', '+est', 'green', '</s>'],\n",
       " ['<s>', 'olive', 'brown', '+ish', '</s>'],\n",
       " ['<s>', 'grey', '+ish', 'blue', '</s>'],\n",
       " ['<s>', 'blue', 'bright', '</s>'],\n",
       " ['<s>', 'dark', '+er', 'purple', '</s>'],\n",
       " ['<s>', '$UNK', '</s>'],\n",
       " ['<s>', 'light', '+er', 'green', '</s>'],\n",
       " ['<s>', 'more', 'redd', '+ish', '</s>'],\n",
       " ['<s>', '$UNK', 'yellow', '</s>'],\n",
       " ['<s>', 'light', 'purple', '</s>'],\n",
       " ['<s>', '$UNK', '+ish', 'one', '</s>'],\n",
       " ['<s>', '</s>'],\n",
       " ['<s>', 'medium', 'green', '</s>'],\n",
       " ['<s>', 'light', '+er', 'grey', '</s>'],\n",
       " ['<s>', 'redd', '+ish', 'pink', '</s>'],\n",
       " ['<s>', 'for', '+est', 'green', '</s>'],\n",
       " ['<s>', 'dull', 'purple', '</s>'],\n",
       " ['<s>', 'light', '+est', 'green', '</s>'],\n",
       " ['<s>', 'green', 'grey', '</s>'],\n",
       " ['<s>', 'same', 'green', '</s>'],\n",
       " ['<s>', 'grey', '+ish', 'green', '</s>'],\n",
       " ['<s>', 'light', 'blue', '</s>'],\n",
       " ['<s>', 'muted', 'green', '</s>'],\n",
       " ['<s>', 'its', 'salmon', '</s>'],\n",
       " ['<s>', 'bright', 'green', '</s>'],\n",
       " ['<s>', 'dull', '+est', 'green', '###', 'not', 'lime', '</s>'],\n",
       " ['<s>', 'purple', '$UNK', '</s>'],\n",
       " ['<s>', 'dark', 'purple', '</s>'],\n",
       " ['<s>', 'sky', 'blue', '</s>'],\n",
       " ['<s>', 'bright', 'green', '</s>'],\n",
       " ['<s>', 'muted', 'color', '</s>'],\n",
       " ['<s>', 'dull', 'red', '###', 'not', 'orange', '</s>'],\n",
       " ['<s>', 'sand', 'colored', '</s>'],\n",
       " ['<s>', 'dark', 'sky', '</s>'],\n",
       " ['<s>', 'light', 'teal', '</s>'],\n",
       " ['<s>', 'purple', 'grey', '</s>'],\n",
       " ['<s>', 'bright', '+ish', 'green', '</s>'],\n",
       " ['<s>', '$UNK', 'grey', '</s>'],\n",
       " ['<s>', 'blue', 'grey', '</s>'],\n",
       " ['<s>', 'pink', 'bright', '+er', '</s>'],\n",
       " ['<s>', 'hot', '$UNK', '</s>'],\n",
       " ['<s>', 'green', '+ish', 'tan', '</s>'],\n",
       " ['<s>', 'green', '$UNK', '</s>'],\n",
       " ['<s>', 'olive', 'green', '</s>'],\n",
       " ['<s>', '$UNK', '$UNK', '</s>'],\n",
       " ['<s>', 'dull', 'purple', '</s>'],\n",
       " ['<s>', 'dark', 'blue', '</s>'],\n",
       " ['<s>', 'dark', 'blue', '</s>'],\n",
       " ['<s>', 'light', 'orange', '</s>'],\n",
       " ['<s>', 'most', 'blue', '</s>'],\n",
       " ['<s>', '$UNK', 'grey', '</s>'],\n",
       " ['<s>', 'dusty', 'mauve', '</s>'],\n",
       " ['<s>', 'blue', 'grey', '</s>'],\n",
       " ['<s>', '$UNK', 'grey', '</s>'],\n",
       " ['<s>', 'neon', 'green', '</s>'],\n",
       " ['<s>', 'bright', 'purple', '</s>'],\n",
       " ['<s>', '$UNK', '$UNK', '</s>'],\n",
       " ['<s>', 'same', 'blue', '</s>'],\n",
       " ['<s>', 'light', 'purple', '</s>'],\n",
       " ['<s>', 'lime', 'green', '###', '$UNK', '</s>'],\n",
       " ['<s>', 'light', 'blue', '</s>'],\n",
       " ['<s>', 'army', 'green', '</s>'],\n",
       " ['<s>', 'royal', 'blue', '</s>'],\n",
       " ['<s>', 'neon', 'green', '</s>'],\n",
       " ['<s>', 'dark', 'green', '</s>'],\n",
       " ['<s>', 'lite', 'orange', '</s>'],\n",
       " ['<s>', 'light', '+er', 'blue', '</s>'],\n",
       " ['<s>', 'very', 'true', '</s>'],\n",
       " ['<s>', 'dull', 'pink', '</s>'],\n",
       " ['<s>', 'deep', '+er', 'pink', '</s>'],\n",
       " ['<s>', 'pastel', 'green', '</s>'],\n",
       " ['<s>', 'dull', '+er', 'olive', '</s>'],\n",
       " ['<s>', 'hot', 'pink', '</s>'],\n",
       " ['<s>', 'muted', 'purple', '</s>'],\n",
       " ['<s>', 'dull', '$UNK', '</s>'],\n",
       " ['<s>', 'true', 'grey', '</s>'],\n",
       " ['<s>', 'sky', '$UNK', '</s>'],\n",
       " ['<s>', 'dark', 'blue', '</s>'],\n",
       " ['<s>', 'grey', '+ish', 'purple', '</s>'],\n",
       " ['<s>', 'dark', '+est', 'color', '</s>'],\n",
       " ['<s>', 'faded', 'pink', '</s>'],\n",
       " ['<s>', 'bright', 'green', '</s>'],\n",
       " ['<s>', 'light', 'aqua', '</s>'],\n",
       " ['<s>', 'pink', 'purple', '</s>'],\n",
       " ['<s>', '$UNK', '###', 'light', '+er', 'grey', '</s>'],\n",
       " ['<s>', 'bright', '+est', 'blue', '</s>'],\n",
       " ['<s>', 'pea', 'green', '</s>'],\n",
       " ['<s>', 'green', '+ish', 'grey', '</s>'],\n",
       " ['<s>', 'bright', '+est', 'purple', '</s>'],\n",
       " ['<s>', 'redd', '+est', 'one', '</s>'],\n",
       " ['<s>', 'purple', 'grey', '</s>'],\n",
       " ['<s>', 'deep', '+est', 'red', '</s>'],\n",
       " ['<s>', 'bright', 'green', '</s>'],\n",
       " ['<s>', '$UNK', '</s>'],\n",
       " ['<s>', 'blue', 'blue', '</s>'],\n",
       " ['<s>', 'dull', 'purple', '</s>'],\n",
       " ['<s>', 'green', '$UNK', '</s>'],\n",
       " ['<s>', 'not', 'lime', '</s>'],\n",
       " ['<s>', 'red', '$UNK', '</s>'],\n",
       " ['<s>', 'bright', '+est', 'orange', '</s>'],\n",
       " ['<s>', 'neon', 'green', '</s>'],\n",
       " ['<s>', 'dull', 'pink', '</s>'],\n",
       " ['<s>', 'bright', '+er', 'purple', '</s>'],\n",
       " ['<s>', 'bright', '+est', 'orange', '</s>'],\n",
       " ['<s>', 'dark', 'purple', 'blue', '</s>'],\n",
       " ['<s>', 'hot', 'pink', '</s>'],\n",
       " ['<s>', 'yellow', 'green', '</s>'],\n",
       " ['<s>', 'dark', 'purple', '</s>'],\n",
       " ['<s>', '$UNK', '$UNK', '###', '$UNK', '</s>'],\n",
       " ['<s>', 'royal', 'blue', '</s>'],\n",
       " ['<s>', 'blue', 'purple', '</s>'],\n",
       " ['<s>', 'light', 'blue', '</s>'],\n",
       " ['<s>', 'royal', 'blue', '</s>'],\n",
       " ['<s>', 'hot', 'pink', '</s>'],\n",
       " ['<s>', '$UNK', '</s>'],\n",
       " ['<s>', 'dull', 'green', '</s>'],\n",
       " ['<s>', 'dull', 'pink', '</s>'],\n",
       " ['<s>', '$UNK', 'green', '</s>'],\n",
       " ['<s>', 'yellow', 'green', '</s>'],\n",
       " ['<s>', 'grey', 'green', '</s>'],\n",
       " ['<s>', 'dark', '+er', 'green', '</s>'],\n",
       " ['<s>', 'sky', 'blue', '</s>'],\n",
       " ['<s>', 'dull', 'blue', '</s>'],\n",
       " ['<s>', 'pink', 'purple', '</s>'],\n",
       " ['<s>', 'dark', '+er', 'green', '</s>'],\n",
       " ['<s>', 'pale', 'green', '</s>'],\n",
       " ['<s>', 'grey', 'looking', '</s>'],\n",
       " ['<s>', 'dark', 'blue', '</s>'],\n",
       " ['<s>', 'light', 'blue', '</s>'],\n",
       " ['<s>', 'olive', 'green', '</s>'],\n",
       " ['<s>', 'bright', 'pink', '</s>'],\n",
       " ['<s>', 'bright', '+er', 'green', '</s>'],\n",
       " ['<s>', 'blu', '+est', 'purple', '</s>'],\n",
       " ['<s>', 'pink', 'purple', '</s>'],\n",
       " ['<s>', '$UNK', 'green', '</s>'],\n",
       " ['<s>', 'light', 'brown', '</s>'],\n",
       " ['<s>', 'hot', 'yellow', '###', 'bright', 'yellow', '</s>'],\n",
       " ['<s>', 'light', 'orange', '</s>'],\n",
       " ['<s>', 'dull', 'blue', '</s>'],\n",
       " ['<s>', 'the', 'brown', '</s>'],\n",
       " ['<s>', 'rich', '+est', 'blue', '</s>'],\n",
       " ['<s>', 'redd', '+est', 'one', '</s>'],\n",
       " ['<s>', 'bright', 'blue', '</s>'],\n",
       " ['<s>', 'pink', 'grey', '</s>'],\n",
       " ['<s>', 'dark', '+er', 'grey', '</s>'],\n",
       " ['<s>', 'dark', '+est', 'red', '</s>'],\n",
       " ['<s>', 'neon', 'green', '</s>'],\n",
       " ['<s>', 'bright', 'pink', '</s>'],\n",
       " ['<s>', 'less', 'green', '###', 'more', 'grey', '</s>'],\n",
       " ['<s>', 'more', '$UNK', '</s>'],\n",
       " ['<s>', '$UNK', 'yellow', '</s>'],\n",
       " ['<s>', 'dark', 'yellow', '</s>'],\n",
       " ['<s>', '$UNK', '$UNK', '</s>'],\n",
       " ['<s>', 'muted', 'aqua', '</s>'],\n",
       " ['<s>', 'lite', 'blue', '</s>'],\n",
       " ['<s>', 'hot', 'pink', '</s>'],\n",
       " ['<s>', 'blue', 'grey', '</s>'],\n",
       " ['<s>', 'less', 'color', '</s>'],\n",
       " ['<s>', 'purpl', '+ish', 'grey', '</s>'],\n",
       " ['<s>', 'most', 'yellow', '</s>'],\n",
       " ['<s>', 'not', 'purple', '</s>'],\n",
       " ['<s>', 'hot', 'pink', '</s>'],\n",
       " ['<s>', 'blue', '+ish', 'purple', '</s>'],\n",
       " ['<s>', 'dull', '+est', 'color', '</s>'],\n",
       " ['<s>', 'bright', '+er', 'blue', '</s>'],\n",
       " ['<s>', 'redd', '+er', 'grey', '</s>'],\n",
       " ['<s>', '$UNK', 'grey', '</s>'],\n",
       " ['<s>', 'dull', 'purple', '</s>'],\n",
       " ['<s>', 'green', 'dark', '+er', '</s>'],\n",
       " ['<s>', 'purple', '$UNK', '</s>'],\n",
       " ['<s>', 'neon', 'green', '</s>'],\n",
       " ['<s>', 'soft', 'pink', '</s>'],\n",
       " ['<s>', 'blue', '+ish', 'purple', '###', 'not', 'grey', '</s>'],\n",
       " ['<s>', 'bright', '+est', 'green', '</s>'],\n",
       " ['<s>', 'bright', 'pink', '</s>'],\n",
       " ['<s>', 'bright', '+est', 'purple', '</s>'],\n",
       " ['<s>', 'bright', 'purple', '</s>'],\n",
       " ['<s>', 'dark', '+est', 'orange', '</s>'],\n",
       " ['<s>', 'green', 'dark', '+er', '</s>'],\n",
       " ['<s>', 'olive', 'green', '</s>'],\n",
       " ['<s>', 'dull', 'pink', '</s>'],\n",
       " ['<s>', 'bold', '+est', 'blue', '</s>'],\n",
       " ['<s>', 'grey', '+ish', 'green', '</s>'],\n",
       " ['<s>', 'grey', '+ish', 'green', '</s>'],\n",
       " ['<s>', 'bright', 'blue', '</s>'],\n",
       " ['<s>', 'vibrant', 'turquoise', '</s>'],\n",
       " ['<s>', 'dark', '+er', 'blue', '</s>'],\n",
       " ['<s>', 'seafoam', 'green', '</s>'],\n",
       " ['<s>', 'dull', 'purple', '</s>'],\n",
       " ['<s>', 'bright', 'purple', '###', 'true', 'purple', '</s>'],\n",
       " ['<s>', 'light', 'blue', '</s>'],\n",
       " ['<s>', 'redd', '+ish', 'grey', '</s>'],\n",
       " ['<s>', 'dark', '+er', 'brown', '</s>'],\n",
       " ['<s>', 'medium', 'green', '</s>'],\n",
       " ['<s>', 'dull', 'blue', '</s>'],\n",
       " ['<s>', 'purple', 'grey', '</s>'],\n",
       " ['<s>', 'dark', 'purple', '</s>'],\n",
       " ['<s>', 'bright', '+er', 'green', '</s>'],\n",
       " ['<s>', 'bright', 'green', '</s>'],\n",
       " ['<s>', 'dull', '+est', 'green', '</s>'],\n",
       " ['<s>', 'pea', 'green', '</s>'],\n",
       " ['<s>', 'bright', 'blue', '</s>'],\n",
       " ['<s>', '$UNK', '</s>'],\n",
       " ['<s>', 'light', '+est', 'blue', '</s>'],\n",
       " ['<s>', 'light', '+er', 'grey', '</s>'],\n",
       " ['<s>', 'bright', '+est', 'color', '</s>'],\n",
       " ['<s>', 'true', 'blue', '</s>'],\n",
       " ['<s>', 'neon', 'bright', '</s>'],\n",
       " ['<s>', 'yellow', '+ish', 'green', '</s>'],\n",
       " ['<s>', 'bright', 'grey', '</s>'],\n",
       " ['<s>', 'bright', 'green', '</s>'],\n",
       " ['<s>', 'medium', 'blue', '</s>'],\n",
       " ['<s>', 'light', 'green', '</s>'],\n",
       " ['<s>', 'grey', 'purple', '</s>'],\n",
       " ['<s>', '$UNK', 'grey', '</s>'],\n",
       " ['<s>', 'bright', 'blue', '</s>'],\n",
       " ['<s>', 'bright', 'yellow', '</s>'],\n",
       " ['<s>', 'bright', '+er', 'pink', '</s>'],\n",
       " ['<s>', 'aqua', 'blue', '</s>'],\n",
       " ['<s>', 'dark', 'blue', '</s>'],\n",
       " ['<s>', '$UNK', '</s>'],\n",
       " ['<s>', 'dark', 'purple', '</s>'],\n",
       " ['<s>', 'neon', 'green', '</s>'],\n",
       " ['<s>', 'red', '+ish', 'brown', '</s>'],\n",
       " ['<s>', '$UNK', '$UNK', '</s>'],\n",
       " ['<s>', 'dark', '+er', 'green', '</s>'],\n",
       " ['<s>', 'dull', '+est', 'green', '</s>'],\n",
       " ['<s>', 'dark', 'blue', '###', 'not', 'grey', '</s>'],\n",
       " ['<s>', 'olive', 'green', '</s>'],\n",
       " ['<s>', 'most', 'blue', '</s>'],\n",
       " ['<s>', 'dark', 'blue', '</s>'],\n",
       " ['<s>', 'dark', '+er', 'blue', '</s>'],\n",
       " ['<s>', 'yellow', '+ish', 'green', '</s>'],\n",
       " ['<s>', 'grey', '+ish', 'purple', '</s>'],\n",
       " ['<s>', 'light', 'green', '</s>'],\n",
       " ['<s>', 'green', 'box', '</s>'],\n",
       " ['<s>', 'dull', 'green', '</s>'],\n",
       " ['<s>', 'purple', 'again', '</s>'],\n",
       " ['<s>', 'pure', 'red', '</s>'],\n",
       " ['<s>', 'sand', 'colored', '</s>'],\n",
       " ['<s>', 'neon', 'green', '</s>'],\n",
       " ['<s>', 'blue', 'grey', '</s>'],\n",
       " ['<s>', 'grey', '+ish', 'purple', '</s>'],\n",
       " ['<s>', 'dark', 'green', '</s>'],\n",
       " ['<s>', 'yellow', 'green', '</s>'],\n",
       " ['<s>', 'brown', 'one', '</s>'],\n",
       " ['<s>', 'dark', '+er', 'olive', '</s>'],\n",
       " ['<s>', 'light', 'blue', '</s>'],\n",
       " ['<s>', '$UNK', '</s>'],\n",
       " ['<s>', 'pink', 'purple', '</s>'],\n",
       " ['<s>', 'pal', '+er', 'green', '</s>'],\n",
       " ['<s>', 'neon', 'yellow', '</s>'],\n",
       " ['<s>', 'dull', 'grey', '</s>'],\n",
       " ['<s>', 'bright', 'blue', '</s>'],\n",
       " ['<s>', 'dark', 'pink', '</s>'],\n",
       " ['<s>', 'yellow', '+ish', 'green', '</s>'],\n",
       " ['<s>', 'blue', '+ish', 'grey', '</s>'],\n",
       " ['<s>', 'red', 'red', '</s>'],\n",
       " ['<s>', 'yellow', '+ish', 'brown', '</s>'],\n",
       " ['<s>', 'grass', 'green', '</s>'],\n",
       " ['<s>', 'hot', 'pink', '</s>'],\n",
       " ['<s>', 'blue', 'green', '</s>'],\n",
       " ['<s>', 'pink', '+ish', 'purple', '</s>'],\n",
       " ['<s>', 'dark', 'purple', '</s>'],\n",
       " ['<s>', 'soft', '+est', 'pink', '</s>'],\n",
       " ['<s>', 'dark', '+er', 'purple', '</s>'],\n",
       " ['<s>', 'dark', '+est', 'green', '</s>'],\n",
       " ['<s>', 'purple', 'purple', '</s>'],\n",
       " ['<s>', 'dull', '+er', 'green', '</s>'],\n",
       " ['<s>', 'purpl', '+ish', 'blue', '</s>'],\n",
       " ['<s>', 'blue', '+ish', 'purpl', '+ish', '</s>'],\n",
       " ['<s>', 'dirty', 'green', '</s>'],\n",
       " ['<s>', 'bright', 'purple', '</s>'],\n",
       " ['<s>', 'bright', 'blue', '</s>'],\n",
       " ['<s>', 'the', 'purple', '</s>'],\n",
       " ['<s>', 'bold', 'purple', '</s>'],\n",
       " ['<s>', 'bright', '+er', 'green', '</s>'],\n",
       " ['<s>', 'dark', 'purple', '</s>'],\n",
       " ['<s>', '$UNK', 'blue', '</s>'],\n",
       " ['<s>', 'vibrant', 'pink', '</s>'],\n",
       " ['<s>', 'not', 'purple', '</s>'],\n",
       " ['<s>', 'purple', 'blue', '</s>'],\n",
       " ['<s>', 'army', 'color', '</s>'],\n",
       " ['<s>', 'dark', '+er', 'green', '</s>'],\n",
       " ['<s>', 'neon', 'green', '</s>'],\n",
       " ['<s>', '$UNK', 'blue', '</s>'],\n",
       " ['<s>', 'pal', '+est', 'blue', '</s>'],\n",
       " ['<s>', 'neon', 'green', '</s>'],\n",
       " ['<s>', 'rose', 'pink', '</s>'],\n",
       " ['<s>', 'dark', 'orange', '</s>'],\n",
       " ['<s>', 'yellow', '+ish', 'green', '</s>'],\n",
       " ['<s>', 'dark', 'blue', '</s>'],\n",
       " ['<s>', 'vibrant', 'purple', '</s>'],\n",
       " ['<s>', 'light', '+est', 'blue', '</s>'],\n",
       " ['<s>', 'dark', '+er', 'orange', '</s>'],\n",
       " ['<s>', 'light', 'green', '</s>'],\n",
       " ['<s>', '$UNK', '$UNK', '</s>'],\n",
       " ['<s>', 'dull', 'green', '</s>'],\n",
       " ['<s>', 'its', '</s>'],\n",
       " ['<s>', 'bright', 'pink', '</s>'],\n",
       " ['<s>', 'dark', '+est', 'blue', '</s>'],\n",
       " ['<s>', 'grey', '+ish', 'purple', '</s>'],\n",
       " ['<s>', 'dull', '+est', 'one', '</s>'],\n",
       " ['<s>', 'medium', '$UNK', '</s>'],\n",
       " ['<s>', 'light', 'blue', '</s>'],\n",
       " ['<s>', 'grey', '+ish', 'blue', '</s>'],\n",
       " ['<s>', 'the', 'blue', 'grey', '</s>'],\n",
       " ['<s>', 'hot', 'pink', '</s>'],\n",
       " ['<s>', 'purple', 'grey', '</s>'],\n",
       " ['<s>', 'deep', '+er', 'purple', '</s>'],\n",
       " ['<s>', 'dark', 'purple', '</s>'],\n",
       " ['<s>', 'bright', 'green', '</s>'],\n",
       " ['<s>', 'bright', '+er', '$UNK', '</s>'],\n",
       " ['<s>', '$UNK', '$UNK', '</s>'],\n",
       " ['<s>', 'bright', 'green', '</s>'],\n",
       " ['<s>', 'dark', '+er', 'green', '</s>'],\n",
       " ['<s>', 'dull', '+est', 'purple', '</s>'],\n",
       " ['<s>', 'for', '+est', 'green', '</s>'],\n",
       " ['<s>', 'bright', '+est', 'yellow', '</s>'],\n",
       " ['<s>', 'lime', 'green', '</s>'],\n",
       " ['<s>', 'bright', '+er', 'purple', '</s>'],\n",
       " ['<s>', 'redd', '+ish', 'pink', '</s>'],\n",
       " ['<s>', 'bold', 'green', '</s>'],\n",
       " ['<s>', 'bright', '+er', 'purple', '</s>'],\n",
       " ['<s>', 'the', 'purple', '</s>'],\n",
       " ['<s>', '$UNK', '+er', 'green', '</s>'],\n",
       " ['<s>', 'purple', 'grey', '</s>'],\n",
       " ['<s>', 'violet', 'bright', '</s>'],\n",
       " ['<s>', 'grey', '+ish', 'brown', '</s>'],\n",
       " ['<s>', 'bright', 'green', '</s>'],\n",
       " ['<s>', 'more', 'green', '</s>'],\n",
       " ['<s>', 'grey', '+ish', 'color', '</s>'],\n",
       " ['<s>', 'dull', 'orange', '</s>'],\n",
       " ['<s>', 'dull', 'purp', '</s>'],\n",
       " ['<s>', 'bright', '+est', 'purple', '</s>'],\n",
       " ['<s>', 'bright', '+est', 'purple', '</s>'],\n",
       " ['<s>', 'more', 'blu', '+ish', '</s>'],\n",
       " ['<s>', 'dark', 'purp', '</s>'],\n",
       " ['<s>', 'bright', 'lime', '</s>'],\n",
       " ['<s>', 'most', '$UNK', '</s>'],\n",
       " ['<s>', 'blue', 'purple', '</s>'],\n",
       " ['<s>', 'pink', '+ish', 'one', '</s>'],\n",
       " ['<s>', 'purpl', '+ish', 'pink', '</s>'],\n",
       " ['<s>', 'pink', '+ish', 'red', '</s>'],\n",
       " ['<s>', 'sky', 'blue', '</s>'],\n",
       " ['<s>', 'dusty', 'green', '</s>'],\n",
       " ['<s>', '$UNK', 'green', '</s>'],\n",
       " ['<s>', 'bright', '+est', 'pink', '</s>'],\n",
       " ['<s>', 'more', 'grey', '+ish', '</s>'],\n",
       " ['<s>', 'most', '$UNK', '</s>'],\n",
       " ['<s>', 'dark', 'green', '</s>'],\n",
       " ['<s>', 'teal', 'green', '</s>'],\n",
       " ['<s>', 'bright', 'green', '</s>'],\n",
       " ['<s>', 'dark', 'purp', '</s>'],\n",
       " ['<s>', 'mauve', 'redd', '+ish', '</s>'],\n",
       " ...]"
      ]
     },
     "execution_count": 581,
     "metadata": {},
     "output_type": "execute_result"
    }
   ],
   "source": [
    "dev_seqs_train = [\n",
    "    seq\n",
    "    for seq in dev_seqs_train\n",
    "    if \n",
    "]"
   ]
  },
  {
   "cell_type": "markdown",
   "metadata": {},
   "source": [
    "We use only the train set to derive a vocabulary for the model:"
   ]
  },
  {
   "cell_type": "code",
   "execution_count": 569,
   "metadata": {},
   "outputs": [],
   "source": [
    "dev_vocab = sorted({w for toks in dev_seqs_train for w in toks})\n",
    "\n",
    "dev_vocab += [UNK_SYMBOL]"
   ]
  },
  {
   "cell_type": "markdown",
   "metadata": {},
   "source": [
    "It's important that the `UNK_SYMBOL` is included somewhere in this list. In test examples, words not seen in training will be mapped to `UNK_SYMBOL`. \n",
    "\n",
    "Conceptual note: If you model's vocab is the same as your train vocab, then `UNK_SYMBOL` will never be encountered during training, so it will be a random vector at test time."
   ]
  },
  {
   "cell_type": "code",
   "execution_count": 478,
   "metadata": {},
   "outputs": [
    {
     "data": {
      "text/plain": [
       "984"
      ]
     },
     "execution_count": 478,
     "metadata": {},
     "output_type": "execute_result"
    }
   ],
   "source": [
    "len(dev_vocab)"
   ]
  },
  {
   "cell_type": "markdown",
   "metadata": {},
   "source": [
    "## Question 2: Improve the color representations [1 point]\n",
    "\n",
    "This is the second required pipeline improvement for the assignment. \n",
    "\n",
    "The following functions do nothing at all to the raw input colors we get from the corpus. "
   ]
  },
  {
   "cell_type": "code",
   "execution_count": 574,
   "metadata": {},
   "outputs": [],
   "source": [
    "# def represent_color_context(colors):\n",
    "\n",
    "#     # Improve me!\n",
    "\n",
    "#     return [represent_color(color) for color in colors]\n",
    "\n",
    "\n",
    "# def represent_color(color):\n",
    "\n",
    "#     # Improve me!\n",
    "\n",
    "#     return color"
   ]
  },
  {
   "cell_type": "code",
   "execution_count": 597,
   "metadata": {},
   "outputs": [],
   "source": [
    "def hsl_to_hsv(hsl):\n",
    "    h, s, l = hsl\n",
    "    v = l + s * min(l, 1-l)\n",
    "    s = 0 if v == 0 else 2*(1 - l/v)\n",
    "    return [h, s, v]\n",
    "\n",
    "# TO DO: check space, add convert to rgb_norm or hsv_norm function? \n",
    "def represent_color_context(colors, space, resolution=3):\n",
    "    \n",
    "    # # convert colors to hsv\n",
    "    # h, s, l = colors\n",
    "    # v = l + s * min(l, 1-l)\n",
    "    # s = 0 if v == 0 else 2*(1 - l/v)\n",
    "    # colors = h, s, v\n",
    "    \n",
    "    if space not in (\"rgb_norm\", \"hsv_norm\"):\n",
    "        print(\"Space must be rgb_norm or hsv_norm to use fourier transform\")\n",
    "        return None\n",
    "    \n",
    "    resolution = [resolution for _ in colors]\n",
    "    colors = np.array([colors])\n",
    "    \n",
    "    # following considers 2 spaces\n",
    "    if space == \"rgb_norm\":\n",
    "        ranges = np.array([256, 256, 256])\n",
    "    else:\n",
    "        ranges = np.array([361, 101, 101])\n",
    "\n",
    "    if space == \"rgb_norm\":\n",
    "        xyz = colors / 2\n",
    "    else:\n",
    "        xyz = colors / 2\n",
    "        xyz[:, 0] *= 2 \n",
    "\n",
    "    ax, ay, az = [np.arange(0, g) for g, r in zip(resolution, ranges)]\n",
    "    gx, gy, gz = np.meshgrid(ax, ay, az)\n",
    "\n",
    "    arg = (np.multiply.outer(xyz[:, 0], gx) +\n",
    "           np.multiply.outer(xyz[:, 1], gy) +\n",
    "           np.multiply.outer(xyz[:, 2], gz))\n",
    "\n",
    "    repr_complex = np.exp(-2j * np.pi * (arg % 1.0)).swapaxes(1, 2).reshape((xyz.shape[0], -1))\n",
    "    \n",
    "    # result = np.hstack([repr_complex.real, repr_complex.imag]).astype(np.float32)\n",
    "    result = np.hstack([repr_complex.real, repr_complex.imag])\n",
    "\n",
    "    return result[0]\n",
    "\n",
    "    #return [represent_color(color) for color in colors]"
   ]
  },
  {
   "cell_type": "code",
   "execution_count": 598,
   "metadata": {},
   "outputs": [
    {
     "ename": "TypeError",
     "evalue": "represent_color_context() missing 1 required positional argument: 'space'",
     "output_type": "error",
     "traceback": [
      "\u001b[0;31m---------------------------------------------------------------------------\u001b[0m",
      "\u001b[0;31mTypeError\u001b[0m                                 Traceback (most recent call last)",
      "\u001b[0;32m/var/folders/jh/2sb40n2j3jncxjqtq3jgqsh80000gn/T/ipykernel_4980/1332217842.py\u001b[0m in \u001b[0;36m<module>\u001b[0;34m\u001b[0m\n\u001b[1;32m      3\u001b[0m     \u001b[0mconverted_to_hsv\u001b[0m\u001b[0;34m.\u001b[0m\u001b[0mappend\u001b[0m\u001b[0;34m(\u001b[0m\u001b[0mhsl_to_hsv\u001b[0m\u001b[0;34m(\u001b[0m\u001b[0mcolor\u001b[0m\u001b[0;34m)\u001b[0m\u001b[0;34m)\u001b[0m\u001b[0;34m\u001b[0m\u001b[0;34m\u001b[0m\u001b[0m\n\u001b[1;32m      4\u001b[0m \u001b[0;34m\u001b[0m\u001b[0m\n\u001b[0;32m----> 5\u001b[0;31m \u001b[0mrepresent_color_context\u001b[0m\u001b[0;34m(\u001b[0m\u001b[0mconverted_to_hsv\u001b[0m\u001b[0;34m)\u001b[0m\u001b[0;34m\u001b[0m\u001b[0;34m\u001b[0m\u001b[0m\n\u001b[0m",
      "\u001b[0;31mTypeError\u001b[0m: represent_color_context() missing 1 required positional argument: 'space'"
     ]
    }
   ],
   "source": [
    "converted_to_hsv = []\n",
    "for color in dev_rawcols_train[0]:\n",
    "    converted_to_hsv.append(hsl_to_hsv(color))\n",
    "    \n",
    "represent_color_context(converted_to_hsv)"
   ]
  },
  {
   "cell_type": "code",
   "execution_count": 593,
   "metadata": {},
   "outputs": [
    {
     "name": "stdout",
     "output_type": "stream",
     "text": [
      "Space must be rgb_norm or hsv_norm to use fourier transform\n"
     ]
    }
   ],
   "source": [
    "represent_color_context(dev_rawcols_train[0])"
   ]
  },
  {
   "cell_type": "markdown",
   "metadata": {},
   "source": [
    "__Your task__: Modify `represent_color_context` and/or `represent_color` to represent colors in a new way.\n",
    "    \n",
    "__Notes__:\n",
    "\n",
    "* You are not required to keep `represent_color`. This might be unnatural if you want to perform an operation on each color trio all at once.\n",
    "* For that matter, if you want to process all of the color contexts in the entire data set all at once, that is fine too, as long as you can also perform the operation at test time with an unknown number of examples being tested.\n",
    "\n",
    "* The Fourier-transform method of [Monroe et al. 2016](https://www.aclweb.org/anthology/D16-1243/) and [Monroe et al. 2017](https://transacl.org/ojs/index.php/tacl/article/view/1142) is a proven choice for our task. __It is not required that you implement this.__ However, if you decide to, you might find that the overly terse presentation in the paper is an obstacle. They key thing to see is that the notation $\\hat{f}_{jkl}$ is meant to specify a full coordinate system. Thus, you might do something like\n",
    "\n",
    "  ```\n",
    "from itertools import product\n",
    "for j, k, l in product((0, 1, 2), repeat=3):    \n",
    "    f_jkl = ...\n",
    "```\n",
    "\n",
    "  and collect these `f_jkl` values in a list of 27 values. Additionally, in Python, [`2j` produces a value with `real` and `imag` attributes](https://docs.python.org/3.7/library/cmath.html). Each element `f_jkl` should have these components. If you concatenate the `real` and `imag` parts of all the `f_jkl`, you will have a 54-dimensional representation, as in the paper. Remember to start with an HSV representation, and with $h$ in $[0, 360]$, $s$ in $[0, 200]$, and $v$ in $[0, 200]$ (or else do the scaling differently). Note that the values in our corpus are in HLS format, [which are easily converted to HSV](https://en.wikipedia.org/wiki/HSL_and_HSV#HSL_to_HSV).\n",
    "  \n",
    "* It's natural to ask why this Fourier transform is useful in the current context. This is a challenging question, and I don't have a complete answer, but here is an intuitive observation: if you consider the raw color representations to be embeddings, then you can see very quickly that our standard geometric notions are totally out of line with our intuitions about the colors themselves. For example, here is a plot where we simply vary the hue dimension while keeping the other dimensions constant:\n",
    "\n",
    "  <img src=\"fig/colors-hue-hls.png\" alt=\"A series of very different colors with cosine distances from orange ranging from 0 to 0.19\" />\n",
    "\n",
    "  I've printed the cosine distances from the leftmost color above each patch. They all look pretty similar. Now, you might say, well at least the distances are sort of proportional to how different the colors are from the first. However, that argument seems to crumble when we do the same experiment but now varying the saturation dimension:\n",
    "\n",
    "  <img src=\"fig/colors-saturation-hls.png\" alt=\"A series of very similar purple-ish colors with cosine distances from gray-purple ranging from 0 to 0.19\" />\n",
    "\n",
    "  These colors are all quite simular intuitively. Notice, though, that the cosine distances are identical to my first plot. Of course! Cosine distances doesn't care about the nature of these dimensions! The underlying color space is a cylinder, not a regular Euclidean 3d space!\n",
    "  \n",
    "  The Fourier transformation that we apply is remapping the colors into approximately the cylindrical space that we want. It is at least capturing some the circular/radial relationships that are inherent in the space. Thus, here are plots corresponding to the above, but now where the colors have been transformed for the cosine comparisons. \n",
    "  \n",
    "  First, the hue variation:\n",
    "  \n",
    "  <img src=\"fig/colors-hue-fourier.png\" alt=\"A series of very different colors with cosine distances from orange that are generally large (near 1.0)\" />\n",
    "\n",
    "  And then saturation:\n",
    "  \n",
    "  <img src=\"fig/colors-saturation-fourier.png\" alt=\"A series of very similar purple-ish colors with cosine distances from gray purple that seem aligned with visual color similarity\" />\n",
    "  \n",
    "  These distances seem much better aligned with intuitions to me, and I think that's quite general. Thus, even if our networks can in principle learn this remapping, it's very helpful to at least start them closer to where we want them to be.\n",
    "  \n",
    "  If you want to go one layer deeper, then the [Zhang and Lu 2002](https://www.sciencedirect.com/science/article/pii/S092359650200084X) paper that Monroe et al. 2016 cite is pretty intuitive. It's for the 2d case, but that actually makes the ideas somewhere more accessible, since they can easily plot the original and remapped feature spaces."
   ]
  },
  {
   "cell_type": "markdown",
   "metadata": {},
   "source": [
    "The following test seeks to ensure only that the output of your `represent_color_context` will be compatible with the models we are creating:"
   ]
  },
  {
   "cell_type": "code",
   "execution_count": 589,
   "metadata": {},
   "outputs": [],
   "source": [
    "def test_represent_color_context(func):\n",
    "    \"\"\"`func` should be `represent_color_context`\"\"\"\n",
    "    example = [\n",
    "        [0.786, 0.58, 0.87],\n",
    "        [0.689, 0.44, 0.92],\n",
    "        [0.628, 0.32, 0.81]]\n",
    "    result = func(example)\n",
    "    assert len(result) == len(example), \\\n",
    "        (\"Color context representations need to represent each color \"\n",
    "         \"separately. (We assume the final color is the target.)\")\n",
    "    for i, color in enumerate(result):\n",
    "        assert all(isinstance(x, float) for x in color), \\\n",
    "            (\"All color representations should be lists of floats. \"\n",
    "             \"Color {} is {}\".format(i, color))"
   ]
  },
  {
   "cell_type": "code",
   "execution_count": 590,
   "metadata": {},
   "outputs": [
    {
     "name": "stdout",
     "output_type": "stream",
     "text": [
      "Space must be rgb_norm or hsv_norm to use fourier transform\n"
     ]
    },
    {
     "ename": "TypeError",
     "evalue": "object of type 'NoneType' has no len()",
     "output_type": "error",
     "traceback": [
      "\u001b[0;31m---------------------------------------------------------------------------\u001b[0m",
      "\u001b[0;31mTypeError\u001b[0m                                 Traceback (most recent call last)",
      "\u001b[0;32m/var/folders/jh/2sb40n2j3jncxjqtq3jgqsh80000gn/T/ipykernel_4980/2036083215.py\u001b[0m in \u001b[0;36m<module>\u001b[0;34m\u001b[0m\n\u001b[1;32m      1\u001b[0m \u001b[0;32mif\u001b[0m \u001b[0;34m'IS_GRADESCOPE_ENV'\u001b[0m \u001b[0;32mnot\u001b[0m \u001b[0;32min\u001b[0m \u001b[0mos\u001b[0m\u001b[0;34m.\u001b[0m\u001b[0menviron\u001b[0m\u001b[0;34m:\u001b[0m\u001b[0;34m\u001b[0m\u001b[0;34m\u001b[0m\u001b[0m\n\u001b[0;32m----> 2\u001b[0;31m     \u001b[0mtest_represent_color_context\u001b[0m\u001b[0;34m(\u001b[0m\u001b[0mrepresent_color_context\u001b[0m\u001b[0;34m)\u001b[0m\u001b[0;34m\u001b[0m\u001b[0;34m\u001b[0m\u001b[0m\n\u001b[0m",
      "\u001b[0;32m/var/folders/jh/2sb40n2j3jncxjqtq3jgqsh80000gn/T/ipykernel_4980/1145646704.py\u001b[0m in \u001b[0;36mtest_represent_color_context\u001b[0;34m(func)\u001b[0m\n\u001b[1;32m      6\u001b[0m         [0.628, 0.32, 0.81]]\n\u001b[1;32m      7\u001b[0m     \u001b[0mresult\u001b[0m \u001b[0;34m=\u001b[0m \u001b[0mfunc\u001b[0m\u001b[0;34m(\u001b[0m\u001b[0mexample\u001b[0m\u001b[0;34m)\u001b[0m\u001b[0;34m\u001b[0m\u001b[0;34m\u001b[0m\u001b[0m\n\u001b[0;32m----> 8\u001b[0;31m     \u001b[0;32massert\u001b[0m \u001b[0mlen\u001b[0m\u001b[0;34m(\u001b[0m\u001b[0mresult\u001b[0m\u001b[0;34m)\u001b[0m \u001b[0;34m==\u001b[0m \u001b[0mlen\u001b[0m\u001b[0;34m(\u001b[0m\u001b[0mexample\u001b[0m\u001b[0;34m)\u001b[0m\u001b[0;34m,\u001b[0m\u001b[0;31m \u001b[0m\u001b[0;31m\\\u001b[0m\u001b[0;34m\u001b[0m\u001b[0;34m\u001b[0m\u001b[0m\n\u001b[0m\u001b[1;32m      9\u001b[0m         (\"Color context representations need to represent each color \"\n\u001b[1;32m     10\u001b[0m          \"separately. (We assume the final color is the target.)\")\n",
      "\u001b[0;31mTypeError\u001b[0m: object of type 'NoneType' has no len()"
     ]
    }
   ],
   "source": [
    "if 'IS_GRADESCOPE_ENV' not in os.environ:\n",
    "    test_represent_color_context(represent_color_context)"
   ]
  },
  {
   "cell_type": "markdown",
   "metadata": {},
   "source": [
    "## Use the color representer"
   ]
  },
  {
   "cell_type": "markdown",
   "metadata": {},
   "source": [
    "The following cell just runs your `represent_color_context` on the train and test sets:"
   ]
  },
  {
   "cell_type": "code",
   "execution_count": 578,
   "metadata": {},
   "outputs": [],
   "source": [
    "dev_cols_train = [represent_color_context(colors) for colors in dev_rawcols_train]\n",
    "\n",
    "dev_cols_test = [represent_color_context(colors) for colors in dev_rawcols_test]"
   ]
  },
  {
   "cell_type": "markdown",
   "metadata": {},
   "source": [
    "At this point, our preprocessing steps are complete, and we can fit a first model."
   ]
  },
  {
   "cell_type": "markdown",
   "metadata": {},
   "source": [
    "## Initial model\n",
    "\n",
    "The first model is configured right now to be a small model run for just a few iterations. It should be enough to get traction, but it's unlikely to be a great model. You are free to modify this configuration if you wish; it is here just for demonstration and testing:"
   ]
  },
  {
   "cell_type": "code",
   "execution_count": 579,
   "metadata": {},
   "outputs": [],
   "source": [
    "dev_mod = ContextualColorDescriber(\n",
    "    dev_vocab,\n",
    "    early_stopping=True)"
   ]
  },
  {
   "cell_type": "code",
   "execution_count": 580,
   "metadata": {},
   "outputs": [
    {
     "name": "stderr",
     "output_type": "stream",
     "text": [
      "Stopping after epoch 17. Validation score did not improve by tol=1e-05 for more than 10 epochs. Final error is 33.736329793930054"
     ]
    },
    {
     "name": "stdout",
     "output_type": "stream",
     "text": [
      "CPU times: user 34.5 s, sys: 709 ms, total: 35.2 s\n",
      "Wall time: 30.1 s\n"
     ]
    }
   ],
   "source": [
    "if 'IS_GRADESCOPE_ENV' not in os.environ:\n",
    "    %time _ = dev_mod.fit(dev_cols_train, dev_seqs_train)\n",
    "else:\n",
    "    dev_mod.fit(dev_cols_train, dev_seqs_train)"
   ]
  },
  {
   "cell_type": "markdown",
   "metadata": {},
   "source": [
    "The canonical bake-off evaluation function is `evaluate`. Our primary metric is `listener_accuracy`; the BLEU score is included as a check to ensure that your system is speaking English!"
   ]
  },
  {
   "cell_type": "code",
   "execution_count": 440,
   "metadata": {},
   "outputs": [],
   "source": [
    "evaluation = dev_mod.evaluate(dev_cols_test, dev_seqs_test)"
   ]
  },
  {
   "cell_type": "code",
   "execution_count": 441,
   "metadata": {},
   "outputs": [
    {
     "data": {
      "text/plain": [
       "dict_keys(['listener_accuracy', 'corpus_bleu', 'target_index', 'predicted_index', 'predicted_utterance'])"
      ]
     },
     "execution_count": 441,
     "metadata": {},
     "output_type": "execute_result"
    }
   ],
   "source": [
    "evaluation.keys()"
   ]
  },
  {
   "cell_type": "code",
   "execution_count": 442,
   "metadata": {},
   "outputs": [
    {
     "data": {
      "text/plain": [
       "0.4045493809386697"
      ]
     },
     "execution_count": 442,
     "metadata": {},
     "output_type": "execute_result"
    }
   ],
   "source": [
    "evaluation['listener_accuracy']"
   ]
  },
  {
   "cell_type": "code",
   "execution_count": 443,
   "metadata": {},
   "outputs": [
    {
     "data": {
      "text/plain": [
       "0.4045493809386697"
      ]
     },
     "execution_count": 443,
     "metadata": {},
     "output_type": "execute_result"
    }
   ],
   "source": [
    "dev_mod.listener_accuracy(dev_cols_test, dev_seqs_test)"
   ]
  },
  {
   "cell_type": "code",
   "execution_count": 444,
   "metadata": {},
   "outputs": [
    {
     "data": {
      "text/plain": [
       "0.05434782608695652"
      ]
     },
     "execution_count": 444,
     "metadata": {},
     "output_type": "execute_result"
    }
   ],
   "source": [
    "evaluation['corpus_bleu']"
   ]
  },
  {
   "cell_type": "code",
   "execution_count": 445,
   "metadata": {},
   "outputs": [
    {
     "data": {
      "text/plain": [
       "0.05434782608695652"
      ]
     },
     "execution_count": 445,
     "metadata": {},
     "output_type": "execute_result"
    }
   ],
   "source": [
    "bleu, predicted_utterances = dev_mod.corpus_bleu(dev_cols_test, dev_seqs_test)\n",
    "\n",
    "bleu"
   ]
  },
  {
   "cell_type": "code",
   "execution_count": 446,
   "metadata": {},
   "outputs": [
    {
     "data": {
      "text/plain": [
       "[2, 2, 2, 2, 2]"
      ]
     },
     "execution_count": 446,
     "metadata": {},
     "output_type": "execute_result"
    }
   ],
   "source": [
    "evaluation['target_index'][: 5]"
   ]
  },
  {
   "cell_type": "code",
   "execution_count": 447,
   "metadata": {},
   "outputs": [
    {
     "data": {
      "text/plain": [
       "[2, 0, 0, 2, 1]"
      ]
     },
     "execution_count": 447,
     "metadata": {},
     "output_type": "execute_result"
    }
   ],
   "source": [
    "evaluation['predicted_index'][: 5]"
   ]
  },
  {
   "cell_type": "code",
   "execution_count": 448,
   "metadata": {},
   "outputs": [
    {
     "data": {
      "text/plain": [
       "[['<s>',\n",
       "  'dullest',\n",
       "  'care',\n",
       "  'green',\n",
       "  'olive',\n",
       "  'tint',\n",
       "  'ugly',\n",
       "  'purplish',\n",
       "  'elephant',\n",
       "  'purplish',\n",
       "  'purplish',\n",
       "  'silver',\n",
       "  'nasty',\n",
       "  'non',\n",
       "  'olive',\n",
       "  'boldest',\n",
       "  'royla',\n",
       "  'one',\n",
       "  'true',\n",
       "  'tint'],\n",
       " ['<s>',\n",
       "  'greylol',\n",
       "  'location',\n",
       "  'medium',\n",
       "  'colorful',\n",
       "  'reddy',\n",
       "  'brown',\n",
       "  'brown',\n",
       "  'brown',\n",
       "  'brown',\n",
       "  'brown',\n",
       "  'tint',\n",
       "  'bluegrren',\n",
       "  'tradional',\n",
       "  'burnt',\n",
       "  'greylol',\n",
       "  'yello',\n",
       "  'regular',\n",
       "  'dunno',\n",
       "  'waithold'],\n",
       " ['<s>',\n",
       "  'dullest',\n",
       "  'care',\n",
       "  'green',\n",
       "  'olive',\n",
       "  'tint',\n",
       "  'ugly',\n",
       "  'purplish',\n",
       "  'elephant',\n",
       "  'purplish',\n",
       "  'purplish',\n",
       "  'silver',\n",
       "  'nasty',\n",
       "  'non',\n",
       "  'olive',\n",
       "  'boldest',\n",
       "  'royla',\n",
       "  'one',\n",
       "  'true',\n",
       "  'tint'],\n",
       " ['<s>',\n",
       "  'dullest',\n",
       "  'care',\n",
       "  'green',\n",
       "  'olive',\n",
       "  'tint',\n",
       "  'ugly',\n",
       "  'purplish',\n",
       "  'elephant',\n",
       "  'purplish',\n",
       "  'purplish',\n",
       "  'silver',\n",
       "  'nasty',\n",
       "  'non',\n",
       "  'olive',\n",
       "  'boldest',\n",
       "  'royla',\n",
       "  'one',\n",
       "  'true',\n",
       "  'tint'],\n",
       " ['<s>',\n",
       "  'greylol',\n",
       "  'location',\n",
       "  'medium',\n",
       "  'colorful',\n",
       "  'reddy',\n",
       "  'brown',\n",
       "  'brown',\n",
       "  'brown',\n",
       "  'brown',\n",
       "  'brown',\n",
       "  'tint',\n",
       "  'bluegrren',\n",
       "  'tradional',\n",
       "  'burnt',\n",
       "  'greylol',\n",
       "  'yello',\n",
       "  'regular',\n",
       "  'dunno',\n",
       "  'waithold']]"
      ]
     },
     "execution_count": 448,
     "metadata": {},
     "output_type": "execute_result"
    }
   ],
   "source": [
    "evaluation['predicted_utterance'][: 5]"
   ]
  },
  {
   "cell_type": "markdown",
   "metadata": {},
   "source": [
    "We can also see the model's predicted sequences given color context inputs:"
   ]
  },
  {
   "cell_type": "code",
   "execution_count": 449,
   "metadata": {},
   "outputs": [
    {
     "data": {
      "text/plain": [
       "[['<s>',\n",
       "  'dullest',\n",
       "  'care',\n",
       "  'green',\n",
       "  'olive',\n",
       "  'tint',\n",
       "  'ugly',\n",
       "  'purplish',\n",
       "  'elephant',\n",
       "  'purplish',\n",
       "  'purplish',\n",
       "  'silver',\n",
       "  'nasty',\n",
       "  'non',\n",
       "  'olive',\n",
       "  'boldest',\n",
       "  'royla',\n",
       "  'one',\n",
       "  'true',\n",
       "  'tint']]"
      ]
     },
     "execution_count": 449,
     "metadata": {},
     "output_type": "execute_result"
    }
   ],
   "source": [
    "dev_mod.predict(dev_cols_test[: 1])"
   ]
  },
  {
   "cell_type": "code",
   "execution_count": 450,
   "metadata": {},
   "outputs": [
    {
     "data": {
      "text/plain": [
       "[['<s>', 'right', 'side', '###', 'purple', 'pinkish', '</s>']]"
      ]
     },
     "execution_count": 450,
     "metadata": {},
     "output_type": "execute_result"
    }
   ],
   "source": [
    "dev_seqs_test[: 1]"
   ]
  },
  {
   "cell_type": "markdown",
   "metadata": {},
   "source": [
    "## Question 3: GloVe embeddings [1 point]\n",
    "\n",
    "The above model uses a random initial embedding, as configured by the decoder used by `ContextualColorDescriber`. This homework question asks you to consider using GloVe inputs. \n",
    "\n",
    "__Your task__: Complete `create_glove_embedding` so that it creates a GloVe embedding based on your model vocabulary. This isn't meant to be analytically challenging, but rather just to create a basis for you to try out other kinds of rich initialization."
   ]
  },
  {
   "cell_type": "code",
   "execution_count": 451,
   "metadata": {},
   "outputs": [],
   "source": [
    "GLOVE_HOME = os.path.join('data', 'glove.6B')"
   ]
  },
  {
   "cell_type": "code",
   "execution_count": 452,
   "metadata": {},
   "outputs": [],
   "source": [
    "def create_glove_embedding(vocab, glove_base_filename='glove.6B.50d.txt'):\n",
    "    # Use `utils.glove2dict` to read in the GloVe file:\n",
    "    glove_path = os.path.join(\"./data\", \"glove.6B\", glove_base_filename)\n",
    "    lookup = utils.glove2dict(glove_path)\n",
    "\n",
    "    # Use `utils.create_pretrained_embedding` to create the embedding.\n",
    "    # This function will, by default, ensure that START_TOKEN,\n",
    "    # END_TOKEN, and UNK_TOKEN are included in the embedding.\n",
    "\n",
    "    embedding, new_vocab = utils.create_pretrained_embedding(\n",
    "        lookup, vocab, required_tokens=('$UNK', \"<s>\", \"</s>\")\n",
    "    )\n",
    "\n",
    "\n",
    "    # Be sure to return the embedding you create as well as the\n",
    "    # vocabulary returned by `utils.create_pretrained_embedding`,\n",
    "    # which is likely to have been modified from the input `vocab`.\n",
    "\n",
    "    return embedding, new_vocab"
   ]
  },
  {
   "cell_type": "code",
   "execution_count": 453,
   "metadata": {},
   "outputs": [],
   "source": [
    "def test_create_glove_embedding(func):\n",
    "    vocab = ['NLU', 'is', 'the', 'future', '.', '$UNK', '<s>', '</s>']\n",
    "    glove_embedding, glove_vocab = func(vocab, 'glove.6B.50d.txt')\n",
    "    assert isinstance(glove_embedding, np.ndarray), \\\n",
    "        \"Expected embedding type {}; got {}\".format(\n",
    "        glove_embedding.__class__.__name__, glove_embedding.__class__.__name__)\n",
    "    assert glove_embedding.shape == (8, 50), \\\n",
    "        \"Expected embedding shape (8, 50); got {}\".format(glove_embedding.shape)\n",
    "    assert glove_vocab == vocab, \\\n",
    "        \"Expected vocab {}; got {}\".format(vocab, glove_vocab)"
   ]
  },
  {
   "cell_type": "code",
   "execution_count": 454,
   "metadata": {},
   "outputs": [],
   "source": [
    "if 'IS_GRADESCOPE_ENV' not in os.environ:\n",
    "    test_create_glove_embedding(create_glove_embedding)"
   ]
  },
  {
   "cell_type": "markdown",
   "metadata": {},
   "source": [
    "## Try the GloVe representations"
   ]
  },
  {
   "cell_type": "markdown",
   "metadata": {},
   "source": [
    "The extent to which GloVe is useful will depend heavily on how aligned your tokenization scheme is with the GloVe vocabulary. For example, if you did character-level tokenization, then the GloVe embedding space is not well-aligned with your tokenizer and using GloVe should have little no positive effect."
   ]
  },
  {
   "cell_type": "markdown",
   "metadata": {},
   "source": [
    "Let's see if GloVe helped for our development data:"
   ]
  },
  {
   "cell_type": "code",
   "execution_count": 455,
   "metadata": {},
   "outputs": [],
   "source": [
    "dev_glove_embedding, dev_glove_vocab = create_glove_embedding(dev_vocab)"
   ]
  },
  {
   "cell_type": "code",
   "execution_count": 456,
   "metadata": {},
   "outputs": [
    {
     "data": {
      "text/plain": [
       "984"
      ]
     },
     "execution_count": 456,
     "metadata": {},
     "output_type": "execute_result"
    }
   ],
   "source": [
    "len(dev_vocab)"
   ]
  },
  {
   "cell_type": "code",
   "execution_count": 457,
   "metadata": {},
   "outputs": [
    {
     "data": {
      "text/plain": [
       "984"
      ]
     },
     "execution_count": 457,
     "metadata": {},
     "output_type": "execute_result"
    }
   ],
   "source": [
    "len(dev_glove_vocab)"
   ]
  },
  {
   "cell_type": "code",
   "execution_count": 458,
   "metadata": {},
   "outputs": [],
   "source": [
    "dev_mod_glove = ContextualColorDescriber(\n",
    "    dev_glove_vocab,\n",
    "    embedding=dev_glove_embedding,\n",
    "    early_stopping=True)"
   ]
  },
  {
   "cell_type": "code",
   "execution_count": 459,
   "metadata": {},
   "outputs": [
    {
     "name": "stderr",
     "output_type": "stream",
     "text": [
      "Stopping after epoch 15. Validation score did not improve by tol=1e-05 for more than 10 epochs. Final error is 45.91587829589844"
     ]
    }
   ],
   "source": [
    "_ = dev_mod_glove.fit(dev_cols_train, dev_seqs_train)"
   ]
  },
  {
   "cell_type": "code",
   "execution_count": 460,
   "metadata": {},
   "outputs": [
    {
     "data": {
      "text/plain": [
       "0.3288223437949899"
      ]
     },
     "execution_count": 460,
     "metadata": {},
     "output_type": "execute_result"
    }
   ],
   "source": [
    "dev_mod_glove.listener_accuracy(dev_cols_test, dev_seqs_test)"
   ]
  },
  {
   "cell_type": "markdown",
   "metadata": {},
   "source": [
    "You probably saw a small boost, assuming your tokeization scheme leads to good overlap with the GloVe vocabulary. The input representations are larger than in our previous model (at least as I configured things), so we would need to do more runs with higher `max_iter` values to see whether this is worthwhile overall."
   ]
  },
  {
   "cell_type": "markdown",
   "metadata": {},
   "source": [
    "## Question 4: Color context [3 points]\n",
    "\n",
    "The final required homework question is the most challenging, but it should set you up to think in much more flexible ways about the underlying model we're using.\n",
    "\n",
    "The question asks you to modify various model components in `torch_color_describer.py`. The section called [Modifying the core model](colors_overview.ipynb#Modifying-the-core-model) from the core unit notebook provides a number of examples illustrating the basic techniques, so you might review that material if you get stuck here.\n",
    "\n",
    "__Your task__: Building on ideas from [Monroe et al. 2017](https://transacl.org/ojs/index.php/tacl/article/view/1142), you will redesign the model so that the target color (the final one in the context) is appended to each input token that gets processed by the decoder. The question asks you to subclass the `Decoder` and `EncoderDecoder` from `torch_color_describer.py` so that you can build models that do this."
   ]
  },
  {
   "cell_type": "markdown",
   "metadata": {},
   "source": [
    "__Step 1__: Modify the `Decoder` so that the input vector to the model at each timestep is not just a token representation `x` but the concatenation of `x` with the representation of the target color.\n",
    "\n",
    "__Notes__:\n",
    "\n",
    "* You might notice at this point that the original `Decoder.forward` method has an optional keyword argument `target_colors` that is passed to `Decoder.get_embeddings`. Because this is already in place, all you have to do is modify the `get_embeddings` method to use this argument.\n",
    "\n",
    "* The change affects the configuration of `self.rnn`, so you need to subclass the `__init__` method as well, so that its `input_size` argument accomodates the embedding as well as the color representations.\n",
    "\n",
    "* You can do the relevant operations efficiently in pure PyTorch using `repeat_interleave` and `cat`, but the important thing is to get a working implementation – you can always optimize the code later if the ideas prove useful to you. \n",
    "\n",
    "Here's skeleton code for you to flesh out:"
   ]
  },
  {
   "cell_type": "code",
   "execution_count": 461,
   "metadata": {},
   "outputs": [],
   "source": [
    "from torch_color_describer import Decoder\n",
    "import torch\n",
    "import torch.nn as nn\n",
    "\n",
    "\n",
    "class ColorContextDecoder(Decoder):\n",
    "    def __init__(self, color_dim, *args, **kwargs):\n",
    "        self.color_dim = color_dim\n",
    "        super().__init__(*args, **kwargs)\n",
    "\n",
    "        # Fix the `self.rnn` attribute:\n",
    "        self.rnn = nn.GRU(\n",
    "            input_size=self.embed_dim + color_dim,\n",
    "            hidden_size=self.hidden_dim,\n",
    "            batch_first=True)\n",
    "\n",
    "    def get_embeddings(self, word_seqs, target_colors=None):\n",
    "        \"\"\"\n",
    "        You can assume that `target_colors` is a tensor of shape\n",
    "        (m, n), where m is the length of the batch (same as\n",
    "        `word_seqs.shape[0]`) and n is the dimensionality of the\n",
    "        color representations the model is using. The goal is\n",
    "        to attached each color vector i to each of the tokens in\n",
    "        the ith sequence of (the embedded version of) `word_seqs`.\n",
    "\n",
    "        \"\"\"\n",
    "        m, n = word_seqs.shape\n",
    "        embs = self.embedding(word_seqs)\n",
    "        colors_interleaved = torch.repeat_interleave(target_colors, n, dim=0)\n",
    "        colors_interleaved = colors_interleaved.reshape(m, n, self.color_dim)\n",
    "        output = torch.cat([embs, colors_interleaved], dim=2)\n",
    "        return output"
   ]
  },
  {
   "cell_type": "markdown",
   "metadata": {},
   "source": [
    "Step 1 is the most demanding of the steps in terms of tensor wrangling. It's important to have a clear idea of what you are trying to achieve and to unit test `get_embeddings` so that you can check that it has realized your vision. The following test should help with that:"
   ]
  },
  {
   "cell_type": "code",
   "execution_count": 462,
   "metadata": {},
   "outputs": [],
   "source": [
    "def test_get_embeddings(decoder_class):\n",
    "    \"\"\"\n",
    "    It's assumed that the input to this will be `ColorContextDecoder`.\n",
    "    You pass in the class, and the function initalizes it with the test\n",
    "    parameters.\n",
    "    \"\"\"\n",
    "    dec = decoder_class(\n",
    "        color_dim=3,   # For these, we mainly want *different*\n",
    "        vocab_size=10, # dimensions so that we reliably get\n",
    "        embed_dim=4,   # dimensionality errors if something\n",
    "        hidden_dim=5)  # isn't working.\n",
    "\n",
    "    # This step just changes the embedding to one with values\n",
    "    # that are easy to inspect and definitely will not change\n",
    "    # between runs:\n",
    "    dec.embedding = nn.Embedding.from_pretrained(\n",
    "        torch.FloatTensor([\n",
    "            [10, 11, 12, 13],\n",
    "            [14, 15, 16, 17],\n",
    "            [18, 19, 20, 21]]))\n",
    "\n",
    "    # These are the incoming sequences -- lists of indices\n",
    "    # into the rows of `dec.embedding`:\n",
    "    word_seqs = torch.tensor([\n",
    "        [0,1,2],\n",
    "        [2,0,1]])\n",
    "\n",
    "    # Target colors as small floats that will be easy to track:\n",
    "    target_colors = torch.tensor([\n",
    "        [0.1, 0.2, 0.3],\n",
    "        [0.7, 0.8, 0.9]])\n",
    "\n",
    "    # The desired return value: one list of tensors for each of\n",
    "    # the two sequences in `word_seqs`. Each index is replaced\n",
    "    # with its vector from `dec.embedding` and has the\n",
    "    # corrresponding color from `target_colors` appended to it.\n",
    "    expected = torch.tensor([\n",
    "        [[10., 11., 12., 13.,  0.1,  0.2,  0.3],\n",
    "         [14., 15., 16., 17.,  0.1,  0.2,  0.3],\n",
    "         [18., 19., 20., 21.,  0.1,  0.2,  0.3]],\n",
    "\n",
    "        [[18., 19., 20., 21.,  0.7,  0.8,  0.9],\n",
    "         [10., 11., 12., 13.,  0.7,  0.8,  0.9],\n",
    "         [14., 15., 16., 17.,  0.7,  0.8,  0.9]]])\n",
    "\n",
    "    result = dec.get_embeddings(word_seqs, target_colors=target_colors)\n",
    "\n",
    "    assert expected.shape == result.shape, \\\n",
    "        \"Expected shape {}; got shape {}\".format(expected.shape, result.shape)\n",
    "\n",
    "    assert torch.all(expected.eq(result)), \\\n",
    "        (\"Your result has the desired shape but the values aren't correct. \"\n",
    "         \"Here's what your function creates; compare it with `expected` \"\n",
    "         \"from the test:\\n{}\".format(result))"
   ]
  },
  {
   "cell_type": "code",
   "execution_count": 463,
   "metadata": {},
   "outputs": [],
   "source": [
    "if 'IS_GRADESCOPE_ENV' not in os.environ:\n",
    "    test_get_embeddings(ColorContextDecoder)"
   ]
  },
  {
   "cell_type": "markdown",
   "metadata": {},
   "source": [
    "__Step 2__: Modify the `EncoderDecoder`. For this, you just need to make a small change to the `forward` method: extract the target colors from `color_seqs` and feed them to the decoder."
   ]
  },
  {
   "cell_type": "code",
   "execution_count": 464,
   "metadata": {},
   "outputs": [],
   "source": [
    "from torch_color_describer import EncoderDecoder\n",
    "\n",
    "class ColorizedEncoderDecoder(EncoderDecoder):\n",
    "\n",
    "    def forward(self,\n",
    "            color_seqs,\n",
    "            word_seqs,\n",
    "            seq_lengths=None,\n",
    "            hidden=None,\n",
    "            targets=None):\n",
    "        if hidden is None:\n",
    "            hidden = self.encoder(color_seqs)\n",
    "\n",
    "        # Extract the target colors from `color_seqs` and\n",
    "        # feed them to the decoder, which already has a\n",
    "        # `target_colors` keyword.\n",
    "\n",
    "        target_colors = color_seqs[:, -1, :]\n",
    "        output, hidden = self.decoder(word_seqs, seq_lengths=seq_lengths, hidden=hidden, target_colors=target_colors)\n",
    "\n",
    "        # Your decoder will return `output, hidden` pairs; the\n",
    "        # following will handle the two return situations that\n",
    "        # the code needs to consider -- training and prediction.\n",
    "        if self.training:\n",
    "            return output\n",
    "        else:\n",
    "            return output, hidden"
   ]
  },
  {
   "cell_type": "markdown",
   "metadata": {},
   "source": [
    "__Step 3__: Finally, as in the examples in [Modifying the core model](colors_overview.ipynb#Modifying-the-core-model), you need to modify the `build_graph` method of `ContextualColorDescriber` so that it uses your new `ColorContextDecoder` and `ColorizedEncoderDecoder`. Here's starter code:"
   ]
  },
  {
   "cell_type": "code",
   "execution_count": 465,
   "metadata": {},
   "outputs": [],
   "source": [
    "from torch_color_describer import Encoder\n",
    "\n",
    "class ColorizedInputDescriber(ContextualColorDescriber):\n",
    "\n",
    "    def build_graph(self):\n",
    "        # We didn't modify the encoder, so this is\n",
    "        # just copied over from the original:\n",
    "        encoder = Encoder(\n",
    "            color_dim=self.color_dim,\n",
    "            hidden_dim=self.hidden_dim)\n",
    "\n",
    "        # Use your `ColorContextDecoder`, making sure\n",
    "        # to pass in all the keyword arguments coming\n",
    "        # from `ColorizedInputDescriber`:\n",
    "\n",
    "        decoder = ColorContextDecoder(\n",
    "            color_dim=self.color_dim,\n",
    "            vocab_size=self.vocab_size,\n",
    "            embed_dim=self.embed_dim,\n",
    "            hidden_dim=self.hidden_dim,\n",
    "            embedding=self.embedding,\n",
    "            freeze_embedding=self.freeze_embedding,\n",
    "        )\n",
    "\n",
    "        # Return a `ColorizedEncoderDecoder` that uses\n",
    "        # your encoder and decoder:\n",
    "        return ColorizedEncoderDecoder(encoder, decoder)"
   ]
  },
  {
   "cell_type": "markdown",
   "metadata": {},
   "source": [
    "That's it! Since these modifications are pretty intricate, you might want to use [a toy dataset](colors_overview.ipynb#Toy-problems-for-development-work) to debug it:"
   ]
  },
  {
   "cell_type": "code",
   "execution_count": 466,
   "metadata": {},
   "outputs": [],
   "source": [
    "def test_full_system(describer_class):\n",
    "    toy_color_seqs, toy_word_seqs, toy_vocab = create_example_dataset(\n",
    "        group_size=50, vec_dim=2)\n",
    "\n",
    "    toy_color_seqs_train, toy_color_seqs_test, toy_word_seqs_train, toy_word_seqs_test = \\\n",
    "        train_test_split(toy_color_seqs, toy_word_seqs)\n",
    "\n",
    "    toy_mod = describer_class(toy_vocab)\n",
    "\n",
    "    _ = toy_mod.fit(toy_color_seqs_train, toy_word_seqs_train)\n",
    "\n",
    "    acc = toy_mod.listener_accuracy(toy_color_seqs_test, toy_word_seqs_test)\n",
    "\n",
    "    return acc"
   ]
  },
  {
   "cell_type": "code",
   "execution_count": 467,
   "metadata": {},
   "outputs": [
    {
     "name": "stderr",
     "output_type": "stream",
     "text": [
      "Finished epoch 1000 of 1000; error is 0.10368634015321732"
     ]
    },
    {
     "data": {
      "text/plain": [
       "1.0"
      ]
     },
     "execution_count": 467,
     "metadata": {},
     "output_type": "execute_result"
    }
   ],
   "source": [
    "test_full_system(ColorizedInputDescriber)"
   ]
  },
  {
   "cell_type": "markdown",
   "metadata": {},
   "source": [
    "If that worked, then you can now try this model on SCC problems!"
   ]
  },
  {
   "cell_type": "markdown",
   "metadata": {},
   "source": [
    "## Your original system [3 points]"
   ]
  },
  {
   "cell_type": "markdown",
   "metadata": {},
   "source": [
    "There are many options for your original system, which consists of the full pipeline – all preprocessing and modeling steps. You are free to use any model you like, as long as you subclass `ContextualColorDescriber` in a way that allows its `evaluate` method to behave in the expected way.\n",
    "\n",
    "So that we can evaluate models in a uniform way for the bake-off, we ask that you modify the function `evaluate_original_system` below so that it accepts a trained instance of your model and does any preprocessing steps required by your model.\n",
    "\n",
    "If we seek to reproduce your results, we will rerun this entire notebook. Thus, it is fine if your `evaluate_original_system` makes use of functions you wrote or modified above this cell."
   ]
  },
  {
   "cell_type": "code",
   "execution_count": 427,
   "metadata": {},
   "outputs": [],
   "source": [
    "def evaluate_original_system(trained_model, color_seqs_test, texts_test):\n",
    "    \"\"\"\n",
    "    Feel free to modify this code to accommodate the needs of\n",
    "    your system. Just keep in mind that it will get raw corpus\n",
    "    examples as inputs for the bake-off.\n",
    "\n",
    "    \"\"\"\n",
    "    # `word_seqs_test` is a list of strings, so tokenize each of\n",
    "    # its elements:\n",
    "    tok_seqs = [tokenize_example(s) for s in texts_test]\n",
    "\n",
    "    col_seqs = [represent_color_context(colors)\n",
    "                for colors in color_seqs_test]\n",
    "\n",
    "\n",
    "    # Optionally include other preprocessing steps here. Note:\n",
    "    # DO NOT RETRAIN YOUR MODEL AS PART OF THIS EVALUATION!\n",
    "    # It's a tempting step, but it's a mistake and will get\n",
    "    # you disqualified!\n",
    "\n",
    "    # The following core score calculations are required:\n",
    "    evaluation = trained_model.evaluate(col_seqs, tok_seqs)\n",
    "\n",
    "    return evaluation"
   ]
  },
  {
   "cell_type": "markdown",
   "metadata": {},
   "source": [
    "If `evaluate_original_system` works on test sets you create from the corpus distribution, then it will work for the bake-off, so consider checking that. For example, this would check that `dev_mod` above passes muster:"
   ]
  },
  {
   "cell_type": "code",
   "execution_count": 428,
   "metadata": {},
   "outputs": [],
   "source": [
    "my_evaluation = evaluate_original_system(dev_mod, dev_rawcols_test, dev_texts_test)"
   ]
  },
  {
   "cell_type": "code",
   "execution_count": 429,
   "metadata": {},
   "outputs": [
    {
     "data": {
      "text/plain": [
       "0.3754678951914771"
      ]
     },
     "execution_count": 429,
     "metadata": {},
     "output_type": "execute_result"
    }
   ],
   "source": [
    "my_evaluation['listener_accuracy']"
   ]
  },
  {
   "cell_type": "code",
   "execution_count": 430,
   "metadata": {},
   "outputs": [
    {
     "data": {
      "text/plain": [
       "0.49298788898167806"
      ]
     },
     "execution_count": 430,
     "metadata": {},
     "output_type": "execute_result"
    }
   ],
   "source": [
    "my_evaluation['corpus_bleu']"
   ]
  },
  {
   "cell_type": "markdown",
   "metadata": {},
   "source": [
    "In the cell below, please provide a brief technical description of your original system, so that the teaching team can gain an understanding of what it does. This will help us to understand your code and analyze all the submissions to identify patterns and strategies. We also ask that you report the best **listener_accuracy** score your system got during development, just to help us understand how systems performed overall.\n",
    "\n",
    "<font color='red'>Please review the descriptions in the following comment and follow the instructions.</font>"
   ]
  },
  {
   "cell_type": "code",
   "execution_count": null,
   "metadata": {},
   "outputs": [],
   "source": [
    "# PLEASE MAKE SURE TO INCLUDE THE FOLLOWING BETWEEN THE START AND STOP COMMENTS:\n",
    "#   1) Textual description of your system.\n",
    "#   2) The code for your original system.\n",
    "#   3) The score achieved by your system in place of MY_NUMBER.\n",
    "#        With no other changes to that line.\n",
    "#        You should report your score as a decimal value <=1.0\n",
    "# PLEASE MAKE SURE NOT TO DELETE OR EDIT THE START AND STOP COMMENTS\n",
    "\n",
    "# NOTE: MODULES, CODE AND DATASETS REQUIRED FOR YOUR ORIGINAL SYSTEM\n",
    "# SHOULD BE ADDED BELOW THE 'IS_GRADESCOPE_ENV' CHECK CONDITION. DOING\n",
    "# SO ABOVE THE CHECK MAY CAUSE THE AUTOGRADER TO FAIL.\n",
    "\n",
    "# START COMMENT: Enter your system description in this cell.\n",
    "# My peak score was: MY_NUMBER\n",
    "if 'IS_GRADESCOPE_ENV' not in os.environ:\n",
    "    pass\n",
    "\n",
    "# STOP COMMENT: Please do not remove this comment."
   ]
  },
  {
   "cell_type": "markdown",
   "metadata": {},
   "source": [
    "## Bakeoff [1 point]"
   ]
  },
  {
   "cell_type": "markdown",
   "metadata": {},
   "source": [
    "For the bake-off, we will use our original test set. The function you need to run for the submission is the following, which uses your `evaluate_original_system` from above:"
   ]
  },
  {
   "cell_type": "code",
   "execution_count": null,
   "metadata": {},
   "outputs": [],
   "source": [
    "def create_bakeoff_submission(\n",
    "        trained_model,\n",
    "        output_filename='cs224u-colors-bakeoff-entry.csv'):\n",
    "    bakeoff_src_filename = os.path.join(\n",
    "        \"data\", \"colors\", \"cs224u-colors-test.csv\")\n",
    "\n",
    "    bakeoff_corpus = ColorsCorpusReader(bakeoff_src_filename)\n",
    "\n",
    "    # This code just extracts the colors and texts from the new corpus:\n",
    "    bakeoff_rawcols, bakeoff_texts = zip(*[\n",
    "        [ex.colors, ex.contents] for ex in bakeoff_corpus.read()])\n",
    "\n",
    "    # Original system function call; `trained_model` is your trained model:\n",
    "    evaluation = evaluate_original_system(\n",
    "        trained_model, bakeoff_rawcols, bakeoff_texts)\n",
    "\n",
    "    evaluation['bakeoff_text'] = bakeoff_texts\n",
    "\n",
    "    df = pd.DataFrame(evaluation)\n",
    "    df.to_csv(output_filename)"
   ]
  },
  {
   "cell_type": "code",
   "execution_count": null,
   "metadata": {},
   "outputs": [],
   "source": [
    "# This check ensure that the following code only runs on the local environment only.\n",
    "# The following call will not be run on the autograder environment.\n",
    "if 'IS_GRADESCOPE_ENV' not in os.environ:\n",
    "    pass\n",
    "    create_bakeoff_submission(dev_mod)"
   ]
  },
  {
   "cell_type": "markdown",
   "metadata": {},
   "source": [
    "This creates a file `cs224u-colors-bakeoff-entry.csv` in the current directory. That file should be uploaded as-is. Please do not change its name.\n",
    "\n",
    "Only one upload per team is permitted, and you should do no tuning of your system based on what you see in the file – you should not study that file in anyway, beyond perhaps checking that it contains what you expected it to contain. The upload function will do some additional checking to ensure that your file is well-formed.\n",
    "\n",
    "The nature of our evaluation is such that we have to release the full test set with all labels. Thus, we have to trust you not to make any use of the test set during development. Recall:\n",
    "\n",
    "1. Only one evaluation is permitted.\n",
    "1. No additional system tuning is permitted once the bake-off has started.\n",
    "\n",
    "Systems will be ranked primarily by `listener_accuracy`, but we will also consider their `corpus_bleu` scores. However, the BLEU score is just a simple check that your system is speaking some version of English that corresponds in some meaningful way to the gold descriptions, so you should concentrate on `listener_accuracy`.\n",
    "\n",
    "People who enter will receive the additional homework point, and people whose systems achieve the top score will receive an additional 0.5 points. We will test the top-performing systems ourselves, and only systems for which we can reproduce the reported results will win the extra 0.5 points.\n",
    "\n",
    "Late entries will be accepted, but they cannot earn the extra 0.5 points."
   ]
  },
  {
   "cell_type": "markdown",
   "metadata": {},
   "source": [
    "## Submission Instruction\n",
    "\n",
    "Review and follow the [Homework and bake-off code: Formatting guide](hw_formatting_guide.ipynb).\n",
    "Please do not change the file name as described below.\n",
    "\n",
    "Submit the following files to Gradescope:\n",
    "\n",
    "- `hw_colors.ipynb` (this notebook)\n",
    "- `cs224u-colors-bakeoff-entry.csv` (bake-off output)"
   ]
  }
 ],
 "metadata": {
  "kernelspec": {
   "display_name": "Python 3 (ipykernel)",
   "language": "python",
   "name": "python3"
  },
  "language_info": {
   "codemirror_mode": {
    "name": "ipython",
    "version": 3
   },
   "file_extension": ".py",
   "mimetype": "text/x-python",
   "name": "python",
   "nbconvert_exporter": "python",
   "pygments_lexer": "ipython3",
   "version": "3.9.7"
  }
 },
 "nbformat": 4,
 "nbformat_minor": 4
}
