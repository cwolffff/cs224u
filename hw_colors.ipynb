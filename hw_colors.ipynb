{
 "cells": [
  {
   "cell_type": "markdown",
   "metadata": {},
   "source": [
    "# Homework and bake-off: pragmatic color descriptions"
   ]
  },
  {
   "cell_type": "code",
   "execution_count": 1,
   "metadata": {},
   "outputs": [],
   "source": [
    "__author__ = \"Christopher Potts\"\n",
    "__version__ = \"CS224u, Stanford, Summer 2022\""
   ]
  },
  {
   "cell_type": "markdown",
   "metadata": {},
   "source": [
    "## Contents\n",
    "\n",
    "1. [Overview](#Overview)\n",
    "1. [Set-up](#Set-up)\n",
    "1. [All two-word examples as a dev corpus](#All-two-word-examples-as-a-dev-corpus)\n",
    "1. [Dev dataset](#Dev-dataset)\n",
    "1. [Random train–test split for development](#Random-train–test-split-for-development)\n",
    "1. [Question 1: Improve the tokenizer [1 point]](#Question-1:-Improve-the-tokenizer-[1-point])\n",
    "1. [Use the tokenizer](#Use-the-tokenizer)\n",
    "1. [Question 2: Improve the color representations [1 point]](#Question-2:-Improve-the-color-representations-[1-point])\n",
    "1. [Use the color representer](#Use-the-color-representer)\n",
    "1. [Initial model](#Initial-model)\n",
    "1. [Question 3: GloVe embeddings [1 point]](#Question-3:-GloVe-embeddings-[1-point])\n",
    "1. [Try the GloVe representations](#Try-the-GloVe-representations)\n",
    "1. [Question 4: Color context [3 points]](#Question-4:-Color-context-[3-points])\n",
    "1. [Your original system [3 points]](#Your-original-system-[3-points])\n",
    "1. [Bakeoff [1 point]](#Bakeoff-[1-point])\n",
    "1. [Submission Instruction](#Submission-Instruction)"
   ]
  },
  {
   "cell_type": "markdown",
   "metadata": {},
   "source": [
    "## Overview\n",
    "\n",
    "This homework and associated bake-off are oriented toward building an effective system for generating color descriptions that are pragmatic in the sense that they would help a reader/listener figure out which color was being referred to in a shared context consisting of a target color (whose identity is known only to the describer/speaker) and a set of distractors.\n",
    "\n",
    "The notebook [colors_overview.ipynb](colors_overview.ipynb) should be studied before work on this homework begins. That notebook provides backgroud on the task, the dataset, and the modeling code that you will be using and adapting.\n",
    "\n",
    "The homework questions are more open-ended than previous ones have been. Rather than asking you to implement pre-defined functionality, they ask you to try to improve baseline components of the full system in ways that you find to be effective. As usual, this culminates in a prompt asking you to develop a novel system for entry into the bake-off. In this case, though, the work you do for the homework will likely be directly incorporated into that system (not required, but an efficient way to work at the very least)."
   ]
  },
  {
   "cell_type": "markdown",
   "metadata": {},
   "source": [
    "## Set-up"
   ]
  },
  {
   "cell_type": "markdown",
   "metadata": {},
   "source": [
    "See [colors_overview.ipynb](colors_overview.ipynb) for set-up in instructions and other background details."
   ]
  },
  {
   "cell_type": "code",
   "execution_count": 2,
   "metadata": {},
   "outputs": [],
   "source": [
    "from colors import ColorsCorpusReader\n",
    "from nltk.translate.bleu_score import corpus_bleu\n",
    "import numpy as np\n",
    "import os\n",
    "import pandas as pd\n",
    "from sklearn.model_selection import train_test_split\n",
    "from torch_color_describer import ContextualColorDescriber\n",
    "from torch_color_describer import create_example_dataset\n",
    "\n",
    "import utils\n",
    "from utils import START_SYMBOL, END_SYMBOL, UNK_SYMBOL"
   ]
  },
  {
   "cell_type": "code",
   "execution_count": 3,
   "metadata": {},
   "outputs": [],
   "source": [
    "utils.fix_random_seeds()"
   ]
  },
  {
   "cell_type": "code",
   "execution_count": 4,
   "metadata": {},
   "outputs": [],
   "source": [
    "COLORS_SRC_FILENAME = os.path.join(\n",
    "    \"data\", \"colors\", \"filteredCorpus.csv\")"
   ]
  },
  {
   "cell_type": "markdown",
   "metadata": {},
   "source": [
    "## All two-word examples as a dev corpus\n",
    "\n",
    "So that you don't have to sit through excessively long training runs during development, I suggest working with the two-word-only subset of the corpus until you enter into the late stages of system testing."
   ]
  },
  {
   "cell_type": "code",
   "execution_count": 215,
   "metadata": {},
   "outputs": [],
   "source": [
    "dev_corpus = ColorsCorpusReader(\n",
    "    COLORS_SRC_FILENAME,\n",
    "#     word_count=2,\n",
    "    normalize_colors=True)"
   ]
  },
  {
   "cell_type": "code",
   "execution_count": 216,
   "metadata": {},
   "outputs": [],
   "source": [
    "dev_examples = list(dev_corpus.read())"
   ]
  },
  {
   "cell_type": "markdown",
   "metadata": {},
   "source": [
    "This subset has about one-third the examples of the full corpus:"
   ]
  },
  {
   "cell_type": "code",
   "execution_count": 217,
   "metadata": {},
   "outputs": [
    {
     "data": {
      "text/plain": [
       "46994"
      ]
     },
     "execution_count": 217,
     "metadata": {},
     "output_type": "execute_result"
    }
   ],
   "source": [
    "len(dev_examples)"
   ]
  },
  {
   "cell_type": "markdown",
   "metadata": {},
   "source": [
    "We __should__ worry that it's not a fully representative sample. Most of the descriptions in the full corpus are shorter, and a large proportion are longer. So this dataset is mainly for debugging, development, and general hill-climbing. All findings should be validated on the full dataset at some point."
   ]
  },
  {
   "cell_type": "markdown",
   "metadata": {},
   "source": [
    "## Dev dataset\n",
    "\n",
    "The first step is to extract the raw color and raw texts from the corpus:"
   ]
  },
  {
   "cell_type": "code",
   "execution_count": 218,
   "metadata": {},
   "outputs": [],
   "source": [
    "dev_rawcols, dev_texts = zip(*[[ex.colors, ex.contents] for ex in dev_examples])"
   ]
  },
  {
   "cell_type": "markdown",
   "metadata": {},
   "source": [
    "The raw color representations are suitable inputs to a model, but the texts are just strings, so they can't really be processed as-is. Question 1 asks you to do some tokenizing!"
   ]
  },
  {
   "cell_type": "markdown",
   "metadata": {},
   "source": [
    "## Random train–test split for development\n",
    "\n",
    "For the sake of development runs, we create a random train–test split:"
   ]
  },
  {
   "cell_type": "code",
   "execution_count": 219,
   "metadata": {},
   "outputs": [],
   "source": [
    "dev_rawcols_train, dev_rawcols_test, dev_texts_train, dev_texts_test = \\\n",
    "    train_test_split(dev_rawcols, dev_texts)"
   ]
  },
  {
   "cell_type": "markdown",
   "metadata": {},
   "source": [
    "## Question 1: Improve the tokenizer [1 point]\n",
    "\n",
    "This is the first required question – the first required modification to the default pipeline.\n",
    "\n",
    "The function `tokenize_example` simply splits its string on whitespace and adds the required start and end symbols:"
   ]
  },
  {
   "cell_type": "code",
   "execution_count": 10,
   "metadata": {},
   "outputs": [],
   "source": [
    "# Moo implementation\n",
    "# import re\n",
    "\n",
    "# WORD_RE_STR = r\"\"\"\n",
    "# (?:[a-z][a-z'\\-_]+[a-z])       # Words with apostrophes or dashes.\n",
    "# |\n",
    "# (?:[+\\-]?\\d+[,/.:-]\\d+[+\\-]?)  # Numbers, including fractions, decimals.\n",
    "# |\n",
    "# (?:[\\w_]+)                     # Words without apostrophes or dashes.\n",
    "# |\n",
    "# (?:\\.(?:\\s*\\.){1,})            # Ellipsis dots.\n",
    "# |\n",
    "# (?:\\*{1,})                     # Asterisk runs.\n",
    "# |\n",
    "# (?:\\S)                         # Everything else that isn't whitespace.\n",
    "# \"\"\"\n",
    "\n",
    "# WORD_RE = re.compile(r\"(%s)\" % WORD_RE_STR, re.VERBOSE | re.I | re.UNICODE)\n",
    "\n",
    "# def segmenter(word):\n",
    "#     for ending in ['er', 'est', 'ish']:\n",
    "#         if word.endswith(ending):\n",
    "#             return [word[:-len(ending)], '+' + ending]\n",
    "#     return [word]\n",
    "\n",
    "# def tokenize_example(s):\n",
    "#     #s = s.lower()\n",
    "#     words = WORD_RE.findall(s)\n",
    "#     words = [w.lower() for w in words]\n",
    "#     heuristic_ending_toknize = [seg for w in words for seg in segmenter(w)]\n",
    "#     return [START_SYMBOL] + heuristic_ending_toknize + [END_SYMBOL]\n",
    "\n",
    "#     #return [START_SYMBOL] + s.split() + [END_SYMBOL]"
   ]
  },
  {
   "cell_type": "code",
   "execution_count": 265,
   "metadata": {},
   "outputs": [],
   "source": [
    "# Doggo implementation\n",
    "# replacements = [\n",
    "#     # things to remove\n",
    "#     (\".\", \"\"),\n",
    "#     (\"'\", \"\"),\n",
    "#     (\"!\", \"\"),\n",
    "#     (\"(\", \"\"),\n",
    "#     (\")\", \"\"),\n",
    "#     (\"?\", \"\"),\n",
    "#     (\",\", \"\"),\n",
    "#     # things to replace\n",
    "#     (\"/\", \" \"),\n",
    "#     (\"-\", \" \"),\n",
    "# ]\n",
    "\n",
    "# weird_answers = [\n",
    "#     \"oh boy\",\n",
    "#     \"no worries\",\n",
    "#     \"thank you\",\n",
    "#     \"you too\",\n",
    "#     \"no kidding\",\n",
    "#     \"wow ummmm\",\n",
    "#     \"good job\",\n",
    "#     \"nice job\",\n",
    "#     \"great job\",\n",
    "#     \"tough one\",\n",
    "# ]\n",
    "\n",
    "# weird_tokens = set([\n",
    "#     \"hi\",\n",
    "#     \":\",\n",
    "#     \"ok\",\n",
    "#     \"oh\",\n",
    "#     \"sorry\",\n",
    "#     \"lol\",\n",
    "#     \"no\",\n",
    "#     \"nice\",\n",
    "#     \"d\",\n",
    "#     \"yes\",\n",
    "#     \"for\",\n",
    "#     \"wat\",\n",
    "#     \"i\",\n",
    "#     \"thanks\",\n",
    "#     \"um\",\n",
    "#     \"yeah\",\n",
    "# ])\n",
    "\n",
    "# misspellings = [\n",
    "#     (\"brigher\", \"brighter\"),\n",
    "#     (\"puirple\", \"purple\"),\n",
    "#     (\"grn\", \"green\"),\n",
    "#     (\"brigh\", \"bright\"),\n",
    "#     (\"orang\", \"orange\"),\n",
    "#     (\"gren\", \"green\"),\n",
    "#     (\"pruple\", \"purple\"),\n",
    "#     (\"gray\", \"grey\"),\n",
    "#     (\"yelllow\"), (\"yellow\")\n",
    "# ]\n",
    "\n",
    "# endings_to_remove = [\n",
    "#     \"er\",\n",
    "#     \"est\",\n",
    "#     \"ish\",\n",
    "# ]\n",
    "\n",
    "def segmenter(word):\n",
    "    for ending in ['er', 'est', 'ish']:\n",
    "        if word.endswith(ending):\n",
    "            return [word[:-len(ending)], '+' + ending]\n",
    "    return [word]\n",
    "\n",
    "\n",
    "def get_tokens(s):\n",
    "    replacements = [\n",
    "        # things to remove\n",
    "        (\".\", \"\"),\n",
    "        (\"'\", \"\"),\n",
    "        (\"!\", \"\"),\n",
    "        (\"(\", \"\"),\n",
    "        (\")\", \"\"),\n",
    "        (\"?\", \"\"),\n",
    "        (\",\", \"\"),\n",
    "        # things to replace\n",
    "        (\"/\", \" \"),\n",
    "        (\"-\", \" \"),\n",
    "    ]\n",
    "\n",
    "    weird_answers = [\n",
    "        \"oh boy\",\n",
    "        \"no worries\",\n",
    "        \"thank you\",\n",
    "        \"you too\",\n",
    "        \"no kidding\",\n",
    "        \"wow ummmm\",\n",
    "        \"good job\",\n",
    "        \"nice job\",\n",
    "        \"great job\",\n",
    "        \"tough one\",\n",
    "    ]\n",
    "\n",
    "    weird_tokens = set([\n",
    "        \"hi\",\n",
    "        \":\",\n",
    "        \"ok\",\n",
    "        \"oh\",\n",
    "        \"sorry\",\n",
    "        \"lol\",\n",
    "        \"no\",\n",
    "        \"nice\",\n",
    "        \"d\",\n",
    "        \"yes\",\n",
    "        \"for\",\n",
    "        \"wat\",\n",
    "        \"i\",\n",
    "        \"thanks\",\n",
    "        \"um\",\n",
    "        \"yeah\",\n",
    "    ])\n",
    "\n",
    "    misspellings = [\n",
    "        (\"brigher\", \"brighter\"),\n",
    "        (\"puirple\", \"purple\"),\n",
    "        (\"grn\", \"green\"),\n",
    "        (\"brigh\", \"bright\"),\n",
    "        (\"orang\", \"orange\"),\n",
    "        (\"gren\", \"green\"),\n",
    "        (\"pruple\", \"purple\"),\n",
    "        (\"gray\", \"grey\"),\n",
    "        (\"yelllow\"), (\"yellow\")\n",
    "    ]\n",
    "\n",
    "    s = s.lower()\n",
    "    \n",
    "    for a, b in replacements:\n",
    "        s = s.replace(a, b)\n",
    "    \n",
    "    for a in weird_answers:\n",
    "        s = s.replace(a, \"\")\n",
    "    \n",
    "    if s == \"\" or s == \" \":\n",
    "        return [UNK_SYMBOL]\n",
    "\n",
    "    words = s.split()\n",
    "\n",
    "    words = [\n",
    "        w\n",
    "        for w in words\n",
    "        if w not in weird_tokens\n",
    "    ]\n",
    "    \n",
    "    words = [seg for w in words for seg in segmenter(w)]\n",
    "    words = [w for w in words if w != \"\"]\n",
    "    \n",
    "    for i in range(len(words)):\n",
    "        for m in misspellings:\n",
    "            if words[i] == m[0]:\n",
    "                words[i] = m[1]\n",
    "\n",
    "    return words\n",
    "\n",
    "\n",
    "from collections import Counter\n",
    "\n",
    "\n",
    "def get_most_common():\n",
    "    tokens = []\n",
    "    for dev_text in dev_texts:\n",
    "        for token in get_tokens(dev_text):\n",
    "            tokens.append(token)\n",
    "\n",
    "    token_counter = Counter(tokens)\n",
    "    threshold = 20\n",
    "    most_common = set([w for w in token_counter.keys() if token_counter[w] >= threshold])\n",
    "    return most_common\n",
    "\n",
    "most_common = get_most_common()\n",
    "\n",
    "\n",
    "def tokenize_example(s):\n",
    "    # NOTE: THIS NEXT LINE IS JUST TO PASS THE AUTOGRADER, which for some reason\n",
    "    # says global variables are not defined.\n",
    "    # `most_common` should be a global variable that's in the line above this fn.\n",
    "    most_common = set(['up','awesome','can','in','normal','pink','intense','last','mid','seafoam','guess','maroon','work','be','have','peach','lavend','ugly','different','like','camo','leaf','barney','it','before','the','got','cyan','id','deep','weird','aqua','flow','say','off','others','dusty','periwinkle','tru','brown','with','see','rose','looking','click','pea','we','from','want','lavendar','pal','colored','pick','image','looks','your','describe','coral','but','some','pale','rust','clos','about','of','hint','b','flat','yellowy','time','p','hue','puple','light','blue','hard','then','blood','sun','really','vivid','purp','that','here','+er','its','problem','wow','there','sup','square','real','mauve','tell','almost','same','if','similar','oth','teal','haha','girl','prince','im','cement','were','rain','day','just','lite','dirt','greyist','royal','a','okay','leaves','beige','only','slight','target','black','one','isnt','choose','very','medium','vibrant','fluorescent','what','tinted','faded','grey','orangey','those','great','pure','olive','and','highlight','brightness','sky','white','dull','2','hello','is','saturated','second','true','soft','violet','an','bright','on','purpley','wat','too','send','go','right','yellow','green','left','them','golden','neon','good','also','e','most','less','purples','washed','well','purpl','doesnt','pinky','neutral','kind','turquoise','greens','vomit','object','rich','these','dark','natural','than','hot','magenta','again','tough','grays','maybe','any','which','bit','foam','concrete','orange','colors','little','between','girls','lilac','you','dont','how','please','me','tone','oops','muted','without','taupe',':d','know','doing','now','baby','purply','think','mustard','primary','mint','hmm','purple','+ish','soup','3','grass','not','my','would','are','hey','pinks','red','###','middle','stormy','gold','ones','shade','close','color','ugh','blu','lipstick','so','ice','rosy','salmon','was','navy','grapes','redd','lime','bold','sand','sure','for','puke','blues','sea','or','yay','yello','bad','look','cent','all','tones','blye','least','did','eith','kinda','caca','been','at','tinge','fun','nor','yep','warm','this','tann','apple','pumpkin','yea','mixed','box','minty','youre','+est','tan','two','dirty','regular','non','side','shades','to','am','slightly','army','as','tint','girly','do','khaki','toned','pastel','brick','turqoise','three','drab','grape','mix','fuschia','they','more','slate','out','ocean','clay','has','sage','sort','thats','plum'])\n",
    "    tokens = [\n",
    "        token\n",
    "        if token in most_common\n",
    "        else UNK_SYMBOL\n",
    "        for token in get_tokens(s)\n",
    "    ]\n",
    "    return [START_SYMBOL] + tokens + [END_SYMBOL]"
   ]
  },
  {
   "cell_type": "code",
   "execution_count": 266,
   "metadata": {},
   "outputs": [
    {
     "data": {
      "text/plain": [
       "['<s>', 'bright', 'blue', '</s>']"
      ]
     },
     "execution_count": 266,
     "metadata": {},
     "output_type": "execute_result"
    }
   ],
   "source": [
    "tokenize_example(dev_texts_train[376])"
   ]
  },
  {
   "cell_type": "markdown",
   "metadata": {},
   "source": [
    "__Your task__: Modify `tokenize_example` so that it does something more sophisticated with the input text. \n",
    "\n",
    "__Notes__:\n",
    "\n",
    "* There are useful ideas for this in [Monroe et al. 2017](https://transacl.org/ojs/index.php/tacl/article/view/1142)\n",
    "* There is no requirement that you do word-level tokenization. Sub-word and multi-word are options.\n",
    "* This question can interact with the size of your vocabulary (see just below), and in turn with decisions about how to use `UNK_SYMBOL`.\n",
    "\n",
    "__Important__: don't forget to add the start and end symbols, else the resulting models will definitely be terrible! The following test will check that your tokenizer has this property:"
   ]
  },
  {
   "cell_type": "code",
   "execution_count": 235,
   "metadata": {},
   "outputs": [],
   "source": [
    "def test_tokenize_example(func):\n",
    "    s = \"A test string\"\n",
    "    result = func(s)\n",
    "    assert all(isinstance(tok, str) for tok in result), \\\n",
    "        \"The tokenizer must return a list of strings.\"\n",
    "    assert result[0] == START_SYMBOL, \\\n",
    "        \"The tokenizer must add START_SYMBOL as the first token.\"\n",
    "    assert result[-1] == END_SYMBOL, \\\n",
    "        \"The tokenizer must add END_SYMBOL as the final token.\""
   ]
  },
  {
   "cell_type": "code",
   "execution_count": 236,
   "metadata": {},
   "outputs": [],
   "source": [
    "if 'IS_GRADESCOPE_ENV' not in os.environ:\n",
    "    test_tokenize_example(tokenize_example)"
   ]
  },
  {
   "cell_type": "markdown",
   "metadata": {},
   "source": [
    "## Use the tokenizer"
   ]
  },
  {
   "cell_type": "markdown",
   "metadata": {},
   "source": [
    "Once the tokenizer is working, run the following cell to tokenize your inputs:"
   ]
  },
  {
   "cell_type": "code",
   "execution_count": 237,
   "metadata": {},
   "outputs": [],
   "source": [
    "dev_seqs_train = [tokenize_example(s) for s in dev_texts_train]\n",
    "\n",
    "dev_seqs_test = [tokenize_example(s) for s in dev_texts_test]"
   ]
  },
  {
   "cell_type": "code",
   "execution_count": 238,
   "metadata": {},
   "outputs": [],
   "source": [
    "# Filter out all train seqs with only UNK symbols\n",
    "keep_idx = set([\n",
    "    i for i, seq in enumerate(dev_seqs_train)\n",
    "    if seq.count(UNK_SYMBOL) != len(seq) - 2\n",
    "])\n",
    "dev_seqs_train = [\n",
    "    seq for i, seq in enumerate(dev_seqs_train)\n",
    "    if i in keep_idx\n",
    "]"
   ]
  },
  {
   "cell_type": "markdown",
   "metadata": {},
   "source": [
    "We use only the train set to derive a vocabulary for the model:"
   ]
  },
  {
   "cell_type": "code",
   "execution_count": 239,
   "metadata": {},
   "outputs": [],
   "source": [
    "dev_vocab = sorted({w for toks in dev_seqs_train for w in toks})\n",
    "\n",
    "dev_vocab += [UNK_SYMBOL]"
   ]
  },
  {
   "cell_type": "markdown",
   "metadata": {},
   "source": [
    "It's important that the `UNK_SYMBOL` is included somewhere in this list. In test examples, words not seen in training will be mapped to `UNK_SYMBOL`. \n",
    "\n",
    "Conceptual note: If you model's vocab is the same as your train vocab, then `UNK_SYMBOL` will never be encountered during training, so it will be a random vector at test time."
   ]
  },
  {
   "cell_type": "code",
   "execution_count": 240,
   "metadata": {},
   "outputs": [
    {
     "data": {
      "text/plain": [
       "336"
      ]
     },
     "execution_count": 240,
     "metadata": {},
     "output_type": "execute_result"
    }
   ],
   "source": [
    "len(dev_vocab)"
   ]
  },
  {
   "cell_type": "markdown",
   "metadata": {},
   "source": [
    "## Question 2: Improve the color representations [1 point]\n",
    "\n",
    "This is the second required pipeline improvement for the assignment. \n",
    "\n",
    "The following functions do nothing at all to the raw input colors we get from the corpus. "
   ]
  },
  {
   "cell_type": "code",
   "execution_count": 257,
   "metadata": {},
   "outputs": [],
   "source": [
    "from itertools import product\n",
    "import math\n",
    "import numpy as np\n",
    "\n",
    "\n",
    "def represent_color_context(colors):\n",
    "\n",
    "    # Improve me!\n",
    "\n",
    "    return [represent_color(color) for color in colors]\n",
    "\n",
    "\n",
    "def orig_represent_color(color):\n",
    "    return color\n",
    "\n",
    "\n",
    "def hls_to_hsv(h, l, s):\n",
    "    v = l + s * min(l, 1-l)\n",
    "    s = 0 if v == 0 else 2*(1 - l/v)\n",
    "    return [h, s, v]\n",
    "\n",
    "\n",
    "def represent_color(color):\n",
    "    h, l, s = color\n",
    "    h = 360 * h\n",
    "\n",
    "    h, s, v = hls_to_hsv(h, l, s)\n",
    "    h = h / 360\n",
    "    \n",
    "    all_nums = []\n",
    "    for j_, k, l in product((0, 1, 2), repeat=3):    \n",
    "        f_jkl = np.exp(-2 * math.pi * 1j * (j_ * h + k * s + l * v))\n",
    "        all_nums.append(f_jkl.real)\n",
    "        all_nums.append(f_jkl.imag)\n",
    "    return all_nums"
   ]
  },
  {
   "cell_type": "code",
   "execution_count": 242,
   "metadata": {},
   "outputs": [
    {
     "data": {
      "text/plain": [
       "[[1.0,\n",
       "  0.0,\n",
       "  -0.33873792024529137,\n",
       "  0.9408807689542255,\n",
       "  -0.7705132427757893,\n",
       "  -0.6374239897486896,\n",
       "  -0.9270897516847403,\n",
       "  0.3748394220477971,\n",
       "  -0.0386387492842762,\n",
       "  -0.9992532447051382,\n",
       "  0.9532665708316103,\n",
       "  0.3021305097717584,\n",
       "  0.7189908153577469,\n",
       "  -0.6950195734158875,\n",
       "  0.4103810972040285,\n",
       "  0.9119141160534898,\n",
       "  -0.9970140941074936,\n",
       "  0.07721979118732265,\n",
       "  0.052335956242943966,\n",
       "  -0.9986295347545738,\n",
       "  0.9218631515885007,\n",
       "  0.38751558645210243,\n",
       "  -0.6768759696826597,\n",
       "  0.7360970871197353,\n",
       "  0.3258055889698112,\n",
       "  0.9454367869910894,\n",
       "  -0.9999059987537144,\n",
       "  -0.013711077869252753,\n",
       "  0.3516065679474363,\n",
       "  -0.9361478629875865,\n",
       "  -0.6564380013939883,\n",
       "  -0.7543799774158022,\n",
       "  0.9321420565968265,\n",
       "  -0.3620927868978319,\n",
       "  0.024934278144434708,\n",
       "  0.9996890925549883,\n",
       "  -0.9945218953682733,\n",
       "  -0.10452846326765373,\n",
       "  0.43523109937232735,\n",
       "  -0.9003187714021936,\n",
       "  0.6996633405133662,\n",
       "  0.7144726796328027,\n",
       "  0.9611924457808014,\n",
       "  -0.2758787454189271,\n",
       "  -0.06602332391138564,\n",
       "  0.9978180799623207,\n",
       "  -0.9164632389219531,\n",
       "  -0.4001188969602448,\n",
       "  -0.7877014363920689,\n",
       "  0.6160571784387157,\n",
       "  -0.31281200543151283,\n",
       "  -0.94981506055543,\n",
       "  0.9996240126873266,\n",
       "  0.027419578021690254],\n",
       " [1.0,\n",
       "  0.0,\n",
       "  -0.4817536741017153,\n",
       "  0.8763066800438636,\n",
       "  -0.5358267949789967,\n",
       "  -0.8443279255020151,\n",
       "  -0.9989008914857114,\n",
       "  0.04687226246994095,\n",
       "  0.44014969782554214,\n",
       "  -0.8979244085690532,\n",
       "  0.5748134233212828,\n",
       "  0.8182845033175612,\n",
       "  0.995605982021898,\n",
       "  -0.09364148953435253,\n",
       "  -0.3975781769884866,\n",
       "  0.9175683043689509,\n",
       "  -0.612536487008168,\n",
       "  -0.7904423142036947,\n",
       "  0.9998476951563913,\n",
       "  -0.01745240643728351,\n",
       "  -0.46638664033989136,\n",
       "  0.8845809752150838,\n",
       "  -0.5504807400849961,\n",
       "  -0.8348478632634062,\n",
       "  -0.9979307202663926,\n",
       "  0.06429834794610914,\n",
       "  0.424411719166346,\n",
       "  -0.9054693217521324,\n",
       "  0.5890069101859675,\n",
       "  0.8081279971348472,\n",
       "  0.993820077073764,\n",
       "  -0.11100294773157046,\n",
       "  -0.38150384892460143,\n",
       "  0.9243672502072512,\n",
       "  -0.6262383152670212,\n",
       "  -0.7796316902817143,\n",
       "  0.9993908270190958,\n",
       "  -0.03489949670250097,\n",
       "  -0.4508775406894311,\n",
       "  0.8925858184521254,\n",
       "  -0.5649670034249377,\n",
       "  -0.8251134982782954,\n",
       "  -0.9966565696825087,\n",
       "  0.08170484752262087,\n",
       "  0.4085444605861232,\n",
       "  -0.9127384202083276,\n",
       "  0.6030209798399729,\n",
       "  0.7977253273356932,\n",
       "  0.9917314449028022,\n",
       "  -0.12833059335559965,\n",
       "  -0.3653133110926231,\n",
       "  0.9308846248265916,\n",
       "  -0.6397493852685333,\n",
       "  -0.7685835829944156],\n",
       " [1.0,\n",
       "  0.0,\n",
       "  -0.5620833778521309,\n",
       "  0.8270805742745616,\n",
       "  -0.3681245526846773,\n",
       "  -0.9297764858882517,\n",
       "  -0.9859426615288487,\n",
       "  -0.1670840153258537,\n",
       "  0.692373924908462,\n",
       "  -0.7215388749796172,\n",
       "  0.20759891263027705,\n",
       "  0.9782140315261925,\n",
       "  0.9441658636451797,\n",
       "  0.3294705175385983,\n",
       "  -0.8031986027427185,\n",
       "  0.595711343313307,\n",
       "  -0.04123669621370323,\n",
       "  -0.999149405687347,\n",
       "  -0.9876883405951378,\n",
       "  0.15643446504023076,\n",
       "  0.42577929156507227,\n",
       "  -0.9048270524660197,\n",
       "  0.5090414157503713,\n",
       "  0.8607420270039436,\n",
       "  0.9999417698416557,\n",
       "  0.010791521020558725,\n",
       "  -0.5709761050510141,\n",
       "  0.8209666786543612,\n",
       "  -0.3580694142417998,\n",
       "  -0.9336949687047341,\n",
       "  -0.9840821592679609,\n",
       "  -0.17771410695413997,\n",
       "  0.7001201098016752,\n",
       "  -0.714025091891938,\n",
       "  0.19703040682890036,\n",
       "  0.9803973779977372,\n",
       "  0.9510565162951536,\n",
       "  -0.3090169943749472,\n",
       "  -0.27899110603922983,\n",
       "  0.960293685676943,\n",
       "  -0.6374239897486904,\n",
       "  -0.7705132427757887,\n",
       "  -0.9893189931644915,\n",
       "  0.14576669634726863,\n",
       "  0.43551895852616196,\n",
       "  -0.9001795580684374,\n",
       "  0.4997230585104371,\n",
       "  0.8661852369978227,\n",
       "  0.9997670861481257,\n",
       "  0.021581785257161847,\n",
       "  -0.5798023361918845,\n",
       "  0.814757172994772,\n",
       "  -0.34797257492154654,\n",
       "  -0.9375047131094695]]"
      ]
     },
     "execution_count": 242,
     "metadata": {},
     "output_type": "execute_result"
    }
   ],
   "source": [
    "represent_color_context(dev_rawcols_train[0])"
   ]
  },
  {
   "cell_type": "code",
   "execution_count": 243,
   "metadata": {},
   "outputs": [
    {
     "name": "stdout",
     "output_type": "stream",
     "text": [
      "Original: 0.9826202025267203\n",
      "New: 0.16666666666666713\n"
     ]
    }
   ],
   "source": [
    "def cos_sim(a, b):\n",
    "    return np.dot(a, b) / (np.linalg.norm(a) * np.linalg.norm(b))\n",
    "\n",
    "    \n",
    "c1 = (0.1, 0.5, 0.9)\n",
    "c2 = (0.3, 0.5, 0.9)\n",
    "\n",
    "r1 = represent_color(c1)\n",
    "r2 = represent_color(c2)\n",
    "\n",
    "r1_orig = orig_represent_color(c1)\n",
    "r2_orig = orig_represent_color(c2)\n",
    "\n",
    "print(f\"Original: {cos_sim(r1_orig, r2_orig)}\")\n",
    "print(f\"New: {cos_sim(r1, r2)}\")"
   ]
  },
  {
   "cell_type": "code",
   "execution_count": 244,
   "metadata": {},
   "outputs": [],
   "source": [
    "# def represent_color_context(color):\n",
    "#     return vectorize_all(color)[0]\n",
    "\n",
    "\n",
    "# TO DO: check space, add convert to rgb_norm or hsv_norm function? \n",
    "# def represent_color_context(colors, resolution=3):\n",
    "    \n",
    "# #     return [represent_color(color) for color in colors]\n",
    "    \n",
    "# #     print(colors)\n",
    "\n",
    "#     colors = np.array([colors])\n",
    "#     #print(colors.shape)\n",
    "#     # assert len(colors.shape) == 3, colors.shape\n",
    "#     # assert colors.shape[2] == 3, colors.shape\n",
    "\n",
    "#     ranges = np.array([361, 101, 101])\n",
    "\n",
    "#     color_0_1 = colors / (ranges - 1.0)\n",
    "#     #print(color_0_1)\n",
    "\n",
    "#     xyz = color_0_1[0] / 2.0\n",
    "#     xyz[:, 0] *= 2.0\n",
    "    \n",
    "#     ax, ay, az = [np.arange(0, g) for g, r in zip(range(resolution), ranges)]\n",
    "#     gx, gy, gz = np.meshgrid(ax, ay, az)\n",
    "\n",
    "#     arg = (np.multiply.outer(xyz[:, 0], gx) +\n",
    "#             np.multiply.outer(xyz[:, 1], gy) +\n",
    "#             np.multiply.outer(xyz[:, 2], gz))\n",
    "#     #assert \n",
    "#     repr_complex = np.exp(-2j * np.pi * (arg % 1.0)).swapaxes(1, 2).reshape((xyz.shape[0], -1))\n",
    "#     result = np.hstack([repr_complex.real, repr_complex.imag])\n",
    "#     # print(len(result))\n",
    "#     return result"
   ]
  },
  {
   "cell_type": "code",
   "execution_count": 245,
   "metadata": {},
   "outputs": [],
   "source": [
    "# converted_to_hsv = []\n",
    "# for color in dev_rawcols_train[0]:\n",
    "#     converted_to_hsv.append(hsl_to_hsv(color))\n",
    "\n",
    "# # represent_color_context(converted_to_hsv, space=\"hsv_norm\")\n",
    "# represent_color_context(converted_to_hsv)"
   ]
  },
  {
   "cell_type": "markdown",
   "metadata": {},
   "source": [
    "__Your task__: Modify `represent_color_context` and/or `represent_color` to represent colors in a new way.\n",
    "    \n",
    "__Notes__:\n",
    "\n",
    "* You are not required to keep `represent_color`. This might be unnatural if you want to perform an operation on each color trio all at once.\n",
    "* For that matter, if you want to process all of the color contexts in the entire data set all at once, that is fine too, as long as you can also perform the operation at test time with an unknown number of examples being tested.\n",
    "\n",
    "* The Fourier-transform method of [Monroe et al. 2016](https://www.aclweb.org/anthology/D16-1243/) and [Monroe et al. 2017](https://transacl.org/ojs/index.php/tacl/article/view/1142) is a proven choice for our task. __It is not required that you implement this.__ However, if you decide to, you might find that the overly terse presentation in the paper is an obstacle. They key thing to see is that the notation $\\hat{f}_{jkl}$ is meant to specify a full coordinate system. Thus, you might do something like\n",
    "\n",
    "  ```\n",
    "from itertools import product\n",
    "for j, k, l in product((0, 1, 2), repeat=3):    \n",
    "    f_jkl = ...\n",
    "```\n",
    "\n",
    "  and collect these `f_jkl` values in a list of 27 values. Additionally, in Python, [`2j` produces a value with `real` and `imag` attributes](https://docs.python.org/3.7/library/cmath.html). Each element `f_jkl` should have these components. If you concatenate the `real` and `imag` parts of all the `f_jkl`, you will have a 54-dimensional representation, as in the paper. Remember to start with an HSV representation, and with $h$ in $[0, 360]$, $s$ in $[0, 200]$, and $v$ in $[0, 200]$ (or else do the scaling differently). Note that the values in our corpus are in HLS format, [which are easily converted to HSV](https://en.wikipedia.org/wiki/HSL_and_HSV#HSL_to_HSV).\n",
    "  \n",
    "* It's natural to ask why this Fourier transform is useful in the current context. This is a challenging question, and I don't have a complete answer, but here is an intuitive observation: if you consider the raw color representations to be embeddings, then you can see very quickly that our standard geometric notions are totally out of line with our intuitions about the colors themselves. For example, here is a plot where we simply vary the hue dimension while keeping the other dimensions constant:\n",
    "\n",
    "  <img src=\"fig/colors-hue-hls.png\" alt=\"A series of very different colors with cosine distances from orange ranging from 0 to 0.19\" />\n",
    "\n",
    "  I've printed the cosine distances from the leftmost color above each patch. They all look pretty similar. Now, you might say, well at least the distances are sort of proportional to how different the colors are from the first. However, that argument seems to crumble when we do the same experiment but now varying the saturation dimension:\n",
    "\n",
    "  <img src=\"fig/colors-saturation-hls.png\" alt=\"A series of very similar purple-ish colors with cosine distances from gray-purple ranging from 0 to 0.19\" />\n",
    "\n",
    "  These colors are all quite simular intuitively. Notice, though, that the cosine distances are identical to my first plot. Of course! Cosine distances doesn't care about the nature of these dimensions! The underlying color space is a cylinder, not a regular Euclidean 3d space!\n",
    "  \n",
    "  The Fourier transformation that we apply is remapping the colors into approximately the cylindrical space that we want. It is at least capturing some the circular/radial relationships that are inherent in the space. Thus, here are plots corresponding to the above, but now where the colors have been transformed for the cosine comparisons. \n",
    "  \n",
    "  First, the hue variation:\n",
    "  \n",
    "  <img src=\"fig/colors-hue-fourier.png\" alt=\"A series of very different colors with cosine distances from orange that are generally large (near 1.0)\" />\n",
    "\n",
    "  And then saturation:\n",
    "  \n",
    "  <img src=\"fig/colors-saturation-fourier.png\" alt=\"A series of very similar purple-ish colors with cosine distances from gray purple that seem aligned with visual color similarity\" />\n",
    "  \n",
    "  These distances seem much better aligned with intuitions to me, and I think that's quite general. Thus, even if our networks can in principle learn this remapping, it's very helpful to at least start them closer to where we want them to be.\n",
    "  \n",
    "  If you want to go one layer deeper, then the [Zhang and Lu 2002](https://www.sciencedirect.com/science/article/pii/S092359650200084X) paper that Monroe et al. 2016 cite is pretty intuitive. It's for the 2d case, but that actually makes the ideas somewhere more accessible, since they can easily plot the original and remapped feature spaces."
   ]
  },
  {
   "cell_type": "markdown",
   "metadata": {},
   "source": [
    "The following test seeks to ensure only that the output of your `represent_color_context` will be compatible with the models we are creating:"
   ]
  },
  {
   "cell_type": "code",
   "execution_count": 247,
   "metadata": {},
   "outputs": [],
   "source": [
    "def test_represent_color_context(func):\n",
    "    \"\"\"`func` should be `represent_color_context`\"\"\"\n",
    "    example = [\n",
    "        [0.786, 0.58, 0.87],\n",
    "        [0.689, 0.44, 0.92],\n",
    "        [0.628, 0.32, 0.81]]\n",
    "    result = func(example)\n",
    "    assert len(result) == len(example), \\\n",
    "        (\"Color context representations need to represent each color \"\n",
    "         \"separately. (We assume the final color is the target.)\")\n",
    "    for i, color in enumerate(result):\n",
    "        assert all(isinstance(x, float) for x in color), \\\n",
    "            (\"All color representations should be lists of floats. \"\n",
    "             \"Color {} is {}\".format(i, color))"
   ]
  },
  {
   "cell_type": "code",
   "execution_count": 248,
   "metadata": {},
   "outputs": [],
   "source": [
    "if 'IS_GRADESCOPE_ENV' not in os.environ:\n",
    "    test_represent_color_context(represent_color_context)"
   ]
  },
  {
   "cell_type": "markdown",
   "metadata": {},
   "source": [
    "## Use the color representer"
   ]
  },
  {
   "cell_type": "markdown",
   "metadata": {},
   "source": [
    "The following cell just runs your `represent_color_context` on the train and test sets:"
   ]
  },
  {
   "cell_type": "code",
   "execution_count": 249,
   "metadata": {},
   "outputs": [],
   "source": [
    "dev_cols_train = [represent_color_context(colors) for colors in dev_rawcols_train]\n",
    "\n",
    "dev_cols_test = [represent_color_context(colors) for colors in dev_rawcols_test]"
   ]
  },
  {
   "cell_type": "code",
   "execution_count": 250,
   "metadata": {},
   "outputs": [],
   "source": [
    "dev_cols_train = [\n",
    "    seq for i, seq in enumerate(dev_cols_train)\n",
    "    if i in keep_idx\n",
    "]"
   ]
  },
  {
   "cell_type": "markdown",
   "metadata": {},
   "source": [
    "At this point, our preprocessing steps are complete, and we can fit a first model."
   ]
  },
  {
   "cell_type": "markdown",
   "metadata": {},
   "source": [
    "## Initial model\n",
    "\n",
    "The first model is configured right now to be a small model run for just a few iterations. It should be enough to get traction, but it's unlikely to be a great model. You are free to modify this configuration if you wish; it is here just for demonstration and testing:"
   ]
  },
  {
   "cell_type": "code",
   "execution_count": 168,
   "metadata": {},
   "outputs": [],
   "source": [
    "dev_mod = ContextualColorDescriber(\n",
    "    dev_vocab,\n",
    "    early_stopping=True)"
   ]
  },
  {
   "cell_type": "code",
   "execution_count": 169,
   "metadata": {},
   "outputs": [
    {
     "name": "stderr",
     "output_type": "stream",
     "text": [
      "Stopping after epoch 83. Validation score did not improve by tol=1e-05 for more than 10 epochs. Final error is 23.189407348632812"
     ]
    },
    {
     "name": "stdout",
     "output_type": "stream",
     "text": [
      "CPU times: user 2min 55s, sys: 3.51 s, total: 2min 59s\n",
      "Wall time: 2min 35s\n"
     ]
    }
   ],
   "source": [
    "if 'IS_GRADESCOPE_ENV' not in os.environ:\n",
    "    %time _ = dev_mod.fit(dev_cols_train, dev_seqs_train)\n",
    "else:\n",
    "    dev_mod.fit(dev_cols_train, dev_seqs_train)"
   ]
  },
  {
   "cell_type": "markdown",
   "metadata": {},
   "source": [
    "The canonical bake-off evaluation function is `evaluate`. Our primary metric is `listener_accuracy`; the BLEU score is included as a check to ensure that your system is speaking English!"
   ]
  },
  {
   "cell_type": "code",
   "execution_count": 170,
   "metadata": {},
   "outputs": [],
   "source": [
    "evaluation = dev_mod.evaluate(dev_cols_test, dev_seqs_test)"
   ]
  },
  {
   "cell_type": "code",
   "execution_count": 171,
   "metadata": {},
   "outputs": [
    {
     "data": {
      "text/plain": [
       "dict_keys(['listener_accuracy', 'corpus_bleu', 'target_index', 'predicted_index', 'predicted_utterance'])"
      ]
     },
     "execution_count": 171,
     "metadata": {},
     "output_type": "execute_result"
    }
   ],
   "source": [
    "evaluation.keys()"
   ]
  },
  {
   "cell_type": "code",
   "execution_count": 172,
   "metadata": {},
   "outputs": [
    {
     "data": {
      "text/plain": [
       "0.791534696228045"
      ]
     },
     "execution_count": 172,
     "metadata": {},
     "output_type": "execute_result"
    }
   ],
   "source": [
    "evaluation['listener_accuracy']"
   ]
  },
  {
   "cell_type": "code",
   "execution_count": 173,
   "metadata": {},
   "outputs": [
    {
     "data": {
      "text/plain": [
       "0.791534696228045"
      ]
     },
     "execution_count": 173,
     "metadata": {},
     "output_type": "execute_result"
    }
   ],
   "source": [
    "dev_mod.listener_accuracy(dev_cols_test, dev_seqs_test)"
   ]
  },
  {
   "cell_type": "code",
   "execution_count": 174,
   "metadata": {},
   "outputs": [
    {
     "data": {
      "text/plain": [
       "0.6976881518889887"
      ]
     },
     "execution_count": 174,
     "metadata": {},
     "output_type": "execute_result"
    }
   ],
   "source": [
    "evaluation['corpus_bleu']"
   ]
  },
  {
   "cell_type": "code",
   "execution_count": 175,
   "metadata": {},
   "outputs": [
    {
     "data": {
      "text/plain": [
       "0.6976881518889887"
      ]
     },
     "execution_count": 175,
     "metadata": {},
     "output_type": "execute_result"
    }
   ],
   "source": [
    "bleu, predicted_utterances = dev_mod.corpus_bleu(dev_cols_test, dev_seqs_test)\n",
    "\n",
    "bleu"
   ]
  },
  {
   "cell_type": "code",
   "execution_count": 176,
   "metadata": {},
   "outputs": [
    {
     "data": {
      "text/plain": [
       "[2, 2, 2, 2, 2]"
      ]
     },
     "execution_count": 176,
     "metadata": {},
     "output_type": "execute_result"
    }
   ],
   "source": [
    "evaluation['target_index'][: 5]"
   ]
  },
  {
   "cell_type": "code",
   "execution_count": 177,
   "metadata": {},
   "outputs": [
    {
     "data": {
      "text/plain": [
       "[2, 0, 2, 0, 2]"
      ]
     },
     "execution_count": 177,
     "metadata": {},
     "output_type": "execute_result"
    }
   ],
   "source": [
    "evaluation['predicted_index'][: 5]"
   ]
  },
  {
   "cell_type": "code",
   "execution_count": 178,
   "metadata": {},
   "outputs": [
    {
     "data": {
      "text/plain": [
       "[['<s>', 'bright', 'purple', '</s>'],\n",
       " ['<s>', 'yellow', '+ish', 'green', '</s>'],\n",
       " ['<s>', 'pink', '+ish', 'purple', '</s>'],\n",
       " ['<s>', 'bright', 'pink', '</s>'],\n",
       " ['<s>', 'bright', 'green', '</s>']]"
      ]
     },
     "execution_count": 178,
     "metadata": {},
     "output_type": "execute_result"
    }
   ],
   "source": [
    "evaluation['predicted_utterance'][: 5]"
   ]
  },
  {
   "cell_type": "markdown",
   "metadata": {},
   "source": [
    "We can also see the model's predicted sequences given color context inputs:"
   ]
  },
  {
   "cell_type": "code",
   "execution_count": 179,
   "metadata": {},
   "outputs": [
    {
     "data": {
      "text/plain": [
       "[['<s>', 'bright', 'purple', '</s>']]"
      ]
     },
     "execution_count": 179,
     "metadata": {},
     "output_type": "execute_result"
    }
   ],
   "source": [
    "dev_mod.predict(dev_cols_test[: 1])"
   ]
  },
  {
   "cell_type": "code",
   "execution_count": 180,
   "metadata": {},
   "outputs": [
    {
     "data": {
      "text/plain": [
       "[['<s>', '$UNK', '$UNK', '###', 'purple', 'pink', '+ish', '</s>']]"
      ]
     },
     "execution_count": 180,
     "metadata": {},
     "output_type": "execute_result"
    }
   ],
   "source": [
    "dev_seqs_test[: 1]"
   ]
  },
  {
   "cell_type": "markdown",
   "metadata": {},
   "source": [
    "## Question 3: GloVe embeddings [1 point]\n",
    "\n",
    "The above model uses a random initial embedding, as configured by the decoder used by `ContextualColorDescriber`. This homework question asks you to consider using GloVe inputs. \n",
    "\n",
    "__Your task__: Complete `create_glove_embedding` so that it creates a GloVe embedding based on your model vocabulary. This isn't meant to be analytically challenging, but rather just to create a basis for you to try out other kinds of rich initialization."
   ]
  },
  {
   "cell_type": "code",
   "execution_count": 181,
   "metadata": {},
   "outputs": [],
   "source": [
    "GLOVE_HOME = os.path.join('data', 'glove.6B')"
   ]
  },
  {
   "cell_type": "code",
   "execution_count": 182,
   "metadata": {},
   "outputs": [],
   "source": [
    "def create_glove_embedding(vocab, glove_base_filename='glove.6B.50d.txt'):\n",
    "    # Use `utils.glove2dict` to read in the GloVe file:\n",
    "    glove_path = os.path.join(\"./data\", \"glove.6B\", glove_base_filename)\n",
    "    lookup = utils.glove2dict(glove_path)\n",
    "\n",
    "    # Use `utils.create_pretrained_embedding` to create the embedding.\n",
    "    # This function will, by default, ensure that START_TOKEN,\n",
    "    # END_TOKEN, and UNK_TOKEN are included in the embedding.\n",
    "\n",
    "    embedding, new_vocab = utils.create_pretrained_embedding(\n",
    "        lookup, vocab, required_tokens=('$UNK', \"<s>\", \"</s>\")\n",
    "    )\n",
    "\n",
    "\n",
    "    # Be sure to return the embedding you create as well as the\n",
    "    # vocabulary returned by `utils.create_pretrained_embedding`,\n",
    "    # which is likely to have been modified from the input `vocab`.\n",
    "\n",
    "    return embedding, new_vocab"
   ]
  },
  {
   "cell_type": "code",
   "execution_count": 183,
   "metadata": {},
   "outputs": [],
   "source": [
    "def test_create_glove_embedding(func):\n",
    "    vocab = ['NLU', 'is', 'the', 'future', '.', '$UNK', '<s>', '</s>']\n",
    "    glove_embedding, glove_vocab = func(vocab, 'glove.6B.50d.txt')\n",
    "    assert isinstance(glove_embedding, np.ndarray), \\\n",
    "        \"Expected embedding type {}; got {}\".format(\n",
    "        glove_embedding.__class__.__name__, glove_embedding.__class__.__name__)\n",
    "    assert glove_embedding.shape == (8, 50), \\\n",
    "        \"Expected embedding shape (8, 50); got {}\".format(glove_embedding.shape)\n",
    "    assert glove_vocab == vocab, \\\n",
    "        \"Expected vocab {}; got {}\".format(vocab, glove_vocab)"
   ]
  },
  {
   "cell_type": "code",
   "execution_count": 184,
   "metadata": {},
   "outputs": [],
   "source": [
    "if 'IS_GRADESCOPE_ENV' not in os.environ:\n",
    "    test_create_glove_embedding(create_glove_embedding)"
   ]
  },
  {
   "cell_type": "markdown",
   "metadata": {},
   "source": [
    "## Try the GloVe representations"
   ]
  },
  {
   "cell_type": "markdown",
   "metadata": {},
   "source": [
    "The extent to which GloVe is useful will depend heavily on how aligned your tokenization scheme is with the GloVe vocabulary. For example, if you did character-level tokenization, then the GloVe embedding space is not well-aligned with your tokenizer and using GloVe should have little no positive effect."
   ]
  },
  {
   "cell_type": "markdown",
   "metadata": {},
   "source": [
    "Let's see if GloVe helped for our development data:"
   ]
  },
  {
   "cell_type": "code",
   "execution_count": 185,
   "metadata": {},
   "outputs": [],
   "source": [
    "dev_glove_embedding, dev_glove_vocab = create_glove_embedding(dev_vocab)"
   ]
  },
  {
   "cell_type": "code",
   "execution_count": 186,
   "metadata": {},
   "outputs": [
    {
     "data": {
      "text/plain": [
       "131"
      ]
     },
     "execution_count": 186,
     "metadata": {},
     "output_type": "execute_result"
    }
   ],
   "source": [
    "len(dev_vocab)"
   ]
  },
  {
   "cell_type": "code",
   "execution_count": 187,
   "metadata": {},
   "outputs": [
    {
     "data": {
      "text/plain": [
       "131"
      ]
     },
     "execution_count": 187,
     "metadata": {},
     "output_type": "execute_result"
    }
   ],
   "source": [
    "len(dev_glove_vocab)"
   ]
  },
  {
   "cell_type": "code",
   "execution_count": 188,
   "metadata": {},
   "outputs": [],
   "source": [
    "dev_mod_glove = ContextualColorDescriber(\n",
    "    dev_glove_vocab,\n",
    "    embedding=dev_glove_embedding,\n",
    "    early_stopping=True)"
   ]
  },
  {
   "cell_type": "code",
   "execution_count": 189,
   "metadata": {},
   "outputs": [
    {
     "name": "stderr",
     "output_type": "stream",
     "text": [
      "Stopping after epoch 73. Validation score did not improve by tol=1e-05 for more than 10 epochs. Final error is 23.332935094833374"
     ]
    }
   ],
   "source": [
    "_ = dev_mod_glove.fit(dev_cols_train, dev_seqs_train)"
   ]
  },
  {
   "cell_type": "code",
   "execution_count": 190,
   "metadata": {},
   "outputs": [
    {
     "data": {
      "text/plain": [
       "0.7898070832133602"
      ]
     },
     "execution_count": 190,
     "metadata": {},
     "output_type": "execute_result"
    }
   ],
   "source": [
    "dev_mod_glove.listener_accuracy(dev_cols_test, dev_seqs_test)"
   ]
  },
  {
   "cell_type": "markdown",
   "metadata": {},
   "source": [
    "You probably saw a small boost, assuming your tokeization scheme leads to good overlap with the GloVe vocabulary. The input representations are larger than in our previous model (at least as I configured things), so we would need to do more runs with higher `max_iter` values to see whether this is worthwhile overall."
   ]
  },
  {
   "cell_type": "markdown",
   "metadata": {},
   "source": [
    "## Question 4: Color context [3 points]\n",
    "\n",
    "The final required homework question is the most challenging, but it should set you up to think in much more flexible ways about the underlying model we're using.\n",
    "\n",
    "The question asks you to modify various model components in `torch_color_describer.py`. The section called [Modifying the core model](colors_overview.ipynb#Modifying-the-core-model) from the core unit notebook provides a number of examples illustrating the basic techniques, so you might review that material if you get stuck here.\n",
    "\n",
    "__Your task__: Building on ideas from [Monroe et al. 2017](https://transacl.org/ojs/index.php/tacl/article/view/1142), you will redesign the model so that the target color (the final one in the context) is appended to each input token that gets processed by the decoder. The question asks you to subclass the `Decoder` and `EncoderDecoder` from `torch_color_describer.py` so that you can build models that do this."
   ]
  },
  {
   "cell_type": "markdown",
   "metadata": {},
   "source": [
    "__Step 1__: Modify the `Decoder` so that the input vector to the model at each timestep is not just a token representation `x` but the concatenation of `x` with the representation of the target color.\n",
    "\n",
    "__Notes__:\n",
    "\n",
    "* You might notice at this point that the original `Decoder.forward` method has an optional keyword argument `target_colors` that is passed to `Decoder.get_embeddings`. Because this is already in place, all you have to do is modify the `get_embeddings` method to use this argument.\n",
    "\n",
    "* The change affects the configuration of `self.rnn`, so you need to subclass the `__init__` method as well, so that its `input_size` argument accomodates the embedding as well as the color representations.\n",
    "\n",
    "* You can do the relevant operations efficiently in pure PyTorch using `repeat_interleave` and `cat`, but the important thing is to get a working implementation – you can always optimize the code later if the ideas prove useful to you. \n",
    "\n",
    "Here's skeleton code for you to flesh out:"
   ]
  },
  {
   "cell_type": "code",
   "execution_count": 191,
   "metadata": {},
   "outputs": [],
   "source": [
    "from torch_color_describer import Decoder\n",
    "import torch\n",
    "import torch.nn as nn\n",
    "\n",
    "\n",
    "class ColorContextDecoder(Decoder):\n",
    "    def __init__(self, color_dim, *args, **kwargs):\n",
    "        self.color_dim = color_dim\n",
    "        super().__init__(*args, **kwargs)\n",
    "\n",
    "        # Fix the `self.rnn` attribute:\n",
    "        self.rnn = nn.GRU(\n",
    "            input_size=self.embed_dim + color_dim,\n",
    "            hidden_size=self.hidden_dim,\n",
    "            batch_first=True)\n",
    "\n",
    "    def get_embeddings(self, word_seqs, target_colors=None):\n",
    "        \"\"\"\n",
    "        You can assume that `target_colors` is a tensor of shape\n",
    "        (m, n), where m is the length of the batch (same as\n",
    "        `word_seqs.shape[0]`) and n is the dimensionality of the\n",
    "        color representations the model is using. The goal is\n",
    "        to attached each color vector i to each of the tokens in\n",
    "        the ith sequence of (the embedded version of) `word_seqs`.\n",
    "\n",
    "        \"\"\"\n",
    "        m, n = word_seqs.shape\n",
    "        embs = self.embedding(word_seqs)\n",
    "        colors_interleaved = torch.repeat_interleave(target_colors, n, dim=0)\n",
    "        colors_interleaved = colors_interleaved.reshape(m, n, self.color_dim)\n",
    "        output = torch.cat([embs, colors_interleaved], dim=2)\n",
    "        return output"
   ]
  },
  {
   "cell_type": "markdown",
   "metadata": {},
   "source": [
    "Step 1 is the most demanding of the steps in terms of tensor wrangling. It's important to have a clear idea of what you are trying to achieve and to unit test `get_embeddings` so that you can check that it has realized your vision. The following test should help with that:"
   ]
  },
  {
   "cell_type": "code",
   "execution_count": 192,
   "metadata": {},
   "outputs": [],
   "source": [
    "def test_get_embeddings(decoder_class):\n",
    "    \"\"\"\n",
    "    It's assumed that the input to this will be `ColorContextDecoder`.\n",
    "    You pass in the class, and the function initalizes it with the test\n",
    "    parameters.\n",
    "    \"\"\"\n",
    "    dec = decoder_class(\n",
    "        color_dim=3,   # For these, we mainly want *different*\n",
    "        vocab_size=10, # dimensions so that we reliably get\n",
    "        embed_dim=4,   # dimensionality errors if something\n",
    "        hidden_dim=5)  # isn't working.\n",
    "\n",
    "    # This step just changes the embedding to one with values\n",
    "    # that are easy to inspect and definitely will not change\n",
    "    # between runs:\n",
    "    dec.embedding = nn.Embedding.from_pretrained(\n",
    "        torch.FloatTensor([\n",
    "            [10, 11, 12, 13],\n",
    "            [14, 15, 16, 17],\n",
    "            [18, 19, 20, 21]]))\n",
    "\n",
    "    # These are the incoming sequences -- lists of indices\n",
    "    # into the rows of `dec.embedding`:\n",
    "    word_seqs = torch.tensor([\n",
    "        [0,1,2],\n",
    "        [2,0,1]])\n",
    "\n",
    "    # Target colors as small floats that will be easy to track:\n",
    "    target_colors = torch.tensor([\n",
    "        [0.1, 0.2, 0.3],\n",
    "        [0.7, 0.8, 0.9]])\n",
    "\n",
    "    # The desired return value: one list of tensors for each of\n",
    "    # the two sequences in `word_seqs`. Each index is replaced\n",
    "    # with its vector from `dec.embedding` and has the\n",
    "    # corrresponding color from `target_colors` appended to it.\n",
    "    expected = torch.tensor([\n",
    "        [[10., 11., 12., 13.,  0.1,  0.2,  0.3],\n",
    "         [14., 15., 16., 17.,  0.1,  0.2,  0.3],\n",
    "         [18., 19., 20., 21.,  0.1,  0.2,  0.3]],\n",
    "\n",
    "        [[18., 19., 20., 21.,  0.7,  0.8,  0.9],\n",
    "         [10., 11., 12., 13.,  0.7,  0.8,  0.9],\n",
    "         [14., 15., 16., 17.,  0.7,  0.8,  0.9]]])\n",
    "\n",
    "    result = dec.get_embeddings(word_seqs, target_colors=target_colors)\n",
    "\n",
    "    assert expected.shape == result.shape, \\\n",
    "        \"Expected shape {}; got shape {}\".format(expected.shape, result.shape)\n",
    "\n",
    "    assert torch.all(expected.eq(result)), \\\n",
    "        (\"Your result has the desired shape but the values aren't correct. \"\n",
    "         \"Here's what your function creates; compare it with `expected` \"\n",
    "         \"from the test:\\n{}\".format(result))"
   ]
  },
  {
   "cell_type": "code",
   "execution_count": 193,
   "metadata": {},
   "outputs": [],
   "source": [
    "if 'IS_GRADESCOPE_ENV' not in os.environ:\n",
    "    test_get_embeddings(ColorContextDecoder)"
   ]
  },
  {
   "cell_type": "markdown",
   "metadata": {},
   "source": [
    "__Step 2__: Modify the `EncoderDecoder`. For this, you just need to make a small change to the `forward` method: extract the target colors from `color_seqs` and feed them to the decoder."
   ]
  },
  {
   "cell_type": "code",
   "execution_count": 194,
   "metadata": {},
   "outputs": [],
   "source": [
    "from torch_color_describer import EncoderDecoder\n",
    "\n",
    "class ColorizedEncoderDecoder(EncoderDecoder):\n",
    "\n",
    "    def forward(self,\n",
    "            color_seqs,\n",
    "            word_seqs,\n",
    "            seq_lengths=None,\n",
    "            hidden=None,\n",
    "            targets=None):\n",
    "        if hidden is None:\n",
    "            hidden = self.encoder(color_seqs)\n",
    "\n",
    "        # Extract the target colors from `color_seqs` and\n",
    "        # feed them to the decoder, which already has a\n",
    "        # `target_colors` keyword.\n",
    "\n",
    "        target_colors = color_seqs[:, -1, :]\n",
    "        output, hidden = self.decoder(word_seqs, seq_lengths=seq_lengths, hidden=hidden, target_colors=target_colors)\n",
    "\n",
    "        # Your decoder will return `output, hidden` pairs; the\n",
    "        # following will handle the two return situations that\n",
    "        # the code needs to consider -- training and prediction.\n",
    "        if self.training:\n",
    "            return output\n",
    "        else:\n",
    "            return output, hidden"
   ]
  },
  {
   "cell_type": "markdown",
   "metadata": {},
   "source": [
    "__Step 3__: Finally, as in the examples in [Modifying the core model](colors_overview.ipynb#Modifying-the-core-model), you need to modify the `build_graph` method of `ContextualColorDescriber` so that it uses your new `ColorContextDecoder` and `ColorizedEncoderDecoder`. Here's starter code:"
   ]
  },
  {
   "cell_type": "code",
   "execution_count": 195,
   "metadata": {},
   "outputs": [],
   "source": [
    "from torch_color_describer import Encoder\n",
    "\n",
    "class ColorizedInputDescriber(ContextualColorDescriber):\n",
    "\n",
    "    def build_graph(self):\n",
    "        # We didn't modify the encoder, so this is\n",
    "        # just copied over from the original:\n",
    "        encoder = Encoder(\n",
    "            color_dim=self.color_dim,\n",
    "            hidden_dim=self.hidden_dim)\n",
    "\n",
    "        # Use your `ColorContextDecoder`, making sure\n",
    "        # to pass in all the keyword arguments coming\n",
    "        # from `ColorizedInputDescriber`:\n",
    "\n",
    "        decoder = ColorContextDecoder(\n",
    "            color_dim=self.color_dim,\n",
    "            vocab_size=self.vocab_size,\n",
    "            embed_dim=self.embed_dim,\n",
    "            hidden_dim=self.hidden_dim,\n",
    "            embedding=self.embedding,\n",
    "            freeze_embedding=self.freeze_embedding,\n",
    "        )\n",
    "\n",
    "        # Return a `ColorizedEncoderDecoder` that uses\n",
    "        # your encoder and decoder:\n",
    "        return ColorizedEncoderDecoder(encoder, decoder)"
   ]
  },
  {
   "cell_type": "markdown",
   "metadata": {},
   "source": [
    "That's it! Since these modifications are pretty intricate, you might want to use [a toy dataset](colors_overview.ipynb#Toy-problems-for-development-work) to debug it:"
   ]
  },
  {
   "cell_type": "code",
   "execution_count": 196,
   "metadata": {},
   "outputs": [],
   "source": [
    "def test_full_system(describer_class):\n",
    "    toy_color_seqs, toy_word_seqs, toy_vocab = create_example_dataset(\n",
    "        group_size=50, vec_dim=2)\n",
    "\n",
    "    toy_color_seqs_train, toy_color_seqs_test, toy_word_seqs_train, toy_word_seqs_test = \\\n",
    "        train_test_split(toy_color_seqs, toy_word_seqs)\n",
    "\n",
    "    toy_mod = describer_class(toy_vocab)\n",
    "\n",
    "    _ = toy_mod.fit(toy_color_seqs_train, toy_word_seqs_train)\n",
    "\n",
    "    acc = toy_mod.listener_accuracy(toy_color_seqs_test, toy_word_seqs_test)\n",
    "\n",
    "    return acc"
   ]
  },
  {
   "cell_type": "code",
   "execution_count": 197,
   "metadata": {},
   "outputs": [
    {
     "name": "stderr",
     "output_type": "stream",
     "text": [
      "Finished epoch 1000 of 1000; error is 0.12230164557695389"
     ]
    },
    {
     "data": {
      "text/plain": [
       "1.0"
      ]
     },
     "execution_count": 197,
     "metadata": {},
     "output_type": "execute_result"
    }
   ],
   "source": [
    "test_full_system(ColorizedInputDescriber)"
   ]
  },
  {
   "cell_type": "markdown",
   "metadata": {},
   "source": [
    "If that worked, then you can now try this model on SCC problems!"
   ]
  },
  {
   "cell_type": "markdown",
   "metadata": {},
   "source": [
    "## Your original system [3 points]"
   ]
  },
  {
   "cell_type": "markdown",
   "metadata": {},
   "source": [
    "There are many options for your original system, which consists of the full pipeline – all preprocessing and modeling steps. You are free to use any model you like, as long as you subclass `ContextualColorDescriber` in a way that allows its `evaluate` method to behave in the expected way.\n",
    "\n",
    "So that we can evaluate models in a uniform way for the bake-off, we ask that you modify the function `evaluate_original_system` below so that it accepts a trained instance of your model and does any preprocessing steps required by your model.\n",
    "\n",
    "If we seek to reproduce your results, we will rerun this entire notebook. Thus, it is fine if your `evaluate_original_system` makes use of functions you wrote or modified above this cell."
   ]
  },
  {
   "cell_type": "code",
   "execution_count": 210,
   "metadata": {},
   "outputs": [],
   "source": [
    "def evaluate_original_system(trained_model, color_seqs_test, texts_test):\n",
    "    \"\"\"\n",
    "    Feel free to modify this code to accommodate the needs of\n",
    "    your system. Just keep in mind that it will get raw corpus\n",
    "    examples as inputs for the bake-off.\n",
    "\n",
    "    \"\"\"\n",
    "    # `word_seqs_test` is a list of strings, so tokenize each of\n",
    "    # its elements:\n",
    "    tok_seqs = [tokenize_example(s) for s in texts_test]\n",
    "\n",
    "    col_seqs = [represent_color_context(colors)\n",
    "                for colors in color_seqs_test]\n",
    "\n",
    "\n",
    "    # Optionally include other preprocessing steps here. Note:\n",
    "    # DO NOT RETRAIN YOUR MODEL AS PART OF THIS EVALUATION!\n",
    "    # It's a tempting step, but it's a mistake and will get\n",
    "    # you disqualified!\n",
    "\n",
    "    # The following core score calculations are required:\n",
    "    evaluation = trained_model.evaluate(col_seqs, tok_seqs)\n",
    "\n",
    "    return evaluation"
   ]
  },
  {
   "cell_type": "markdown",
   "metadata": {},
   "source": [
    "If `evaluate_original_system` works on test sets you create from the corpus distribution, then it will work for the bake-off, so consider checking that. For example, this would check that `dev_mod` above passes muster:"
   ]
  },
  {
   "cell_type": "code",
   "execution_count": 254,
   "metadata": {},
   "outputs": [
    {
     "name": "stderr",
     "output_type": "stream",
     "text": [
      "/Users/cwolff/Documents/cs224u/torch_color_describer.py:680: RuntimeWarning: divide by zero encountered in power\n",
      "  perp = [np.prod(s)**(-1/len(s)) for s in scores]\n"
     ]
    }
   ],
   "source": [
    "my_evaluation = evaluate_original_system(dev_mod, dev_rawcols_test, dev_texts_test)"
   ]
  },
  {
   "cell_type": "code",
   "execution_count": 255,
   "metadata": {},
   "outputs": [
    {
     "data": {
      "text/plain": [
       "0.8339433143246233"
      ]
     },
     "execution_count": 255,
     "metadata": {},
     "output_type": "execute_result"
    }
   ],
   "source": [
    "my_evaluation['listener_accuracy']"
   ]
  },
  {
   "cell_type": "code",
   "execution_count": 256,
   "metadata": {},
   "outputs": [
    {
     "data": {
      "text/plain": [
       "0.487740744889098"
      ]
     },
     "execution_count": 256,
     "metadata": {},
     "output_type": "execute_result"
    }
   ],
   "source": [
    "my_evaluation['corpus_bleu']"
   ]
  },
  {
   "cell_type": "markdown",
   "metadata": {},
   "source": [
    "In the cell below, please provide a brief technical description of your original system, so that the teaching team can gain an understanding of what it does. This will help us to understand your code and analyze all the submissions to identify patterns and strategies. We also ask that you report the best **listener_accuracy** score your system got during development, just to help us understand how systems performed overall.\n",
    "\n",
    "<font color='red'>Please review the descriptions in the following comment and follow the instructions.</font>"
   ]
  },
  {
   "cell_type": "code",
   "execution_count": 251,
   "metadata": {},
   "outputs": [
    {
     "name": "stderr",
     "output_type": "stream",
     "text": [
      "/Users/cwolff/Documents/cs224u/torch_color_describer.py:680: RuntimeWarning: divide by zero encountered in power\n",
      "  perp = [np.prod(s)**(-1/len(s)) for s in scores]\n",
      "Finished epoch 1 of 1000; error is 176.13652801513672/Users/cwolff/Documents/cs224u/torch_color_describer.py:680: RuntimeWarning: divide by zero encountered in power\n",
      "  perp = [np.prod(s)**(-1/len(s)) for s in scores]\n",
      "Finished epoch 2 of 1000; error is 164.8392686843872/Users/cwolff/Documents/cs224u/torch_color_describer.py:680: RuntimeWarning: divide by zero encountered in power\n",
      "  perp = [np.prod(s)**(-1/len(s)) for s in scores]\n",
      "Finished epoch 3 of 1000; error is 161.83184480667114/Users/cwolff/Documents/cs224u/torch_color_describer.py:680: RuntimeWarning: divide by zero encountered in power\n",
      "  perp = [np.prod(s)**(-1/len(s)) for s in scores]\n",
      "Finished epoch 4 of 1000; error is 159.67885398864746/Users/cwolff/Documents/cs224u/torch_color_describer.py:680: RuntimeWarning: divide by zero encountered in power\n",
      "  perp = [np.prod(s)**(-1/len(s)) for s in scores]\n",
      "Finished epoch 5 of 1000; error is 157.74342107772827/Users/cwolff/Documents/cs224u/torch_color_describer.py:680: RuntimeWarning: divide by zero encountered in power\n",
      "  perp = [np.prod(s)**(-1/len(s)) for s in scores]\n",
      "Finished epoch 6 of 1000; error is 155.75259685516357/Users/cwolff/Documents/cs224u/torch_color_describer.py:680: RuntimeWarning: divide by zero encountered in power\n",
      "  perp = [np.prod(s)**(-1/len(s)) for s in scores]\n",
      "Finished epoch 7 of 1000; error is 153.08178567886353/Users/cwolff/Documents/cs224u/torch_color_describer.py:680: RuntimeWarning: divide by zero encountered in power\n",
      "  perp = [np.prod(s)**(-1/len(s)) for s in scores]\n",
      "Finished epoch 8 of 1000; error is 151.80974864959717/Users/cwolff/Documents/cs224u/torch_color_describer.py:680: RuntimeWarning: divide by zero encountered in power\n",
      "  perp = [np.prod(s)**(-1/len(s)) for s in scores]\n",
      "Finished epoch 9 of 1000; error is 150.27865743637085/Users/cwolff/Documents/cs224u/torch_color_describer.py:680: RuntimeWarning: divide by zero encountered in power\n",
      "  perp = [np.prod(s)**(-1/len(s)) for s in scores]\n",
      "Finished epoch 10 of 1000; error is 148.16722011566162/Users/cwolff/Documents/cs224u/torch_color_describer.py:680: RuntimeWarning: divide by zero encountered in power\n",
      "  perp = [np.prod(s)**(-1/len(s)) for s in scores]\n",
      "Finished epoch 11 of 1000; error is 146.0497760772705/Users/cwolff/Documents/cs224u/torch_color_describer.py:680: RuntimeWarning: divide by zero encountered in power\n",
      "  perp = [np.prod(s)**(-1/len(s)) for s in scores]\n",
      "Finished epoch 12 of 1000; error is 144.15049076080322/Users/cwolff/Documents/cs224u/torch_color_describer.py:680: RuntimeWarning: divide by zero encountered in power\n",
      "  perp = [np.prod(s)**(-1/len(s)) for s in scores]\n",
      "Finished epoch 13 of 1000; error is 142.48003005981445/Users/cwolff/Documents/cs224u/torch_color_describer.py:680: RuntimeWarning: divide by zero encountered in power\n",
      "  perp = [np.prod(s)**(-1/len(s)) for s in scores]\n",
      "Finished epoch 14 of 1000; error is 140.25023221969604/Users/cwolff/Documents/cs224u/torch_color_describer.py:680: RuntimeWarning: divide by zero encountered in power\n",
      "  perp = [np.prod(s)**(-1/len(s)) for s in scores]\n",
      "Finished epoch 15 of 1000; error is 138.85527420043945/Users/cwolff/Documents/cs224u/torch_color_describer.py:680: RuntimeWarning: divide by zero encountered in power\n",
      "  perp = [np.prod(s)**(-1/len(s)) for s in scores]\n",
      "Finished epoch 16 of 1000; error is 137.54614400863647/Users/cwolff/Documents/cs224u/torch_color_describer.py:680: RuntimeWarning: divide by zero encountered in power\n",
      "  perp = [np.prod(s)**(-1/len(s)) for s in scores]\n",
      "Finished epoch 17 of 1000; error is 135.24007415771484/Users/cwolff/Documents/cs224u/torch_color_describer.py:680: RuntimeWarning: divide by zero encountered in power\n",
      "  perp = [np.prod(s)**(-1/len(s)) for s in scores]\n",
      "Finished epoch 18 of 1000; error is 133.68796157836914/Users/cwolff/Documents/cs224u/torch_color_describer.py:680: RuntimeWarning: divide by zero encountered in power\n",
      "  perp = [np.prod(s)**(-1/len(s)) for s in scores]\n",
      "Finished epoch 19 of 1000; error is 132.15299129486084/Users/cwolff/Documents/cs224u/torch_color_describer.py:680: RuntimeWarning: divide by zero encountered in power\n",
      "  perp = [np.prod(s)**(-1/len(s)) for s in scores]\n",
      "Finished epoch 20 of 1000; error is 130.5367875099182/Users/cwolff/Documents/cs224u/torch_color_describer.py:680: RuntimeWarning: divide by zero encountered in power\n",
      "  perp = [np.prod(s)**(-1/len(s)) for s in scores]\n",
      "Finished epoch 21 of 1000; error is 128.51183700561523/Users/cwolff/Documents/cs224u/torch_color_describer.py:680: RuntimeWarning: divide by zero encountered in power\n",
      "  perp = [np.prod(s)**(-1/len(s)) for s in scores]\n",
      "Finished epoch 22 of 1000; error is 127.07691645622253/Users/cwolff/Documents/cs224u/torch_color_describer.py:680: RuntimeWarning: divide by zero encountered in power\n",
      "  perp = [np.prod(s)**(-1/len(s)) for s in scores]\n",
      "Finished epoch 23 of 1000; error is 125.37349343299866/Users/cwolff/Documents/cs224u/torch_color_describer.py:680: RuntimeWarning: divide by zero encountered in power\n",
      "  perp = [np.prod(s)**(-1/len(s)) for s in scores]\n",
      "Finished epoch 24 of 1000; error is 123.90883135795593/Users/cwolff/Documents/cs224u/torch_color_describer.py:680: RuntimeWarning: divide by zero encountered in power\n",
      "  perp = [np.prod(s)**(-1/len(s)) for s in scores]\n",
      "Finished epoch 25 of 1000; error is 122.46196126937866/Users/cwolff/Documents/cs224u/torch_color_describer.py:680: RuntimeWarning: divide by zero encountered in power\n",
      "  perp = [np.prod(s)**(-1/len(s)) for s in scores]\n",
      "Finished epoch 26 of 1000; error is 120.76673626899719/Users/cwolff/Documents/cs224u/torch_color_describer.py:680: RuntimeWarning: divide by zero encountered in power\n",
      "  perp = [np.prod(s)**(-1/len(s)) for s in scores]\n",
      "Finished epoch 27 of 1000; error is 118.76081228256226/Users/cwolff/Documents/cs224u/torch_color_describer.py:680: RuntimeWarning: divide by zero encountered in power\n",
      "  perp = [np.prod(s)**(-1/len(s)) for s in scores]\n",
      "Finished epoch 28 of 1000; error is 117.12623524665833/Users/cwolff/Documents/cs224u/torch_color_describer.py:680: RuntimeWarning: divide by zero encountered in power\n",
      "  perp = [np.prod(s)**(-1/len(s)) for s in scores]\n",
      "Finished epoch 29 of 1000; error is 115.39509391784668/Users/cwolff/Documents/cs224u/torch_color_describer.py:680: RuntimeWarning: divide by zero encountered in power\n",
      "  perp = [np.prod(s)**(-1/len(s)) for s in scores]\n",
      "Finished epoch 30 of 1000; error is 114.19336318969727/Users/cwolff/Documents/cs224u/torch_color_describer.py:680: RuntimeWarning: divide by zero encountered in power\n",
      "  perp = [np.prod(s)**(-1/len(s)) for s in scores]\n",
      "Finished epoch 31 of 1000; error is 112.10702967643738/Users/cwolff/Documents/cs224u/torch_color_describer.py:680: RuntimeWarning: divide by zero encountered in power\n",
      "  perp = [np.prod(s)**(-1/len(s)) for s in scores]\n",
      "Finished epoch 32 of 1000; error is 110.96462488174438/Users/cwolff/Documents/cs224u/torch_color_describer.py:680: RuntimeWarning: divide by zero encountered in power\n",
      "  perp = [np.prod(s)**(-1/len(s)) for s in scores]\n",
      "Finished epoch 33 of 1000; error is 109.44279646873474/Users/cwolff/Documents/cs224u/torch_color_describer.py:680: RuntimeWarning: divide by zero encountered in power\n",
      "  perp = [np.prod(s)**(-1/len(s)) for s in scores]\n",
      "Finished epoch 34 of 1000; error is 107.6310772895813/Users/cwolff/Documents/cs224u/torch_color_describer.py:680: RuntimeWarning: divide by zero encountered in power\n",
      "  perp = [np.prod(s)**(-1/len(s)) for s in scores]\n",
      "Finished epoch 35 of 1000; error is 106.43531966209412/Users/cwolff/Documents/cs224u/torch_color_describer.py:680: RuntimeWarning: divide by zero encountered in power\n",
      "  perp = [np.prod(s)**(-1/len(s)) for s in scores]\n",
      "Finished epoch 36 of 1000; error is 104.81756377220154/Users/cwolff/Documents/cs224u/torch_color_describer.py:680: RuntimeWarning: divide by zero encountered in power\n",
      "  perp = [np.prod(s)**(-1/len(s)) for s in scores]\n",
      "Finished epoch 37 of 1000; error is 103.31497359275818/Users/cwolff/Documents/cs224u/torch_color_describer.py:680: RuntimeWarning: divide by zero encountered in power\n",
      "  perp = [np.prod(s)**(-1/len(s)) for s in scores]\n"
     ]
    },
    {
     "name": "stderr",
     "output_type": "stream",
     "text": [
      "Finished epoch 38 of 1000; error is 101.60731077194214/Users/cwolff/Documents/cs224u/torch_color_describer.py:680: RuntimeWarning: divide by zero encountered in power\n",
      "  perp = [np.prod(s)**(-1/len(s)) for s in scores]\n",
      "Finished epoch 39 of 1000; error is 99.94784259796143/Users/cwolff/Documents/cs224u/torch_color_describer.py:680: RuntimeWarning: divide by zero encountered in power\n",
      "  perp = [np.prod(s)**(-1/len(s)) for s in scores]\n",
      "Finished epoch 40 of 1000; error is 98.32935881614685/Users/cwolff/Documents/cs224u/torch_color_describer.py:680: RuntimeWarning: divide by zero encountered in power\n",
      "  perp = [np.prod(s)**(-1/len(s)) for s in scores]\n",
      "Finished epoch 41 of 1000; error is 97.06661677360535/Users/cwolff/Documents/cs224u/torch_color_describer.py:680: RuntimeWarning: divide by zero encountered in power\n",
      "  perp = [np.prod(s)**(-1/len(s)) for s in scores]\n",
      "Finished epoch 42 of 1000; error is 95.26907634735107/Users/cwolff/Documents/cs224u/torch_color_describer.py:680: RuntimeWarning: divide by zero encountered in power\n",
      "  perp = [np.prod(s)**(-1/len(s)) for s in scores]\n",
      "Finished epoch 43 of 1000; error is 93.86754989624023/Users/cwolff/Documents/cs224u/torch_color_describer.py:680: RuntimeWarning: divide by zero encountered in power\n",
      "  perp = [np.prod(s)**(-1/len(s)) for s in scores]\n",
      "Finished epoch 44 of 1000; error is 92.51516389846802/Users/cwolff/Documents/cs224u/torch_color_describer.py:680: RuntimeWarning: divide by zero encountered in power\n",
      "  perp = [np.prod(s)**(-1/len(s)) for s in scores]\n",
      "Finished epoch 45 of 1000; error is 90.59918856620789/Users/cwolff/Documents/cs224u/torch_color_describer.py:680: RuntimeWarning: divide by zero encountered in power\n",
      "  perp = [np.prod(s)**(-1/len(s)) for s in scores]\n",
      "Finished epoch 46 of 1000; error is 89.17357015609741/Users/cwolff/Documents/cs224u/torch_color_describer.py:680: RuntimeWarning: divide by zero encountered in power\n",
      "  perp = [np.prod(s)**(-1/len(s)) for s in scores]\n",
      "Finished epoch 47 of 1000; error is 87.89980888366699/Users/cwolff/Documents/cs224u/torch_color_describer.py:680: RuntimeWarning: divide by zero encountered in power\n",
      "  perp = [np.prod(s)**(-1/len(s)) for s in scores]\n",
      "Finished epoch 48 of 1000; error is 86.33968186378479/Users/cwolff/Documents/cs224u/torch_color_describer.py:680: RuntimeWarning: divide by zero encountered in power\n",
      "  perp = [np.prod(s)**(-1/len(s)) for s in scores]\n",
      "Finished epoch 49 of 1000; error is 84.92479586601257/Users/cwolff/Documents/cs224u/torch_color_describer.py:680: RuntimeWarning: divide by zero encountered in power\n",
      "  perp = [np.prod(s)**(-1/len(s)) for s in scores]\n",
      "Finished epoch 50 of 1000; error is 83.36097311973572/Users/cwolff/Documents/cs224u/torch_color_describer.py:680: RuntimeWarning: divide by zero encountered in power\n",
      "  perp = [np.prod(s)**(-1/len(s)) for s in scores]\n",
      "Finished epoch 51 of 1000; error is 81.87611627578735/Users/cwolff/Documents/cs224u/torch_color_describer.py:680: RuntimeWarning: divide by zero encountered in power\n",
      "  perp = [np.prod(s)**(-1/len(s)) for s in scores]\n",
      "Finished epoch 52 of 1000; error is 80.47374939918518/Users/cwolff/Documents/cs224u/torch_color_describer.py:680: RuntimeWarning: divide by zero encountered in power\n",
      "  perp = [np.prod(s)**(-1/len(s)) for s in scores]\n",
      "Finished epoch 53 of 1000; error is 78.98404788970947/Users/cwolff/Documents/cs224u/torch_color_describer.py:680: RuntimeWarning: divide by zero encountered in power\n",
      "  perp = [np.prod(s)**(-1/len(s)) for s in scores]\n",
      "Finished epoch 54 of 1000; error is 77.62969207763672/Users/cwolff/Documents/cs224u/torch_color_describer.py:680: RuntimeWarning: divide by zero encountered in power\n",
      "  perp = [np.prod(s)**(-1/len(s)) for s in scores]\n",
      "Finished epoch 55 of 1000; error is 75.9592010974884/Users/cwolff/Documents/cs224u/torch_color_describer.py:680: RuntimeWarning: divide by zero encountered in power\n",
      "  perp = [np.prod(s)**(-1/len(s)) for s in scores]\n",
      "Finished epoch 56 of 1000; error is 74.83040857315063/Users/cwolff/Documents/cs224u/torch_color_describer.py:680: RuntimeWarning: divide by zero encountered in power\n",
      "  perp = [np.prod(s)**(-1/len(s)) for s in scores]\n",
      "Finished epoch 57 of 1000; error is 73.52735304832458/Users/cwolff/Documents/cs224u/torch_color_describer.py:680: RuntimeWarning: divide by zero encountered in power\n",
      "  perp = [np.prod(s)**(-1/len(s)) for s in scores]\n",
      "Finished epoch 58 of 1000; error is 72.06132411956787/Users/cwolff/Documents/cs224u/torch_color_describer.py:680: RuntimeWarning: divide by zero encountered in power\n",
      "  perp = [np.prod(s)**(-1/len(s)) for s in scores]\n",
      "Finished epoch 59 of 1000; error is 70.50674748420715/Users/cwolff/Documents/cs224u/torch_color_describer.py:680: RuntimeWarning: divide by zero encountered in power\n",
      "  perp = [np.prod(s)**(-1/len(s)) for s in scores]\n",
      "Finished epoch 60 of 1000; error is 69.22920250892639/Users/cwolff/Documents/cs224u/torch_color_describer.py:680: RuntimeWarning: divide by zero encountered in power\n",
      "  perp = [np.prod(s)**(-1/len(s)) for s in scores]\n",
      "Finished epoch 61 of 1000; error is 67.81649971008301/Users/cwolff/Documents/cs224u/torch_color_describer.py:680: RuntimeWarning: divide by zero encountered in power\n",
      "  perp = [np.prod(s)**(-1/len(s)) for s in scores]\n",
      "Finished epoch 62 of 1000; error is 66.45675420761108/Users/cwolff/Documents/cs224u/torch_color_describer.py:680: RuntimeWarning: divide by zero encountered in power\n",
      "  perp = [np.prod(s)**(-1/len(s)) for s in scores]\n",
      "Finished epoch 63 of 1000; error is 65.03892588615417/Users/cwolff/Documents/cs224u/torch_color_describer.py:680: RuntimeWarning: divide by zero encountered in power\n",
      "  perp = [np.prod(s)**(-1/len(s)) for s in scores]\n",
      "Finished epoch 64 of 1000; error is 63.83547329902649/Users/cwolff/Documents/cs224u/torch_color_describer.py:680: RuntimeWarning: divide by zero encountered in power\n",
      "  perp = [np.prod(s)**(-1/len(s)) for s in scores]\n",
      "Finished epoch 65 of 1000; error is 62.496129751205444/Users/cwolff/Documents/cs224u/torch_color_describer.py:680: RuntimeWarning: divide by zero encountered in power\n",
      "  perp = [np.prod(s)**(-1/len(s)) for s in scores]\n",
      "Finished epoch 66 of 1000; error is 61.182122588157654/Users/cwolff/Documents/cs224u/torch_color_describer.py:680: RuntimeWarning: divide by zero encountered in power\n",
      "  perp = [np.prod(s)**(-1/len(s)) for s in scores]\n",
      "Finished epoch 67 of 1000; error is 59.93878710269928/Users/cwolff/Documents/cs224u/torch_color_describer.py:680: RuntimeWarning: divide by zero encountered in power\n",
      "  perp = [np.prod(s)**(-1/len(s)) for s in scores]\n",
      "Finished epoch 68 of 1000; error is 58.69003665447235/Users/cwolff/Documents/cs224u/torch_color_describer.py:680: RuntimeWarning: divide by zero encountered in power\n",
      "  perp = [np.prod(s)**(-1/len(s)) for s in scores]\n",
      "Finished epoch 69 of 1000; error is 57.4453547000885/Users/cwolff/Documents/cs224u/torch_color_describer.py:680: RuntimeWarning: divide by zero encountered in power\n",
      "  perp = [np.prod(s)**(-1/len(s)) for s in scores]\n",
      "Finished epoch 70 of 1000; error is 56.2157381772995/Users/cwolff/Documents/cs224u/torch_color_describer.py:680: RuntimeWarning: divide by zero encountered in power\n",
      "  perp = [np.prod(s)**(-1/len(s)) for s in scores]\n",
      "Finished epoch 71 of 1000; error is 54.98436260223389/Users/cwolff/Documents/cs224u/torch_color_describer.py:680: RuntimeWarning: divide by zero encountered in power\n",
      "  perp = [np.prod(s)**(-1/len(s)) for s in scores]\n",
      "Finished epoch 72 of 1000; error is 53.79405975341797/Users/cwolff/Documents/cs224u/torch_color_describer.py:680: RuntimeWarning: divide by zero encountered in power\n",
      "  perp = [np.prod(s)**(-1/len(s)) for s in scores]\n",
      "Finished epoch 73 of 1000; error is 52.63231980800629/Users/cwolff/Documents/cs224u/torch_color_describer.py:680: RuntimeWarning: divide by zero encountered in power\n",
      "  perp = [np.prod(s)**(-1/len(s)) for s in scores]\n",
      "Finished epoch 74 of 1000; error is 51.46389591693878/Users/cwolff/Documents/cs224u/torch_color_describer.py:680: RuntimeWarning: divide by zero encountered in power\n",
      "  perp = [np.prod(s)**(-1/len(s)) for s in scores]\n",
      "Finished epoch 75 of 1000; error is 50.35326910018921/Users/cwolff/Documents/cs224u/torch_color_describer.py:680: RuntimeWarning: divide by zero encountered in power\n",
      "  perp = [np.prod(s)**(-1/len(s)) for s in scores]\n"
     ]
    },
    {
     "name": "stderr",
     "output_type": "stream",
     "text": [
      "Stopping after epoch 76. Validation score did not improve by tol=1e-05 for more than 10 epochs. Final error is 49.2242968082428/Users/cwolff/Documents/cs224u/torch_color_describer.py:680: RuntimeWarning: divide by zero encountered in power\n",
      "  perp = [np.prod(s)**(-1/len(s)) for s in scores]\n"
     ]
    },
    {
     "name": "stdout",
     "output_type": "stream",
     "text": [
      "Bakeoff model:\n",
      "Listener accuracy: 0.8342837688313899\n",
      "BLEU: 0.487740744889098\n"
     ]
    }
   ],
   "source": [
    "# PLEASE MAKE SURE TO INCLUDE THE FOLLOWING BETWEEN THE START AND STOP COMMENTS:\n",
    "#   1) Textual description of your system.\n",
    "#   2) The code for your original system.\n",
    "#   3) The score achieved by your system in place of MY_NUMBER.\n",
    "#        With no other changes to that line.\n",
    "#        You should report your score as a decimal value <=1.0\n",
    "# PLEASE MAKE SURE NOT TO DELETE OR EDIT THE START AND STOP COMMENTS\n",
    "\n",
    "# NOTE: MODULES, CODE AND DATASETS REQUIRED FOR YOUR ORIGINAL SYSTEM\n",
    "# SHOULD BE ADDED BELOW THE 'IS_GRADESCOPE_ENV' CHECK CONDITION. DOING\n",
    "# SO ABOVE THE CHECK MAY CAUSE THE AUTOGRADER TO FAIL.\n",
    "\n",
    "# START COMMENT: Enter your system description in this cell.\n",
    "# Final system description:\n",
    "# - Our tokenizer replaces special tokens, removes meaningless phrases, splits\n",
    "#   the endings \"er\" \"est\" and \"ish\" into special tokens, and converts all\n",
    "#   words that appear less than 20 times into `UNK_SYMBOL`. We also fix many\n",
    "#   spelling mistakes that we found in the dev train corpus.\n",
    "# - After tokenization, we remove the training examples that only contain unknowns.\n",
    "# - Our color representation uses Fourier features, similar to Monroe et al. 2016.\n",
    "# = Our encoder and decoder are both 2 layer GRUs with a hidden dim of 50.\n",
    "# - After hill climbing to this final model, we train on the full dev set, that\n",
    "#   includes all descriptions, not just the 2 word ones.\n",
    "#\n",
    "# Other things we tried:\n",
    "# - We tried using Glove embeddings but found that they were not helpful.\n",
    "# - We experimented with different model sizes (1 layer, 3 layers) and LSTMs.\n",
    "# = We tried different tokenization strategies, e.g. cutoffs for frequent word\n",
    "#   count.\n",
    "# - We experimented with different optimizers and learning rates. RMSprop and\n",
    "#   SGD both performed worse than Adam. We found that a learning rate of 0.001\n",
    "#   worked well with Adam.\n",
    "#\n",
    "# My peak score was: 0.8343\n",
    "\n",
    "from torch_color_describer import Decoder\n",
    "from torch_color_describer import Encoder\n",
    "from torch_color_describer import EncoderDecoder\n",
    "import torch\n",
    "import torch.nn as nn\n",
    "\n",
    "\n",
    "class BakeoffEncoder(Encoder):\n",
    "    def __init__(self, *args, num_layers=1, **kwargs):\n",
    "        super().__init__(*args, **kwargs)\n",
    "        self.num_layers = num_layers\n",
    "        self.rnn = nn.GRU(\n",
    "            input_size=self.color_dim,\n",
    "            hidden_size=self.hidden_dim,\n",
    "            num_layers=self.num_layers,\n",
    "            batch_first=True)\n",
    "\n",
    "\n",
    "class BakeoffDecoder(Decoder):\n",
    "    def __init__(self, color_dim, *args, num_layers=1, **kwargs):\n",
    "        super().__init__(*args, **kwargs)\n",
    "        self.color_dim = color_dim\n",
    "        self.num_layers = num_layers\n",
    "\n",
    "        # Fix the `self.rnn` attribute:\n",
    "        self.rnn = nn.GRU(\n",
    "            input_size=self.embed_dim + color_dim,\n",
    "            hidden_size=self.hidden_dim,\n",
    "            num_layers=self.num_layers,\n",
    "            batch_first=True)\n",
    "\n",
    "    def get_embeddings(self, word_seqs, target_colors=None):\n",
    "        m, n = word_seqs.shape\n",
    "        embs = self.embedding(word_seqs)\n",
    "        colors_interleaved = torch.repeat_interleave(target_colors, n, dim=0)\n",
    "        colors_interleaved = colors_interleaved.reshape(m, n, self.color_dim)\n",
    "        output = torch.cat([embs, colors_interleaved], dim=2)\n",
    "        return output\n",
    "\n",
    "\n",
    "class BakeoffEncoderDecoder(EncoderDecoder):\n",
    "    def __init__(self, encoder, decoder, pdrop):\n",
    "        super().__init__(encoder, decoder)\n",
    "        self.dropout = nn.Dropout(pdrop)\n",
    "\n",
    "    def forward(self,\n",
    "            color_seqs,\n",
    "            word_seqs,\n",
    "            seq_lengths=None,\n",
    "            hidden=None,\n",
    "            targets=None):\n",
    "        if hidden is None:\n",
    "            hidden = self.encoder(color_seqs)\n",
    "\n",
    "        # Extract the target colors from `color_seqs` and\n",
    "        # feed them to the decoder, which already has a\n",
    "        # `target_colors` keyword.\n",
    "        \n",
    "        hidden = self.dropout(hidden)\n",
    "\n",
    "        target_colors = color_seqs[:, -1, :]\n",
    "        output, hidden = self.decoder(word_seqs, seq_lengths=seq_lengths, hidden=hidden, target_colors=target_colors)\n",
    "\n",
    "        # Your decoder will return `output, hidden` pairs; the\n",
    "        # following will handle the two return situations that\n",
    "        # the code needs to consider -- training and prediction.\n",
    "        if self.training:\n",
    "            return output\n",
    "        else:\n",
    "            return output, hidden\n",
    "\n",
    "\n",
    "class BakeoffDescriber(ContextualColorDescriber):\n",
    "    \n",
    "    def __init__(self, *args, num_layers=1, pdrop=0.0, **kwargs):\n",
    "        super().__init__(*args, **kwargs)\n",
    "        self.num_layers = num_layers\n",
    "        self.pdrop = pdrop\n",
    "\n",
    "    def build_graph(self):\n",
    "        # We didn't modify the encoder, so this is\n",
    "        # just copied over from the original:\n",
    "        encoder = BakeoffEncoder(\n",
    "            num_layers=self.num_layers,\n",
    "            color_dim=self.color_dim,\n",
    "            hidden_dim=self.hidden_dim)\n",
    "\n",
    "        # Use your `ColorContextDecoder`, making sure\n",
    "        # to pass in all the keyword arguments coming\n",
    "        # from `ColorizedInputDescriber`:\n",
    "\n",
    "        decoder = BakeoffDecoder(\n",
    "            num_layers=self.num_layers,\n",
    "            color_dim=self.color_dim,\n",
    "            vocab_size=self.vocab_size,\n",
    "            embed_dim=self.embed_dim,\n",
    "            hidden_dim=self.hidden_dim,\n",
    "            embedding=self.embedding,\n",
    "            freeze_embedding=self.freeze_embedding,\n",
    "        )\n",
    "\n",
    "        # Return a `ColorizedEncoderDecoder` that uses\n",
    "        # your encoder and decoder:\n",
    "        return BakeoffEncoderDecoder(encoder, decoder, self.pdrop)\n",
    "\n",
    "\n",
    "if 'IS_GRADESCOPE_ENV' not in os.environ:\n",
    "#     base_model = ContextualColorDescriber(\n",
    "#         dev_vocab,\n",
    "#         early_stopping=True)\n",
    "#     base_model.fit(dev_cols_train, dev_seqs_train)\n",
    "#     base_eval = base_model.evaluate(dev_cols_test, dev_seqs_test)\n",
    "#     print(f\"Base model:\")\n",
    "#     print(f\"Listener accuracy: {base_eval['listener_accuracy']}\")\n",
    "#     print(f\"BLEU: {base_eval['corpus_bleu']}\")\n",
    "\n",
    "    bakeoff_model = BakeoffDescriber(\n",
    "        dev_vocab,\n",
    "        num_layers=2,\n",
    "        pdrop=0.2,\n",
    "        early_stopping=True,\n",
    "    )\n",
    "    bakeoff_model.fit(dev_cols_train, dev_seqs_train)\n",
    "    bakeoff_eval = bakeoff_model.evaluate(dev_cols_test, dev_seqs_test)\n",
    "    print(f\"Bakeoff model:\")\n",
    "    print(f\"Listener accuracy: {bakeoff_eval['listener_accuracy']}\")\n",
    "    print(f\"BLEU: {bakeoff_eval['corpus_bleu']}\")\n",
    "\n",
    "# STOP COMMENT: Please do not remove this comment."
   ]
  },
  {
   "cell_type": "markdown",
   "metadata": {},
   "source": [
    "## Bakeoff [1 point]"
   ]
  },
  {
   "cell_type": "markdown",
   "metadata": {},
   "source": [
    "For the bake-off, we will use our original test set. The function you need to run for the submission is the following, which uses your `evaluate_original_system` from above:"
   ]
  },
  {
   "cell_type": "code",
   "execution_count": 252,
   "metadata": {},
   "outputs": [],
   "source": [
    "def create_bakeoff_submission(\n",
    "        trained_model,\n",
    "        output_filename='cs224u-colors-bakeoff-entry.csv'):\n",
    "    bakeoff_src_filename = os.path.join(\n",
    "        \"data\", \"colors\", \"cs224u-colors-test.csv\")\n",
    "\n",
    "    bakeoff_corpus = ColorsCorpusReader(bakeoff_src_filename)\n",
    "\n",
    "    # This code just extracts the colors and texts from the new corpus:\n",
    "    bakeoff_rawcols, bakeoff_texts = zip(*[\n",
    "        [ex.colors, ex.contents] for ex in bakeoff_corpus.read()])\n",
    "\n",
    "    # Original system function call; `trained_model` is your trained model:\n",
    "    evaluation = evaluate_original_system(\n",
    "        trained_model, bakeoff_rawcols, bakeoff_texts)\n",
    "\n",
    "    evaluation['bakeoff_text'] = bakeoff_texts\n",
    "\n",
    "    df = pd.DataFrame(evaluation)\n",
    "    df.to_csv(output_filename)"
   ]
  },
  {
   "cell_type": "code",
   "execution_count": 253,
   "metadata": {},
   "outputs": [],
   "source": [
    "# This check ensure that the following code only runs on the local environment only.\n",
    "# The following call will not be run on the autograder environment.\n",
    "if 'IS_GRADESCOPE_ENV' not in os.environ:\n",
    "    pass\n",
    "    create_bakeoff_submission(bakeoff_model)"
   ]
  },
  {
   "cell_type": "markdown",
   "metadata": {},
   "source": [
    "This creates a file `cs224u-colors-bakeoff-entry.csv` in the current directory. That file should be uploaded as-is. Please do not change its name.\n",
    "\n",
    "Only one upload per team is permitted, and you should do no tuning of your system based on what you see in the file – you should not study that file in anyway, beyond perhaps checking that it contains what you expected it to contain. The upload function will do some additional checking to ensure that your file is well-formed.\n",
    "\n",
    "The nature of our evaluation is such that we have to release the full test set with all labels. Thus, we have to trust you not to make any use of the test set during development. Recall:\n",
    "\n",
    "1. Only one evaluation is permitted.\n",
    "1. No additional system tuning is permitted once the bake-off has started.\n",
    "\n",
    "Systems will be ranked primarily by `listener_accuracy`, but we will also consider their `corpus_bleu` scores. However, the BLEU score is just a simple check that your system is speaking some version of English that corresponds in some meaningful way to the gold descriptions, so you should concentrate on `listener_accuracy`.\n",
    "\n",
    "People who enter will receive the additional homework point, and people whose systems achieve the top score will receive an additional 0.5 points. We will test the top-performing systems ourselves, and only systems for which we can reproduce the reported results will win the extra 0.5 points.\n",
    "\n",
    "Late entries will be accepted, but they cannot earn the extra 0.5 points."
   ]
  },
  {
   "cell_type": "markdown",
   "metadata": {},
   "source": [
    "## Submission Instruction\n",
    "\n",
    "Review and follow the [Homework and bake-off code: Formatting guide](hw_formatting_guide.ipynb).\n",
    "Please do not change the file name as described below.\n",
    "\n",
    "Submit the following files to Gradescope:\n",
    "\n",
    "- `hw_colors.ipynb` (this notebook)\n",
    "- `cs224u-colors-bakeoff-entry.csv` (bake-off output)"
   ]
  }
 ],
 "metadata": {
  "kernelspec": {
   "display_name": "Python 3 (ipykernel)",
   "language": "python",
   "name": "python3"
  },
  "language_info": {
   "codemirror_mode": {
    "name": "ipython",
    "version": 3
   },
   "file_extension": ".py",
   "mimetype": "text/x-python",
   "name": "python",
   "nbconvert_exporter": "python",
   "pygments_lexer": "ipython3",
   "version": "3.9.7"
  }
 },
 "nbformat": 4,
 "nbformat_minor": 4
}
